{
  "nbformat": 4,
  "nbformat_minor": 0,
  "metadata": {
    "kernelspec": {
      "display_name": "Python 3",
      "language": "python",
      "name": "python3"
    },
    "language_info": {
      "codemirror_mode": {
        "name": "ipython",
        "version": 3
      },
      "file_extension": ".py",
      "mimetype": "text/x-python",
      "name": "python",
      "nbconvert_exporter": "python",
      "pygments_lexer": "ipython3",
      "version": "3.7.6"
    },
    "colab": {
      "name": "zomato-spatial-analysis.ipynb",
      "provenance": [],
      "collapsed_sections": []
    }
  },
  "cells": [
    {
      "cell_type": "code",
      "metadata": {
        "id": "rPr0DuT4ok0W"
      },
      "source": [
        "import pandas as pd\n",
        "import numpy as np\n",
        "import seaborn as sns\n",
        "import warnings\n",
        "warnings.filterwarnings('ignore')"
      ],
      "execution_count": null,
      "outputs": []
    },
    {
      "cell_type": "code",
      "metadata": {
        "id": "G0aVSa15ok0h",
        "outputId": "da9d0544-7f54-43f6-fc70-a9c1f2107a6b"
      },
      "source": [
        "df=pd.read_csv('E:\\Certificates/zomato.csv')\n",
        "df.head()"
      ],
      "execution_count": null,
      "outputs": [
        {
          "output_type": "execute_result",
          "data": {
            "text/html": [
              "<div>\n",
              "<style scoped>\n",
              "    .dataframe tbody tr th:only-of-type {\n",
              "        vertical-align: middle;\n",
              "    }\n",
              "\n",
              "    .dataframe tbody tr th {\n",
              "        vertical-align: top;\n",
              "    }\n",
              "\n",
              "    .dataframe thead th {\n",
              "        text-align: right;\n",
              "    }\n",
              "</style>\n",
              "<table border=\"1\" class=\"dataframe\">\n",
              "  <thead>\n",
              "    <tr style=\"text-align: right;\">\n",
              "      <th></th>\n",
              "      <th>url</th>\n",
              "      <th>address</th>\n",
              "      <th>name</th>\n",
              "      <th>online_order</th>\n",
              "      <th>book_table</th>\n",
              "      <th>rate</th>\n",
              "      <th>votes</th>\n",
              "      <th>phone</th>\n",
              "      <th>location</th>\n",
              "      <th>rest_type</th>\n",
              "      <th>dish_liked</th>\n",
              "      <th>cuisines</th>\n",
              "      <th>approx_cost(for two people)</th>\n",
              "      <th>reviews_list</th>\n",
              "      <th>menu_item</th>\n",
              "      <th>listed_in(type)</th>\n",
              "      <th>listed_in(city)</th>\n",
              "    </tr>\n",
              "  </thead>\n",
              "  <tbody>\n",
              "    <tr>\n",
              "      <th>0</th>\n",
              "      <td>https://www.zomato.com/bangalore/jalsa-banasha...</td>\n",
              "      <td>942, 21st Main Road, 2nd Stage, Banashankari, ...</td>\n",
              "      <td>Jalsa</td>\n",
              "      <td>Yes</td>\n",
              "      <td>Yes</td>\n",
              "      <td>4.1/5</td>\n",
              "      <td>775</td>\n",
              "      <td>080 42297555\\r\\n+91 9743772233</td>\n",
              "      <td>Banashankari</td>\n",
              "      <td>Casual Dining</td>\n",
              "      <td>Pasta, Lunch Buffet, Masala Papad, Paneer Laja...</td>\n",
              "      <td>North Indian, Mughlai, Chinese</td>\n",
              "      <td>800</td>\n",
              "      <td>[('Rated 4.0', 'RATED\\n  A beautiful place to ...</td>\n",
              "      <td>[]</td>\n",
              "      <td>Buffet</td>\n",
              "      <td>Banashankari</td>\n",
              "    </tr>\n",
              "    <tr>\n",
              "      <th>1</th>\n",
              "      <td>https://www.zomato.com/bangalore/spice-elephan...</td>\n",
              "      <td>2nd Floor, 80 Feet Road, Near Big Bazaar, 6th ...</td>\n",
              "      <td>Spice Elephant</td>\n",
              "      <td>Yes</td>\n",
              "      <td>No</td>\n",
              "      <td>4.1/5</td>\n",
              "      <td>787</td>\n",
              "      <td>080 41714161</td>\n",
              "      <td>Banashankari</td>\n",
              "      <td>Casual Dining</td>\n",
              "      <td>Momos, Lunch Buffet, Chocolate Nirvana, Thai G...</td>\n",
              "      <td>Chinese, North Indian, Thai</td>\n",
              "      <td>800</td>\n",
              "      <td>[('Rated 4.0', 'RATED\\n  Had been here for din...</td>\n",
              "      <td>[]</td>\n",
              "      <td>Buffet</td>\n",
              "      <td>Banashankari</td>\n",
              "    </tr>\n",
              "    <tr>\n",
              "      <th>2</th>\n",
              "      <td>https://www.zomato.com/SanchurroBangalore?cont...</td>\n",
              "      <td>1112, Next to KIMS Medical College, 17th Cross...</td>\n",
              "      <td>San Churro Cafe</td>\n",
              "      <td>Yes</td>\n",
              "      <td>No</td>\n",
              "      <td>3.8/5</td>\n",
              "      <td>918</td>\n",
              "      <td>+91 9663487993</td>\n",
              "      <td>Banashankari</td>\n",
              "      <td>Cafe, Casual Dining</td>\n",
              "      <td>Churros, Cannelloni, Minestrone Soup, Hot Choc...</td>\n",
              "      <td>Cafe, Mexican, Italian</td>\n",
              "      <td>800</td>\n",
              "      <td>[('Rated 3.0', \"RATED\\n  Ambience is not that ...</td>\n",
              "      <td>[]</td>\n",
              "      <td>Buffet</td>\n",
              "      <td>Banashankari</td>\n",
              "    </tr>\n",
              "    <tr>\n",
              "      <th>3</th>\n",
              "      <td>https://www.zomato.com/bangalore/addhuri-udupi...</td>\n",
              "      <td>1st Floor, Annakuteera, 3rd Stage, Banashankar...</td>\n",
              "      <td>Addhuri Udupi Bhojana</td>\n",
              "      <td>No</td>\n",
              "      <td>No</td>\n",
              "      <td>3.7/5</td>\n",
              "      <td>88</td>\n",
              "      <td>+91 9620009302</td>\n",
              "      <td>Banashankari</td>\n",
              "      <td>Quick Bites</td>\n",
              "      <td>Masala Dosa</td>\n",
              "      <td>South Indian, North Indian</td>\n",
              "      <td>300</td>\n",
              "      <td>[('Rated 4.0', \"RATED\\n  Great food and proper...</td>\n",
              "      <td>[]</td>\n",
              "      <td>Buffet</td>\n",
              "      <td>Banashankari</td>\n",
              "    </tr>\n",
              "    <tr>\n",
              "      <th>4</th>\n",
              "      <td>https://www.zomato.com/bangalore/grand-village...</td>\n",
              "      <td>10, 3rd Floor, Lakshmi Associates, Gandhi Baza...</td>\n",
              "      <td>Grand Village</td>\n",
              "      <td>No</td>\n",
              "      <td>No</td>\n",
              "      <td>3.8/5</td>\n",
              "      <td>166</td>\n",
              "      <td>+91 8026612447\\r\\n+91 9901210005</td>\n",
              "      <td>Basavanagudi</td>\n",
              "      <td>Casual Dining</td>\n",
              "      <td>Panipuri, Gol Gappe</td>\n",
              "      <td>North Indian, Rajasthani</td>\n",
              "      <td>600</td>\n",
              "      <td>[('Rated 4.0', 'RATED\\n  Very good restaurant ...</td>\n",
              "      <td>[]</td>\n",
              "      <td>Buffet</td>\n",
              "      <td>Banashankari</td>\n",
              "    </tr>\n",
              "  </tbody>\n",
              "</table>\n",
              "</div>"
            ],
            "text/plain": [
              "                                                 url  \\\n",
              "0  https://www.zomato.com/bangalore/jalsa-banasha...   \n",
              "1  https://www.zomato.com/bangalore/spice-elephan...   \n",
              "2  https://www.zomato.com/SanchurroBangalore?cont...   \n",
              "3  https://www.zomato.com/bangalore/addhuri-udupi...   \n",
              "4  https://www.zomato.com/bangalore/grand-village...   \n",
              "\n",
              "                                             address                   name  \\\n",
              "0  942, 21st Main Road, 2nd Stage, Banashankari, ...                  Jalsa   \n",
              "1  2nd Floor, 80 Feet Road, Near Big Bazaar, 6th ...         Spice Elephant   \n",
              "2  1112, Next to KIMS Medical College, 17th Cross...        San Churro Cafe   \n",
              "3  1st Floor, Annakuteera, 3rd Stage, Banashankar...  Addhuri Udupi Bhojana   \n",
              "4  10, 3rd Floor, Lakshmi Associates, Gandhi Baza...          Grand Village   \n",
              "\n",
              "  online_order book_table   rate  votes                             phone  \\\n",
              "0          Yes        Yes  4.1/5    775    080 42297555\\r\\n+91 9743772233   \n",
              "1          Yes         No  4.1/5    787                      080 41714161   \n",
              "2          Yes         No  3.8/5    918                    +91 9663487993   \n",
              "3           No         No  3.7/5     88                    +91 9620009302   \n",
              "4           No         No  3.8/5    166  +91 8026612447\\r\\n+91 9901210005   \n",
              "\n",
              "       location            rest_type  \\\n",
              "0  Banashankari        Casual Dining   \n",
              "1  Banashankari        Casual Dining   \n",
              "2  Banashankari  Cafe, Casual Dining   \n",
              "3  Banashankari          Quick Bites   \n",
              "4  Basavanagudi        Casual Dining   \n",
              "\n",
              "                                          dish_liked  \\\n",
              "0  Pasta, Lunch Buffet, Masala Papad, Paneer Laja...   \n",
              "1  Momos, Lunch Buffet, Chocolate Nirvana, Thai G...   \n",
              "2  Churros, Cannelloni, Minestrone Soup, Hot Choc...   \n",
              "3                                        Masala Dosa   \n",
              "4                                Panipuri, Gol Gappe   \n",
              "\n",
              "                         cuisines approx_cost(for two people)  \\\n",
              "0  North Indian, Mughlai, Chinese                         800   \n",
              "1     Chinese, North Indian, Thai                         800   \n",
              "2          Cafe, Mexican, Italian                         800   \n",
              "3      South Indian, North Indian                         300   \n",
              "4        North Indian, Rajasthani                         600   \n",
              "\n",
              "                                        reviews_list menu_item  \\\n",
              "0  [('Rated 4.0', 'RATED\\n  A beautiful place to ...        []   \n",
              "1  [('Rated 4.0', 'RATED\\n  Had been here for din...        []   \n",
              "2  [('Rated 3.0', \"RATED\\n  Ambience is not that ...        []   \n",
              "3  [('Rated 4.0', \"RATED\\n  Great food and proper...        []   \n",
              "4  [('Rated 4.0', 'RATED\\n  Very good restaurant ...        []   \n",
              "\n",
              "  listed_in(type) listed_in(city)  \n",
              "0          Buffet    Banashankari  \n",
              "1          Buffet    Banashankari  \n",
              "2          Buffet    Banashankari  \n",
              "3          Buffet    Banashankari  \n",
              "4          Buffet    Banashankari  "
            ]
          },
          "metadata": {
            "tags": []
          },
          "execution_count": 2
        }
      ]
    },
    {
      "cell_type": "code",
      "metadata": {
        "id": "_ybP4e1_ok0j",
        "outputId": "e2eff7dd-1f3e-40f2-ce2e-dfcd3fec4587"
      },
      "source": [
        "#to check missing values\n",
        "\n",
        "df.isna().sum()"
      ],
      "execution_count": null,
      "outputs": [
        {
          "output_type": "execute_result",
          "data": {
            "text/plain": [
              "url                                0\n",
              "address                            0\n",
              "name                               0\n",
              "online_order                       0\n",
              "book_table                         0\n",
              "rate                            7775\n",
              "votes                              0\n",
              "phone                           1208\n",
              "location                          21\n",
              "rest_type                        227\n",
              "dish_liked                     28078\n",
              "cuisines                          45\n",
              "approx_cost(for two people)      346\n",
              "reviews_list                       0\n",
              "menu_item                          0\n",
              "listed_in(type)                    0\n",
              "listed_in(city)                    0\n",
              "dtype: int64"
            ]
          },
          "metadata": {
            "tags": []
          },
          "execution_count": 3
        }
      ]
    },
    {
      "cell_type": "code",
      "metadata": {
        "id": "jQxyiMrkok0k"
      },
      "source": [
        "#dropping location column \n",
        "\n",
        "df.dropna(axis=0,subset=['location'],inplace=True)"
      ],
      "execution_count": null,
      "outputs": []
    },
    {
      "cell_type": "code",
      "metadata": {
        "id": "T0P4LdQRok0m",
        "outputId": "e6a442a4-1525-4251-ebdf-e373ce727bf1"
      },
      "source": [
        "df.isna().sum()"
      ],
      "execution_count": null,
      "outputs": [
        {
          "output_type": "execute_result",
          "data": {
            "text/plain": [
              "url                                0\n",
              "address                            0\n",
              "name                               0\n",
              "online_order                       0\n",
              "book_table                         0\n",
              "rate                            7754\n",
              "votes                              0\n",
              "phone                           1187\n",
              "location                           0\n",
              "rest_type                        206\n",
              "dish_liked                     28057\n",
              "cuisines                          24\n",
              "approx_cost(for two people)      325\n",
              "reviews_list                       0\n",
              "menu_item                          0\n",
              "listed_in(type)                    0\n",
              "listed_in(city)                    0\n",
              "dtype: int64"
            ]
          },
          "metadata": {
            "tags": []
          },
          "execution_count": 5
        }
      ]
    },
    {
      "cell_type": "code",
      "metadata": {
        "id": "ja4NywQGok0m",
        "outputId": "1b302a45-a342-4c01-b2b1-d4c16910157c"
      },
      "source": [
        "df['location'].unique()"
      ],
      "execution_count": null,
      "outputs": [
        {
          "output_type": "execute_result",
          "data": {
            "text/plain": [
              "array(['Banashankari', 'Basavanagudi', 'Mysore Road', 'Jayanagar',\n",
              "       'Kumaraswamy Layout', 'Rajarajeshwari Nagar', 'Vijay Nagar',\n",
              "       'Uttarahalli', 'JP Nagar', 'South Bangalore', 'City Market',\n",
              "       'Nagarbhavi', 'Bannerghatta Road', 'BTM', 'Kanakapura Road',\n",
              "       'Bommanahalli', 'CV Raman Nagar', 'Electronic City', 'HSR',\n",
              "       'Marathahalli', 'Sarjapur Road', 'Wilson Garden', 'Shanti Nagar',\n",
              "       'Koramangala 5th Block', 'Koramangala 8th Block', 'Richmond Road',\n",
              "       'Koramangala 7th Block', 'Jalahalli', 'Koramangala 4th Block',\n",
              "       'Bellandur', 'Whitefield', 'East Bangalore', 'Old Airport Road',\n",
              "       'Indiranagar', 'Koramangala 1st Block', 'Frazer Town', 'RT Nagar',\n",
              "       'MG Road', 'Brigade Road', 'Lavelle Road', 'Church Street',\n",
              "       'Ulsoor', 'Residency Road', 'Shivajinagar', 'Infantry Road',\n",
              "       'St. Marks Road', 'Cunningham Road', 'Race Course Road',\n",
              "       'Commercial Street', 'Vasanth Nagar', 'HBR Layout', 'Domlur',\n",
              "       'Ejipura', 'Jeevan Bhima Nagar', 'Old Madras Road', 'Malleshwaram',\n",
              "       'Seshadripuram', 'Kammanahalli', 'Koramangala 6th Block',\n",
              "       'Majestic', 'Langford Town', 'Central Bangalore', 'Sanjay Nagar',\n",
              "       'Brookefield', 'ITPL Main Road, Whitefield',\n",
              "       'Varthur Main Road, Whitefield', 'KR Puram',\n",
              "       'Koramangala 2nd Block', 'Koramangala 3rd Block', 'Koramangala',\n",
              "       'Hosur Road', 'Rajajinagar', 'Banaswadi', 'North Bangalore',\n",
              "       'Nagawara', 'Hennur', 'Kalyan Nagar', 'New BEL Road', 'Jakkur',\n",
              "       'Rammurthy Nagar', 'Thippasandra', 'Kaggadasapura', 'Hebbal',\n",
              "       'Kengeri', 'Sankey Road', 'Sadashiv Nagar', 'Basaveshwara Nagar',\n",
              "       'Yeshwantpur', 'West Bangalore', 'Magadi Road', 'Yelahanka',\n",
              "       'Sahakara Nagar', 'Peenya'], dtype=object)"
            ]
          },
          "metadata": {
            "tags": []
          },
          "execution_count": 6
        }
      ]
    },
    {
      "cell_type": "code",
      "metadata": {
        "id": "4Lz7kkHWok0n",
        "outputId": "28472dad-ac49-4000-af13-d8a69de7460f"
      },
      "source": [
        "len(df['location'].unique())"
      ],
      "execution_count": null,
      "outputs": [
        {
          "output_type": "execute_result",
          "data": {
            "text/plain": [
              "93"
            ]
          },
          "metadata": {
            "tags": []
          },
          "execution_count": 7
        }
      ]
    },
    {
      "cell_type": "code",
      "metadata": {
        "id": "OpQaAQEAok0o",
        "outputId": "b0e4cd02-33a5-4b26-dc38-b3b263025ffd"
      },
      "source": [
        "locations=pd.DataFrame()\n",
        "\n",
        "locations['name'] = df['location'].unique()\n",
        "\n",
        "locations.head()"
      ],
      "execution_count": null,
      "outputs": [
        {
          "output_type": "execute_result",
          "data": {
            "text/html": [
              "<div>\n",
              "<style scoped>\n",
              "    .dataframe tbody tr th:only-of-type {\n",
              "        vertical-align: middle;\n",
              "    }\n",
              "\n",
              "    .dataframe tbody tr th {\n",
              "        vertical-align: top;\n",
              "    }\n",
              "\n",
              "    .dataframe thead th {\n",
              "        text-align: right;\n",
              "    }\n",
              "</style>\n",
              "<table border=\"1\" class=\"dataframe\">\n",
              "  <thead>\n",
              "    <tr style=\"text-align: right;\">\n",
              "      <th></th>\n",
              "      <th>name</th>\n",
              "    </tr>\n",
              "  </thead>\n",
              "  <tbody>\n",
              "    <tr>\n",
              "      <th>0</th>\n",
              "      <td>Banashankari</td>\n",
              "    </tr>\n",
              "    <tr>\n",
              "      <th>1</th>\n",
              "      <td>Basavanagudi</td>\n",
              "    </tr>\n",
              "    <tr>\n",
              "      <th>2</th>\n",
              "      <td>Mysore Road</td>\n",
              "    </tr>\n",
              "    <tr>\n",
              "      <th>3</th>\n",
              "      <td>Jayanagar</td>\n",
              "    </tr>\n",
              "    <tr>\n",
              "      <th>4</th>\n",
              "      <td>Kumaraswamy Layout</td>\n",
              "    </tr>\n",
              "  </tbody>\n",
              "</table>\n",
              "</div>"
            ],
            "text/plain": [
              "                 name\n",
              "0        Banashankari\n",
              "1        Basavanagudi\n",
              "2         Mysore Road\n",
              "3           Jayanagar\n",
              "4  Kumaraswamy Layout"
            ]
          },
          "metadata": {
            "tags": []
          },
          "execution_count": 8
        }
      ]
    },
    {
      "cell_type": "code",
      "metadata": {
        "id": "1qoPJD9-ok0p",
        "outputId": "aecab39a-6455-4772-e6c2-efd1e2812393"
      },
      "source": [
        "pip install geopy\n"
      ],
      "execution_count": null,
      "outputs": [
        {
          "output_type": "stream",
          "text": [
            "Requirement already satisfied: geopy in d:\\ml\\anaconda\\lib\\site-packages (2.1.0)\n",
            "Requirement already satisfied: geographiclib<2,>=1.49 in d:\\ml\\anaconda\\lib\\site-packages (from geopy) (1.50)\n",
            "Note: you may need to restart the kernel to use updated packages.\n"
          ],
          "name": "stdout"
        }
      ]
    },
    {
      "cell_type": "code",
      "metadata": {
        "id": "08ax91ZRok0p"
      },
      "source": [
        "from geopy.geocoders import Nominatim"
      ],
      "execution_count": null,
      "outputs": []
    },
    {
      "cell_type": "code",
      "metadata": {
        "id": "D4k9JnMhok0q"
      },
      "source": [
        "geolocator = Nominatim(user_agent='app')"
      ],
      "execution_count": null,
      "outputs": []
    },
    {
      "cell_type": "code",
      "metadata": {
        "id": "SgeDCmRvok0s"
      },
      "source": [
        "lat=[]\n",
        "lon=[]\n",
        "\n",
        "for location in locations['name']:\n",
        "    loc=geolocator.geocode(location)\n",
        "    if loc is None:\n",
        "        lat.append(np.nan)\n",
        "        lon.append(np.nan)\n",
        "    else:\n",
        "        lat.append(loc.latitude)\n",
        "        lon.append(loc.longitude)"
      ],
      "execution_count": null,
      "outputs": []
    },
    {
      "cell_type": "code",
      "metadata": {
        "id": "DmpwWyw_ok0t",
        "outputId": "fce7d40e-79f8-4908-d963-9648bcb061d0"
      },
      "source": [
        "locations['lat']=lat\n",
        "locations['lon']=lon\n",
        "\n",
        "locations.head()"
      ],
      "execution_count": null,
      "outputs": [
        {
          "output_type": "execute_result",
          "data": {
            "text/html": [
              "<div>\n",
              "<style scoped>\n",
              "    .dataframe tbody tr th:only-of-type {\n",
              "        vertical-align: middle;\n",
              "    }\n",
              "\n",
              "    .dataframe tbody tr th {\n",
              "        vertical-align: top;\n",
              "    }\n",
              "\n",
              "    .dataframe thead th {\n",
              "        text-align: right;\n",
              "    }\n",
              "</style>\n",
              "<table border=\"1\" class=\"dataframe\">\n",
              "  <thead>\n",
              "    <tr style=\"text-align: right;\">\n",
              "      <th></th>\n",
              "      <th>name</th>\n",
              "      <th>lat</th>\n",
              "      <th>lon</th>\n",
              "    </tr>\n",
              "  </thead>\n",
              "  <tbody>\n",
              "    <tr>\n",
              "      <th>0</th>\n",
              "      <td>Banashankari</td>\n",
              "      <td>15.887678</td>\n",
              "      <td>75.704678</td>\n",
              "    </tr>\n",
              "    <tr>\n",
              "      <th>1</th>\n",
              "      <td>Basavanagudi</td>\n",
              "      <td>12.941726</td>\n",
              "      <td>77.575502</td>\n",
              "    </tr>\n",
              "    <tr>\n",
              "      <th>2</th>\n",
              "      <td>Mysore Road</td>\n",
              "      <td>12.387214</td>\n",
              "      <td>76.666963</td>\n",
              "    </tr>\n",
              "    <tr>\n",
              "      <th>3</th>\n",
              "      <td>Jayanagar</td>\n",
              "      <td>27.643927</td>\n",
              "      <td>83.052805</td>\n",
              "    </tr>\n",
              "    <tr>\n",
              "      <th>4</th>\n",
              "      <td>Kumaraswamy Layout</td>\n",
              "      <td>12.908149</td>\n",
              "      <td>77.555318</td>\n",
              "    </tr>\n",
              "  </tbody>\n",
              "</table>\n",
              "</div>"
            ],
            "text/plain": [
              "                 name        lat        lon\n",
              "0        Banashankari  15.887678  75.704678\n",
              "1        Basavanagudi  12.941726  77.575502\n",
              "2         Mysore Road  12.387214  76.666963\n",
              "3           Jayanagar  27.643927  83.052805\n",
              "4  Kumaraswamy Layout  12.908149  77.555318"
            ]
          },
          "metadata": {
            "tags": []
          },
          "execution_count": 13
        }
      ]
    },
    {
      "cell_type": "code",
      "metadata": {
        "id": "RIH1UgJfok0t"
      },
      "source": [
        "locations.to_csv('E:\\Certificates/zomato_loc.csv', index=False)"
      ],
      "execution_count": null,
      "outputs": []
    },
    {
      "cell_type": "code",
      "metadata": {
        "id": "_x_uRKBAok0u",
        "outputId": "33dbf803-9c66-4cc0-fc61-d61c0110c907"
      },
      "source": [
        "#count of restaurants at each location\n",
        "\n",
        "rest_loc=df['location'].value_counts().reset_index()\n",
        "rest_loc.columns=['name','count']\n",
        "rest_loc\n"
      ],
      "execution_count": null,
      "outputs": [
        {
          "output_type": "execute_result",
          "data": {
            "text/html": [
              "<div>\n",
              "<style scoped>\n",
              "    .dataframe tbody tr th:only-of-type {\n",
              "        vertical-align: middle;\n",
              "    }\n",
              "\n",
              "    .dataframe tbody tr th {\n",
              "        vertical-align: top;\n",
              "    }\n",
              "\n",
              "    .dataframe thead th {\n",
              "        text-align: right;\n",
              "    }\n",
              "</style>\n",
              "<table border=\"1\" class=\"dataframe\">\n",
              "  <thead>\n",
              "    <tr style=\"text-align: right;\">\n",
              "      <th></th>\n",
              "      <th>name</th>\n",
              "      <th>count</th>\n",
              "    </tr>\n",
              "  </thead>\n",
              "  <tbody>\n",
              "    <tr>\n",
              "      <th>0</th>\n",
              "      <td>BTM</td>\n",
              "      <td>5124</td>\n",
              "    </tr>\n",
              "    <tr>\n",
              "      <th>1</th>\n",
              "      <td>HSR</td>\n",
              "      <td>2523</td>\n",
              "    </tr>\n",
              "    <tr>\n",
              "      <th>2</th>\n",
              "      <td>Koramangala 5th Block</td>\n",
              "      <td>2504</td>\n",
              "    </tr>\n",
              "    <tr>\n",
              "      <th>3</th>\n",
              "      <td>JP Nagar</td>\n",
              "      <td>2235</td>\n",
              "    </tr>\n",
              "    <tr>\n",
              "      <th>4</th>\n",
              "      <td>Whitefield</td>\n",
              "      <td>2144</td>\n",
              "    </tr>\n",
              "    <tr>\n",
              "      <th>...</th>\n",
              "      <td>...</td>\n",
              "      <td>...</td>\n",
              "    </tr>\n",
              "    <tr>\n",
              "      <th>88</th>\n",
              "      <td>Yelahanka</td>\n",
              "      <td>6</td>\n",
              "    </tr>\n",
              "    <tr>\n",
              "      <th>89</th>\n",
              "      <td>West Bangalore</td>\n",
              "      <td>6</td>\n",
              "    </tr>\n",
              "    <tr>\n",
              "      <th>90</th>\n",
              "      <td>Jakkur</td>\n",
              "      <td>3</td>\n",
              "    </tr>\n",
              "    <tr>\n",
              "      <th>91</th>\n",
              "      <td>Rajarajeshwari Nagar</td>\n",
              "      <td>2</td>\n",
              "    </tr>\n",
              "    <tr>\n",
              "      <th>92</th>\n",
              "      <td>Peenya</td>\n",
              "      <td>1</td>\n",
              "    </tr>\n",
              "  </tbody>\n",
              "</table>\n",
              "<p>93 rows × 2 columns</p>\n",
              "</div>"
            ],
            "text/plain": [
              "                     name  count\n",
              "0                     BTM   5124\n",
              "1                     HSR   2523\n",
              "2   Koramangala 5th Block   2504\n",
              "3                JP Nagar   2235\n",
              "4              Whitefield   2144\n",
              "..                    ...    ...\n",
              "88              Yelahanka      6\n",
              "89         West Bangalore      6\n",
              "90                 Jakkur      3\n",
              "91   Rajarajeshwari Nagar      2\n",
              "92                 Peenya      1\n",
              "\n",
              "[93 rows x 2 columns]"
            ]
          },
          "metadata": {
            "tags": []
          },
          "execution_count": 15
        }
      ]
    },
    {
      "cell_type": "code",
      "metadata": {
        "id": "0dqbIqvtok0u",
        "outputId": "e21639c4-cd65-42c7-d843-94e04ce7429d"
      },
      "source": [
        "#Merging rest_loc and Locations DFs\n",
        "\n",
        "rest_locs=rest_loc.merge(locations,on='name',how='left').dropna()\n",
        "rest_locs"
      ],
      "execution_count": null,
      "outputs": [
        {
          "output_type": "execute_result",
          "data": {
            "text/html": [
              "<div>\n",
              "<style scoped>\n",
              "    .dataframe tbody tr th:only-of-type {\n",
              "        vertical-align: middle;\n",
              "    }\n",
              "\n",
              "    .dataframe tbody tr th {\n",
              "        vertical-align: top;\n",
              "    }\n",
              "\n",
              "    .dataframe thead th {\n",
              "        text-align: right;\n",
              "    }\n",
              "</style>\n",
              "<table border=\"1\" class=\"dataframe\">\n",
              "  <thead>\n",
              "    <tr style=\"text-align: right;\">\n",
              "      <th></th>\n",
              "      <th>name</th>\n",
              "      <th>count</th>\n",
              "      <th>lat</th>\n",
              "      <th>lon</th>\n",
              "    </tr>\n",
              "  </thead>\n",
              "  <tbody>\n",
              "    <tr>\n",
              "      <th>0</th>\n",
              "      <td>BTM</td>\n",
              "      <td>5124</td>\n",
              "      <td>45.954851</td>\n",
              "      <td>-112.496595</td>\n",
              "    </tr>\n",
              "    <tr>\n",
              "      <th>1</th>\n",
              "      <td>HSR</td>\n",
              "      <td>2523</td>\n",
              "      <td>18.147500</td>\n",
              "      <td>41.538889</td>\n",
              "    </tr>\n",
              "    <tr>\n",
              "      <th>2</th>\n",
              "      <td>Koramangala 5th Block</td>\n",
              "      <td>2504</td>\n",
              "      <td>13.005409</td>\n",
              "      <td>74.794607</td>\n",
              "    </tr>\n",
              "    <tr>\n",
              "      <th>3</th>\n",
              "      <td>JP Nagar</td>\n",
              "      <td>2235</td>\n",
              "      <td>12.265594</td>\n",
              "      <td>76.646540</td>\n",
              "    </tr>\n",
              "    <tr>\n",
              "      <th>4</th>\n",
              "      <td>Whitefield</td>\n",
              "      <td>2144</td>\n",
              "      <td>44.373058</td>\n",
              "      <td>-71.611858</td>\n",
              "    </tr>\n",
              "    <tr>\n",
              "      <th>...</th>\n",
              "      <td>...</td>\n",
              "      <td>...</td>\n",
              "      <td>...</td>\n",
              "      <td>...</td>\n",
              "    </tr>\n",
              "    <tr>\n",
              "      <th>88</th>\n",
              "      <td>Yelahanka</td>\n",
              "      <td>6</td>\n",
              "      <td>13.100698</td>\n",
              "      <td>77.596345</td>\n",
              "    </tr>\n",
              "    <tr>\n",
              "      <th>89</th>\n",
              "      <td>West Bangalore</td>\n",
              "      <td>6</td>\n",
              "      <td>13.001129</td>\n",
              "      <td>77.632562</td>\n",
              "    </tr>\n",
              "    <tr>\n",
              "      <th>90</th>\n",
              "      <td>Jakkur</td>\n",
              "      <td>3</td>\n",
              "      <td>13.078474</td>\n",
              "      <td>77.606894</td>\n",
              "    </tr>\n",
              "    <tr>\n",
              "      <th>91</th>\n",
              "      <td>Rajarajeshwari Nagar</td>\n",
              "      <td>2</td>\n",
              "      <td>12.927441</td>\n",
              "      <td>77.515522</td>\n",
              "    </tr>\n",
              "    <tr>\n",
              "      <th>92</th>\n",
              "      <td>Peenya</td>\n",
              "      <td>1</td>\n",
              "      <td>13.032942</td>\n",
              "      <td>77.527325</td>\n",
              "    </tr>\n",
              "  </tbody>\n",
              "</table>\n",
              "<p>92 rows × 4 columns</p>\n",
              "</div>"
            ],
            "text/plain": [
              "                     name  count        lat         lon\n",
              "0                     BTM   5124  45.954851 -112.496595\n",
              "1                     HSR   2523  18.147500   41.538889\n",
              "2   Koramangala 5th Block   2504  13.005409   74.794607\n",
              "3                JP Nagar   2235  12.265594   76.646540\n",
              "4              Whitefield   2144  44.373058  -71.611858\n",
              "..                    ...    ...        ...         ...\n",
              "88              Yelahanka      6  13.100698   77.596345\n",
              "89         West Bangalore      6  13.001129   77.632562\n",
              "90                 Jakkur      3  13.078474   77.606894\n",
              "91   Rajarajeshwari Nagar      2  12.927441   77.515522\n",
              "92                 Peenya      1  13.032942   77.527325\n",
              "\n",
              "[92 rows x 4 columns]"
            ]
          },
          "metadata": {
            "tags": []
          },
          "execution_count": 16
        }
      ]
    },
    {
      "cell_type": "code",
      "metadata": {
        "id": "Gy9bwqgzok0v",
        "outputId": "8f3c2491-ac98-4a2d-b173-bc7d82eeb98a"
      },
      "source": [
        "pip install folium"
      ],
      "execution_count": null,
      "outputs": [
        {
          "output_type": "stream",
          "text": [
            "Requirement already satisfied: folium in d:\\ml\\anaconda\\lib\\site-packages (0.12.1)\n",
            "Requirement already satisfied: jinja2>=2.9 in d:\\ml\\anaconda\\lib\\site-packages (from folium) (2.11.1)\n",
            "Requirement already satisfied: branca>=0.3.0 in d:\\ml\\anaconda\\lib\\site-packages (from folium) (0.4.2)\n",
            "Requirement already satisfied: numpy in d:\\ml\\anaconda\\lib\\site-packages (from folium) (1.18.1)\n",
            "Requirement already satisfied: requests in d:\\ml\\anaconda\\lib\\site-packages (from folium) (2.22.0)\n",
            "Requirement already satisfied: MarkupSafe>=0.23 in d:\\ml\\anaconda\\lib\\site-packages (from jinja2>=2.9->folium) (1.1.1)\n",
            "Requirement already satisfied: certifi>=2017.4.17 in d:\\ml\\anaconda\\lib\\site-packages (from requests->folium) (2019.11.28)\n",
            "Requirement already satisfied: urllib3!=1.25.0,!=1.25.1,<1.26,>=1.21.1 in d:\\ml\\anaconda\\lib\\site-packages (from requests->folium) (1.25.8)\n",
            "Requirement already satisfied: chardet<3.1.0,>=3.0.2 in d:\\ml\\anaconda\\lib\\site-packages (from requests->folium) (3.0.4)\n",
            "Requirement already satisfied: idna<2.9,>=2.5 in d:\\ml\\anaconda\\lib\\site-packages (from requests->folium) (2.8)\n",
            "Note: you may need to restart the kernel to use updated packages.\n"
          ],
          "name": "stdout"
        }
      ]
    },
    {
      "cell_type": "code",
      "metadata": {
        "id": "oqqr5VzUok0w",
        "outputId": "0f35e3dc-1184-4c26-be40-cbfff72421df"
      },
      "source": [
        "import folium\n",
        "\n",
        "def generatebasemap(default_location=[12.97,77.59],default_zoom_start=12):\n",
        "    basemap=folium.Map(location=default_location,zoom_start=default_zoom_start)\n",
        "    return basemap\n",
        "\n",
        "basemap=generatebasemap()\n",
        "basemap"
      ],
      "execution_count": null,
      "outputs": [
        {
          "output_type": "execute_result",
          "data": {
            "text/html": [
              "<div style=\"width:100%;\"><div style=\"position:relative;width:100%;height:0;padding-bottom:60%;\"><span style=\"color:#565656\">Make this Notebook Trusted to load map: File -> Trust Notebook</span><iframe src=\"about:blank\" style=\"position:absolute;width:100%;height:100%;left:0;top:0;border:none !important;\" data-html=%3C%21DOCTYPE%20html%3E%0A%3Chead%3E%20%20%20%20%0A%20%20%20%20%3Cmeta%20http-equiv%3D%22content-type%22%20content%3D%22text/html%3B%20charset%3DUTF-8%22%20/%3E%0A%20%20%20%20%0A%20%20%20%20%20%20%20%20%3Cscript%3E%0A%20%20%20%20%20%20%20%20%20%20%20%20L_NO_TOUCH%20%3D%20false%3B%0A%20%20%20%20%20%20%20%20%20%20%20%20L_DISABLE_3D%20%3D%20false%3B%0A%20%20%20%20%20%20%20%20%3C/script%3E%0A%20%20%20%20%0A%20%20%20%20%3Cstyle%3Ehtml%2C%20body%20%7Bwidth%3A%20100%25%3Bheight%3A%20100%25%3Bmargin%3A%200%3Bpadding%3A%200%3B%7D%3C/style%3E%0A%20%20%20%20%3Cstyle%3E%23map%20%7Bposition%3Aabsolute%3Btop%3A0%3Bbottom%3A0%3Bright%3A0%3Bleft%3A0%3B%7D%3C/style%3E%0A%20%20%20%20%3Cscript%20src%3D%22https%3A//cdn.jsdelivr.net/npm/leaflet%401.6.0/dist/leaflet.js%22%3E%3C/script%3E%0A%20%20%20%20%3Cscript%20src%3D%22https%3A//code.jquery.com/jquery-1.12.4.min.js%22%3E%3C/script%3E%0A%20%20%20%20%3Cscript%20src%3D%22https%3A//maxcdn.bootstrapcdn.com/bootstrap/3.2.0/js/bootstrap.min.js%22%3E%3C/script%3E%0A%20%20%20%20%3Cscript%20src%3D%22https%3A//cdnjs.cloudflare.com/ajax/libs/Leaflet.awesome-markers/2.0.2/leaflet.awesome-markers.js%22%3E%3C/script%3E%0A%20%20%20%20%3Clink%20rel%3D%22stylesheet%22%20href%3D%22https%3A//cdn.jsdelivr.net/npm/leaflet%401.6.0/dist/leaflet.css%22/%3E%0A%20%20%20%20%3Clink%20rel%3D%22stylesheet%22%20href%3D%22https%3A//maxcdn.bootstrapcdn.com/bootstrap/3.2.0/css/bootstrap.min.css%22/%3E%0A%20%20%20%20%3Clink%20rel%3D%22stylesheet%22%20href%3D%22https%3A//maxcdn.bootstrapcdn.com/bootstrap/3.2.0/css/bootstrap-theme.min.css%22/%3E%0A%20%20%20%20%3Clink%20rel%3D%22stylesheet%22%20href%3D%22https%3A//maxcdn.bootstrapcdn.com/font-awesome/4.6.3/css/font-awesome.min.css%22/%3E%0A%20%20%20%20%3Clink%20rel%3D%22stylesheet%22%20href%3D%22https%3A//cdnjs.cloudflare.com/ajax/libs/Leaflet.awesome-markers/2.0.2/leaflet.awesome-markers.css%22/%3E%0A%20%20%20%20%3Clink%20rel%3D%22stylesheet%22%20href%3D%22https%3A//cdn.jsdelivr.net/gh/python-visualization/folium/folium/templates/leaflet.awesome.rotate.min.css%22/%3E%0A%20%20%20%20%0A%20%20%20%20%20%20%20%20%20%20%20%20%3Cmeta%20name%3D%22viewport%22%20content%3D%22width%3Ddevice-width%2C%0A%20%20%20%20%20%20%20%20%20%20%20%20%20%20%20%20initial-scale%3D1.0%2C%20maximum-scale%3D1.0%2C%20user-scalable%3Dno%22%20/%3E%0A%20%20%20%20%20%20%20%20%20%20%20%20%3Cstyle%3E%0A%20%20%20%20%20%20%20%20%20%20%20%20%20%20%20%20%23map_7ed7ec28ba174e95b86571b60b9b069b%20%7B%0A%20%20%20%20%20%20%20%20%20%20%20%20%20%20%20%20%20%20%20%20position%3A%20relative%3B%0A%20%20%20%20%20%20%20%20%20%20%20%20%20%20%20%20%20%20%20%20width%3A%20100.0%25%3B%0A%20%20%20%20%20%20%20%20%20%20%20%20%20%20%20%20%20%20%20%20height%3A%20100.0%25%3B%0A%20%20%20%20%20%20%20%20%20%20%20%20%20%20%20%20%20%20%20%20left%3A%200.0%25%3B%0A%20%20%20%20%20%20%20%20%20%20%20%20%20%20%20%20%20%20%20%20top%3A%200.0%25%3B%0A%20%20%20%20%20%20%20%20%20%20%20%20%20%20%20%20%7D%0A%20%20%20%20%20%20%20%20%20%20%20%20%3C/style%3E%0A%20%20%20%20%20%20%20%20%0A%3C/head%3E%0A%3Cbody%3E%20%20%20%20%0A%20%20%20%20%0A%20%20%20%20%20%20%20%20%20%20%20%20%3Cdiv%20class%3D%22folium-map%22%20id%3D%22map_7ed7ec28ba174e95b86571b60b9b069b%22%20%3E%3C/div%3E%0A%20%20%20%20%20%20%20%20%0A%3C/body%3E%0A%3Cscript%3E%20%20%20%20%0A%20%20%20%20%0A%20%20%20%20%20%20%20%20%20%20%20%20var%20map_7ed7ec28ba174e95b86571b60b9b069b%20%3D%20L.map%28%0A%20%20%20%20%20%20%20%20%20%20%20%20%20%20%20%20%22map_7ed7ec28ba174e95b86571b60b9b069b%22%2C%0A%20%20%20%20%20%20%20%20%20%20%20%20%20%20%20%20%7B%0A%20%20%20%20%20%20%20%20%20%20%20%20%20%20%20%20%20%20%20%20center%3A%20%5B12.97%2C%2077.59%5D%2C%0A%20%20%20%20%20%20%20%20%20%20%20%20%20%20%20%20%20%20%20%20crs%3A%20L.CRS.EPSG3857%2C%0A%20%20%20%20%20%20%20%20%20%20%20%20%20%20%20%20%20%20%20%20zoom%3A%2012%2C%0A%20%20%20%20%20%20%20%20%20%20%20%20%20%20%20%20%20%20%20%20zoomControl%3A%20true%2C%0A%20%20%20%20%20%20%20%20%20%20%20%20%20%20%20%20%20%20%20%20preferCanvas%3A%20false%2C%0A%20%20%20%20%20%20%20%20%20%20%20%20%20%20%20%20%7D%0A%20%20%20%20%20%20%20%20%20%20%20%20%29%3B%0A%0A%20%20%20%20%20%20%20%20%20%20%20%20%0A%0A%20%20%20%20%20%20%20%20%0A%20%20%20%20%0A%20%20%20%20%20%20%20%20%20%20%20%20var%20tile_layer_847efbd998694336b14d774a66fd7c1e%20%3D%20L.tileLayer%28%0A%20%20%20%20%20%20%20%20%20%20%20%20%20%20%20%20%22https%3A//%7Bs%7D.tile.openstreetmap.org/%7Bz%7D/%7Bx%7D/%7By%7D.png%22%2C%0A%20%20%20%20%20%20%20%20%20%20%20%20%20%20%20%20%7B%22attribution%22%3A%20%22Data%20by%20%5Cu0026copy%3B%20%5Cu003ca%20href%3D%5C%22http%3A//openstreetmap.org%5C%22%5Cu003eOpenStreetMap%5Cu003c/a%5Cu003e%2C%20under%20%5Cu003ca%20href%3D%5C%22http%3A//www.openstreetmap.org/copyright%5C%22%5Cu003eODbL%5Cu003c/a%5Cu003e.%22%2C%20%22detectRetina%22%3A%20false%2C%20%22maxNativeZoom%22%3A%2018%2C%20%22maxZoom%22%3A%2018%2C%20%22minZoom%22%3A%200%2C%20%22noWrap%22%3A%20false%2C%20%22opacity%22%3A%201%2C%20%22subdomains%22%3A%20%22abc%22%2C%20%22tms%22%3A%20false%7D%0A%20%20%20%20%20%20%20%20%20%20%20%20%29.addTo%28map_7ed7ec28ba174e95b86571b60b9b069b%29%3B%0A%20%20%20%20%20%20%20%20%0A%3C/script%3E onload=\"this.contentDocument.open();this.contentDocument.write(    decodeURIComponent(this.getAttribute('data-html')));this.contentDocument.close();\" allowfullscreen webkitallowfullscreen mozallowfullscreen></iframe></div></div>"
            ],
            "text/plain": [
              "<folium.folium.Map at 0x21f80d33948>"
            ]
          },
          "metadata": {
            "tags": []
          },
          "execution_count": 18
        }
      ]
    },
    {
      "cell_type": "code",
      "metadata": {
        "id": "NNcLKfCTok0w"
      },
      "source": [
        "from folium.plugins import HeatMap\n",
        "\n",
        "\n"
      ],
      "execution_count": null,
      "outputs": []
    },
    {
      "cell_type": "code",
      "metadata": {
        "id": "SNHAObB9ok0w",
        "outputId": "5aae686a-5eae-4a2b-e85b-55da91ede7e2"
      },
      "source": [
        "HeatMap(rest_locs[['lat','lon','count']],zoom=20).add_to(basemap)\n",
        "\n",
        "basemap"
      ],
      "execution_count": null,
      "outputs": [
        {
          "output_type": "execute_result",
          "data": {
            "text/html": [
              "<div style=\"width:100%;\"><div style=\"position:relative;width:100%;height:0;padding-bottom:60%;\"><span style=\"color:#565656\">Make this Notebook Trusted to load map: File -> Trust Notebook</span><iframe src=\"about:blank\" style=\"position:absolute;width:100%;height:100%;left:0;top:0;border:none !important;\" data-html=%3C%21DOCTYPE%20html%3E%0A%3Chead%3E%20%20%20%20%0A%20%20%20%20%3Cmeta%20http-equiv%3D%22content-type%22%20content%3D%22text/html%3B%20charset%3DUTF-8%22%20/%3E%0A%20%20%20%20%0A%20%20%20%20%20%20%20%20%3Cscript%3E%0A%20%20%20%20%20%20%20%20%20%20%20%20L_NO_TOUCH%20%3D%20false%3B%0A%20%20%20%20%20%20%20%20%20%20%20%20L_DISABLE_3D%20%3D%20false%3B%0A%20%20%20%20%20%20%20%20%3C/script%3E%0A%20%20%20%20%0A%20%20%20%20%3Cstyle%3Ehtml%2C%20body%20%7Bwidth%3A%20100%25%3Bheight%3A%20100%25%3Bmargin%3A%200%3Bpadding%3A%200%3B%7D%3C/style%3E%0A%20%20%20%20%3Cstyle%3E%23map%20%7Bposition%3Aabsolute%3Btop%3A0%3Bbottom%3A0%3Bright%3A0%3Bleft%3A0%3B%7D%3C/style%3E%0A%20%20%20%20%3Cscript%20src%3D%22https%3A//cdn.jsdelivr.net/npm/leaflet%401.6.0/dist/leaflet.js%22%3E%3C/script%3E%0A%20%20%20%20%3Cscript%20src%3D%22https%3A//code.jquery.com/jquery-1.12.4.min.js%22%3E%3C/script%3E%0A%20%20%20%20%3Cscript%20src%3D%22https%3A//maxcdn.bootstrapcdn.com/bootstrap/3.2.0/js/bootstrap.min.js%22%3E%3C/script%3E%0A%20%20%20%20%3Cscript%20src%3D%22https%3A//cdnjs.cloudflare.com/ajax/libs/Leaflet.awesome-markers/2.0.2/leaflet.awesome-markers.js%22%3E%3C/script%3E%0A%20%20%20%20%3Clink%20rel%3D%22stylesheet%22%20href%3D%22https%3A//cdn.jsdelivr.net/npm/leaflet%401.6.0/dist/leaflet.css%22/%3E%0A%20%20%20%20%3Clink%20rel%3D%22stylesheet%22%20href%3D%22https%3A//maxcdn.bootstrapcdn.com/bootstrap/3.2.0/css/bootstrap.min.css%22/%3E%0A%20%20%20%20%3Clink%20rel%3D%22stylesheet%22%20href%3D%22https%3A//maxcdn.bootstrapcdn.com/bootstrap/3.2.0/css/bootstrap-theme.min.css%22/%3E%0A%20%20%20%20%3Clink%20rel%3D%22stylesheet%22%20href%3D%22https%3A//maxcdn.bootstrapcdn.com/font-awesome/4.6.3/css/font-awesome.min.css%22/%3E%0A%20%20%20%20%3Clink%20rel%3D%22stylesheet%22%20href%3D%22https%3A//cdnjs.cloudflare.com/ajax/libs/Leaflet.awesome-markers/2.0.2/leaflet.awesome-markers.css%22/%3E%0A%20%20%20%20%3Clink%20rel%3D%22stylesheet%22%20href%3D%22https%3A//cdn.jsdelivr.net/gh/python-visualization/folium/folium/templates/leaflet.awesome.rotate.min.css%22/%3E%0A%20%20%20%20%0A%20%20%20%20%20%20%20%20%20%20%20%20%3Cmeta%20name%3D%22viewport%22%20content%3D%22width%3Ddevice-width%2C%0A%20%20%20%20%20%20%20%20%20%20%20%20%20%20%20%20initial-scale%3D1.0%2C%20maximum-scale%3D1.0%2C%20user-scalable%3Dno%22%20/%3E%0A%20%20%20%20%20%20%20%20%20%20%20%20%3Cstyle%3E%0A%20%20%20%20%20%20%20%20%20%20%20%20%20%20%20%20%23map_7ed7ec28ba174e95b86571b60b9b069b%20%7B%0A%20%20%20%20%20%20%20%20%20%20%20%20%20%20%20%20%20%20%20%20position%3A%20relative%3B%0A%20%20%20%20%20%20%20%20%20%20%20%20%20%20%20%20%20%20%20%20width%3A%20100.0%25%3B%0A%20%20%20%20%20%20%20%20%20%20%20%20%20%20%20%20%20%20%20%20height%3A%20100.0%25%3B%0A%20%20%20%20%20%20%20%20%20%20%20%20%20%20%20%20%20%20%20%20left%3A%200.0%25%3B%0A%20%20%20%20%20%20%20%20%20%20%20%20%20%20%20%20%20%20%20%20top%3A%200.0%25%3B%0A%20%20%20%20%20%20%20%20%20%20%20%20%20%20%20%20%7D%0A%20%20%20%20%20%20%20%20%20%20%20%20%3C/style%3E%0A%20%20%20%20%20%20%20%20%0A%20%20%20%20%3Cscript%20src%3D%22https%3A//cdn.jsdelivr.net/gh/python-visualization/folium%40master/folium/templates/leaflet_heat.min.js%22%3E%3C/script%3E%0A%3C/head%3E%0A%3Cbody%3E%20%20%20%20%0A%20%20%20%20%0A%20%20%20%20%20%20%20%20%20%20%20%20%3Cdiv%20class%3D%22folium-map%22%20id%3D%22map_7ed7ec28ba174e95b86571b60b9b069b%22%20%3E%3C/div%3E%0A%20%20%20%20%20%20%20%20%0A%3C/body%3E%0A%3Cscript%3E%20%20%20%20%0A%20%20%20%20%0A%20%20%20%20%20%20%20%20%20%20%20%20var%20map_7ed7ec28ba174e95b86571b60b9b069b%20%3D%20L.map%28%0A%20%20%20%20%20%20%20%20%20%20%20%20%20%20%20%20%22map_7ed7ec28ba174e95b86571b60b9b069b%22%2C%0A%20%20%20%20%20%20%20%20%20%20%20%20%20%20%20%20%7B%0A%20%20%20%20%20%20%20%20%20%20%20%20%20%20%20%20%20%20%20%20center%3A%20%5B12.97%2C%2077.59%5D%2C%0A%20%20%20%20%20%20%20%20%20%20%20%20%20%20%20%20%20%20%20%20crs%3A%20L.CRS.EPSG3857%2C%0A%20%20%20%20%20%20%20%20%20%20%20%20%20%20%20%20%20%20%20%20zoom%3A%2012%2C%0A%20%20%20%20%20%20%20%20%20%20%20%20%20%20%20%20%20%20%20%20zoomControl%3A%20true%2C%0A%20%20%20%20%20%20%20%20%20%20%20%20%20%20%20%20%20%20%20%20preferCanvas%3A%20false%2C%0A%20%20%20%20%20%20%20%20%20%20%20%20%20%20%20%20%7D%0A%20%20%20%20%20%20%20%20%20%20%20%20%29%3B%0A%0A%20%20%20%20%20%20%20%20%20%20%20%20%0A%0A%20%20%20%20%20%20%20%20%0A%20%20%20%20%0A%20%20%20%20%20%20%20%20%20%20%20%20var%20tile_layer_847efbd998694336b14d774a66fd7c1e%20%3D%20L.tileLayer%28%0A%20%20%20%20%20%20%20%20%20%20%20%20%20%20%20%20%22https%3A//%7Bs%7D.tile.openstreetmap.org/%7Bz%7D/%7Bx%7D/%7By%7D.png%22%2C%0A%20%20%20%20%20%20%20%20%20%20%20%20%20%20%20%20%7B%22attribution%22%3A%20%22Data%20by%20%5Cu0026copy%3B%20%5Cu003ca%20href%3D%5C%22http%3A//openstreetmap.org%5C%22%5Cu003eOpenStreetMap%5Cu003c/a%5Cu003e%2C%20under%20%5Cu003ca%20href%3D%5C%22http%3A//www.openstreetmap.org/copyright%5C%22%5Cu003eODbL%5Cu003c/a%5Cu003e.%22%2C%20%22detectRetina%22%3A%20false%2C%20%22maxNativeZoom%22%3A%2018%2C%20%22maxZoom%22%3A%2018%2C%20%22minZoom%22%3A%200%2C%20%22noWrap%22%3A%20false%2C%20%22opacity%22%3A%201%2C%20%22subdomains%22%3A%20%22abc%22%2C%20%22tms%22%3A%20false%7D%0A%20%20%20%20%20%20%20%20%20%20%20%20%29.addTo%28map_7ed7ec28ba174e95b86571b60b9b069b%29%3B%0A%20%20%20%20%20%20%20%20%0A%20%20%20%20%0A%20%20%20%20%20%20%20%20%20%20%20%20var%20heat_map_9c265c03e9364ae9b24d3d4138888842%20%3D%20L.heatLayer%28%0A%20%20%20%20%20%20%20%20%20%20%20%20%20%20%20%20%5B%5B45.95485055%2C%20-112.49659530324134%2C%205124.0%5D%2C%20%5B18.1475%2C%2041.538889%2C%202523.0%5D%2C%20%5B13.00540865%2C%2074.79460685941484%2C%202504.0%5D%2C%20%5B12.2655944%2C%2076.6465404%2C%202235.0%5D%2C%20%5B44.3730577%2C%20-71.6118577%2C%202144.0%5D%2C%20%5B12.9732913%2C%2077.6404672%2C%202083.0%5D%2C%20%5B27.64392675%2C%2083.05280519687284%2C%201926.0%5D%2C%20%5B12.9552572%2C%2077.6984163%2C%201846.0%5D%2C%20%5B12.887979%2C%2077.5970812%2C%201630.0%5D%2C%20%5B12.93577245%2C%2077.66676103753434%2C%201286.0%5D%2C%20%5B-6.2659285%2C%20106.7842561%2C%201258.0%5D%2C%20%5B14.5395813%2C%20121.070371%2C%201238.0%5D%2C%20%5B40.28745%2C%20-76.964526%2C%201218.0%5D%2C%20%5B13.0078418%2C%2074.7963208%2C%201181.0%5D%2C%20%5B12.9400321%2C%2077.6203272%2C%201156.0%5D%2C%20%5B12.9242381%2C%2077.6289059%2C%201065.0%5D%2C%20%5B12.9778793%2C%2077.6246697%2C%201023.0%5D%2C%20%5B12.93433385%2C%2077.63040639553275%2C%201017.0%5D%2C%20%5B17.9895618%2C%2079.5967057%2C%20918.0%5D%2C%20%5B15.8876779%2C%2075.7046777%2C%20906.0%5D%2C%20%5B13.0221416%2C%2077.6403368%2C%20853.0%5D%2C%20%5B50.7721586%2C%200.09772783661369303%2C%20812.0%5D%2C%20%5B12.996845%2C%2077.6130165%2C%20727.0%5D%2C%20%5B13.0027353%2C%2077.5703253%2C%20725.0%5D%2C%20%5B12.9417261%2C%2077.5755021%2C%20684.0%5D%2C%20%5B38.7385916%2C%20-77.5275749%2C%20675.0%5D%2C%20%5B13.0141618%2C%2077.6518539%2C%20664.0%5D%2C%20%5B33.5935063%2C%20-79.0345627%2C%20658.0%5D%2C%20%5B13.0346384%2C%2077.5681733%2C%20649.0%5D%2C%20%5B13.0093455%2C%2077.6377094%2C%20648.0%5D%2C%20%5B12.9882338%2C%2077.554883%2C%20591.0%5D%2C%20%5B51.373656%2C%20-0.1042366%2C%20569.0%5D%2C%20%5B40.7652844%2C%20-76.373824%2C%20529.0%5D%2C%20%5B12.9575547%2C%2077.5979099%2C%20511.0%5D%2C%20%5B18.5322493%2C%2073.8499601124847%2C%20499.0%5D%2C%20%5B12.9624669%2C%2077.6381958%2C%20496.0%5D%2C%20%5B31.89376%2C%20-88.066644%2C%20491.0%5D%2C%20%5B-8.9189606%2C%2033.4588989%2C%20446.0%5D%2C%20%5B12.945245%2C%2077.6269144%2C%20439.0%5D%2C%20%5B51.5153824%2C%20-0.0719631%2C%20370.0%5D%2C%20%5B51.5227651%2C%20-0.7354457%2C%20352.0%5D%2C%20%5B12.9417812%2C%2077.6160146%2C%20320.0%5D%2C%20%5B12.988721250000001%2C%2077.58516877601824%2C%20295.0%5D%2C%20%5B12.9678074%2C%2077.6568367%2C%20272.0%5D%2C%20%5B12.9489339%2C%2077.5968273%2C%20246.0%5D%2C%20%5B12.9089453%2C%2077.6239038%2C%20238.0%5D%2C%20%5B12.9271867%2C%2077.6266252%2C%20216.0%5D%2C%20%5B12.9081487%2C%2077.5553179%2C%20195.0%5D%2C%20%5B12.973936%2C%2077.6509982%2C%20194.0%5D%2C%20%5B12.9932739%2C%2077.5388099%2C%20191.0%5D%2C%20%5B13.2227%2C%2078.5541977%2C%20187.0%5D%2C%20%5B12.9931876%2C%2077.5753419%2C%20165.0%5D%2C%20%5B13.0258087%2C%2077.6305067%2C%20161.0%5D%2C%20%5B1.2847055%2C%20103.84320655721689%2C%20155.0%5D%2C%20%5B13.0358698%2C%2077.6323597%2C%20153.0%5D%2C%20%5B34.977289%2C%20-78.974578%2C%20151.0%5D%2C%20%5B22.3146438%2C%2073.1597756%2C%20139.0%5D%2C%20%5B39.76880625%2C%20-86.15345077251979%2C%20126.0%5D%2C%20%5B13.02383%2C%2077.5529215%2C%20119.0%5D%2C%20%5B12.9414662%2C%2077.7470942%2C%20117.0%5D%2C%20%5B12.967576%2C%2077.7150877%2C%20113.0%5D%2C%20%5B13.0646907%2C%2077.49626895712257%2C%20107.0%5D%2C%20%5B12.9243509%2C%2077.6255562%2C%20102.0%5D%2C%20%5B12.773175%2C%2077.7831871%2C%20102.0%5D%2C%20%5B12.9846713%2C%2077.6790908%2C%20101.0%5D%2C%20%5B17.2510682%2C%2080.1651978%2C%2090.0%5D%2C%20%5B22.8359967%2C%2069.3405962%2C%2080.0%5D%2C%20%5B13.0227204%2C%2077.595715%2C%2080.0%5D%2C%20%5B23.1485712%2C%2081.6048241%2C%2076.0%5D%2C%20%5B15.8782951%2C%2074.5084834%2C%2063.0%5D%2C%20%5B13.0621474%2C%2077.58006135480495%2C%2053.0%5D%2C%20%5B13.2923988%2C%2077.7519261%2C%2048.0%5D%2C%20%5B13.0215466%2C%2077.7640586%2C%2044.0%5D%2C%20%5B11.9917786%2C%2076.5066292%2C%2038.0%5D%2C%20%5B12.945048%2C%2077.263004%2C%2034.0%5D%2C%20%5B12.957998%2C%2077.6037312%2C%2027.0%5D%2C%20%5B38.7801076%2C%20-121.5056438%2C%2027.0%5D%2C%20%5B13.194416%2C%2078.7011301%2C%2022.0%5D%2C%20%5B12.3872141%2C%2076.6669626%2C%2022.0%5D%2C%20%5B12.5607431%2C%2077.4258375%2C%2019.0%5D%2C%20%5B13.007516%2C%2077.695935%2C%2018.0%5D%2C%20%5B12.9055682%2C%2077.5455438%2C%2017.0%5D%2C%20%5B13.0217151%2C%2077.7660547%2C%2014.0%5D%2C%20%5B13.0382184%2C%2077.5919%2C%2014.0%5D%2C%20%5B12.9176571%2C%2077.4837568%2C%209.0%5D%2C%20%5B12.9546741%2C%2077.5121724%2C%209.0%5D%2C%20%5B13.0101286%2C%2077.5548006%2C%208.0%5D%2C%20%5B13.1006982%2C%2077.5963454%2C%206.0%5D%2C%20%5B13.0011289%2C%2077.6325617%2C%206.0%5D%2C%20%5B13.0784743%2C%2077.6068938%2C%203.0%5D%2C%20%5B12.9274413%2C%2077.5155224%2C%202.0%5D%2C%20%5B13.0329419%2C%2077.5273253%2C%201.0%5D%5D%2C%0A%20%20%20%20%20%20%20%20%20%20%20%20%20%20%20%20%7B%22blur%22%3A%2015%2C%20%22maxZoom%22%3A%2018%2C%20%22minOpacity%22%3A%200.5%2C%20%22radius%22%3A%2025%2C%20%22zoom%22%3A%2020%7D%0A%20%20%20%20%20%20%20%20%20%20%20%20%29.addTo%28map_7ed7ec28ba174e95b86571b60b9b069b%29%3B%0A%20%20%20%20%20%20%20%20%0A%3C/script%3E onload=\"this.contentDocument.open();this.contentDocument.write(    decodeURIComponent(this.getAttribute('data-html')));this.contentDocument.close();\" allowfullscreen webkitallowfullscreen mozallowfullscreen></iframe></div></div>"
            ],
            "text/plain": [
              "<folium.folium.Map at 0x21f80d33948>"
            ]
          },
          "metadata": {
            "tags": []
          },
          "execution_count": 20
        }
      ]
    },
    {
      "cell_type": "code",
      "metadata": {
        "id": "chuOH3znok0w",
        "outputId": "bf55a0a6-6bd7-4a6b-8f8d-07fede27dbe5"
      },
      "source": [
        "from folium.plugins import FastMarkerCluster\n",
        "\n",
        "FastMarkerCluster(rest_locs[['lat','lon','count']],zoom=20).add_to(basemap)\n",
        "\n",
        "basemap"
      ],
      "execution_count": null,
      "outputs": [
        {
          "output_type": "execute_result",
          "data": {
            "text/html": [
              "<div style=\"width:100%;\"><div style=\"position:relative;width:100%;height:0;padding-bottom:60%;\"><span style=\"color:#565656\">Make this Notebook Trusted to load map: File -> Trust Notebook</span><iframe src=\"about:blank\" style=\"position:absolute;width:100%;height:100%;left:0;top:0;border:none !important;\" data-html=%3C%21DOCTYPE%20html%3E%0A%3Chead%3E%20%20%20%20%0A%20%20%20%20%3Cmeta%20http-equiv%3D%22content-type%22%20content%3D%22text/html%3B%20charset%3DUTF-8%22%20/%3E%0A%20%20%20%20%0A%20%20%20%20%20%20%20%20%3Cscript%3E%0A%20%20%20%20%20%20%20%20%20%20%20%20L_NO_TOUCH%20%3D%20false%3B%0A%20%20%20%20%20%20%20%20%20%20%20%20L_DISABLE_3D%20%3D%20false%3B%0A%20%20%20%20%20%20%20%20%3C/script%3E%0A%20%20%20%20%0A%20%20%20%20%3Cstyle%3Ehtml%2C%20body%20%7Bwidth%3A%20100%25%3Bheight%3A%20100%25%3Bmargin%3A%200%3Bpadding%3A%200%3B%7D%3C/style%3E%0A%20%20%20%20%3Cstyle%3E%23map%20%7Bposition%3Aabsolute%3Btop%3A0%3Bbottom%3A0%3Bright%3A0%3Bleft%3A0%3B%7D%3C/style%3E%0A%20%20%20%20%3Cscript%20src%3D%22https%3A//cdn.jsdelivr.net/npm/leaflet%401.6.0/dist/leaflet.js%22%3E%3C/script%3E%0A%20%20%20%20%3Cscript%20src%3D%22https%3A//code.jquery.com/jquery-1.12.4.min.js%22%3E%3C/script%3E%0A%20%20%20%20%3Cscript%20src%3D%22https%3A//maxcdn.bootstrapcdn.com/bootstrap/3.2.0/js/bootstrap.min.js%22%3E%3C/script%3E%0A%20%20%20%20%3Cscript%20src%3D%22https%3A//cdnjs.cloudflare.com/ajax/libs/Leaflet.awesome-markers/2.0.2/leaflet.awesome-markers.js%22%3E%3C/script%3E%0A%20%20%20%20%3Clink%20rel%3D%22stylesheet%22%20href%3D%22https%3A//cdn.jsdelivr.net/npm/leaflet%401.6.0/dist/leaflet.css%22/%3E%0A%20%20%20%20%3Clink%20rel%3D%22stylesheet%22%20href%3D%22https%3A//maxcdn.bootstrapcdn.com/bootstrap/3.2.0/css/bootstrap.min.css%22/%3E%0A%20%20%20%20%3Clink%20rel%3D%22stylesheet%22%20href%3D%22https%3A//maxcdn.bootstrapcdn.com/bootstrap/3.2.0/css/bootstrap-theme.min.css%22/%3E%0A%20%20%20%20%3Clink%20rel%3D%22stylesheet%22%20href%3D%22https%3A//maxcdn.bootstrapcdn.com/font-awesome/4.6.3/css/font-awesome.min.css%22/%3E%0A%20%20%20%20%3Clink%20rel%3D%22stylesheet%22%20href%3D%22https%3A//cdnjs.cloudflare.com/ajax/libs/Leaflet.awesome-markers/2.0.2/leaflet.awesome-markers.css%22/%3E%0A%20%20%20%20%3Clink%20rel%3D%22stylesheet%22%20href%3D%22https%3A//cdn.jsdelivr.net/gh/python-visualization/folium/folium/templates/leaflet.awesome.rotate.min.css%22/%3E%0A%20%20%20%20%0A%20%20%20%20%20%20%20%20%20%20%20%20%3Cmeta%20name%3D%22viewport%22%20content%3D%22width%3Ddevice-width%2C%0A%20%20%20%20%20%20%20%20%20%20%20%20%20%20%20%20initial-scale%3D1.0%2C%20maximum-scale%3D1.0%2C%20user-scalable%3Dno%22%20/%3E%0A%20%20%20%20%20%20%20%20%20%20%20%20%3Cstyle%3E%0A%20%20%20%20%20%20%20%20%20%20%20%20%20%20%20%20%23map_7ed7ec28ba174e95b86571b60b9b069b%20%7B%0A%20%20%20%20%20%20%20%20%20%20%20%20%20%20%20%20%20%20%20%20position%3A%20relative%3B%0A%20%20%20%20%20%20%20%20%20%20%20%20%20%20%20%20%20%20%20%20width%3A%20100.0%25%3B%0A%20%20%20%20%20%20%20%20%20%20%20%20%20%20%20%20%20%20%20%20height%3A%20100.0%25%3B%0A%20%20%20%20%20%20%20%20%20%20%20%20%20%20%20%20%20%20%20%20left%3A%200.0%25%3B%0A%20%20%20%20%20%20%20%20%20%20%20%20%20%20%20%20%20%20%20%20top%3A%200.0%25%3B%0A%20%20%20%20%20%20%20%20%20%20%20%20%20%20%20%20%7D%0A%20%20%20%20%20%20%20%20%20%20%20%20%3C/style%3E%0A%20%20%20%20%20%20%20%20%0A%20%20%20%20%3Cscript%20src%3D%22https%3A//cdn.jsdelivr.net/gh/python-visualization/folium%40master/folium/templates/leaflet_heat.min.js%22%3E%3C/script%3E%0A%20%20%20%20%3Cscript%20src%3D%22https%3A//cdnjs.cloudflare.com/ajax/libs/leaflet.markercluster/1.1.0/leaflet.markercluster.js%22%3E%3C/script%3E%0A%20%20%20%20%3Clink%20rel%3D%22stylesheet%22%20href%3D%22https%3A//cdnjs.cloudflare.com/ajax/libs/leaflet.markercluster/1.1.0/MarkerCluster.css%22/%3E%0A%20%20%20%20%3Clink%20rel%3D%22stylesheet%22%20href%3D%22https%3A//cdnjs.cloudflare.com/ajax/libs/leaflet.markercluster/1.1.0/MarkerCluster.Default.css%22/%3E%0A%3C/head%3E%0A%3Cbody%3E%20%20%20%20%0A%20%20%20%20%0A%20%20%20%20%20%20%20%20%20%20%20%20%3Cdiv%20class%3D%22folium-map%22%20id%3D%22map_7ed7ec28ba174e95b86571b60b9b069b%22%20%3E%3C/div%3E%0A%20%20%20%20%20%20%20%20%0A%3C/body%3E%0A%3Cscript%3E%20%20%20%20%0A%20%20%20%20%0A%20%20%20%20%20%20%20%20%20%20%20%20var%20map_7ed7ec28ba174e95b86571b60b9b069b%20%3D%20L.map%28%0A%20%20%20%20%20%20%20%20%20%20%20%20%20%20%20%20%22map_7ed7ec28ba174e95b86571b60b9b069b%22%2C%0A%20%20%20%20%20%20%20%20%20%20%20%20%20%20%20%20%7B%0A%20%20%20%20%20%20%20%20%20%20%20%20%20%20%20%20%20%20%20%20center%3A%20%5B12.97%2C%2077.59%5D%2C%0A%20%20%20%20%20%20%20%20%20%20%20%20%20%20%20%20%20%20%20%20crs%3A%20L.CRS.EPSG3857%2C%0A%20%20%20%20%20%20%20%20%20%20%20%20%20%20%20%20%20%20%20%20zoom%3A%2012%2C%0A%20%20%20%20%20%20%20%20%20%20%20%20%20%20%20%20%20%20%20%20zoomControl%3A%20true%2C%0A%20%20%20%20%20%20%20%20%20%20%20%20%20%20%20%20%20%20%20%20preferCanvas%3A%20false%2C%0A%20%20%20%20%20%20%20%20%20%20%20%20%20%20%20%20%7D%0A%20%20%20%20%20%20%20%20%20%20%20%20%29%3B%0A%0A%20%20%20%20%20%20%20%20%20%20%20%20%0A%0A%20%20%20%20%20%20%20%20%0A%20%20%20%20%0A%20%20%20%20%20%20%20%20%20%20%20%20var%20tile_layer_847efbd998694336b14d774a66fd7c1e%20%3D%20L.tileLayer%28%0A%20%20%20%20%20%20%20%20%20%20%20%20%20%20%20%20%22https%3A//%7Bs%7D.tile.openstreetmap.org/%7Bz%7D/%7Bx%7D/%7By%7D.png%22%2C%0A%20%20%20%20%20%20%20%20%20%20%20%20%20%20%20%20%7B%22attribution%22%3A%20%22Data%20by%20%5Cu0026copy%3B%20%5Cu003ca%20href%3D%5C%22http%3A//openstreetmap.org%5C%22%5Cu003eOpenStreetMap%5Cu003c/a%5Cu003e%2C%20under%20%5Cu003ca%20href%3D%5C%22http%3A//www.openstreetmap.org/copyright%5C%22%5Cu003eODbL%5Cu003c/a%5Cu003e.%22%2C%20%22detectRetina%22%3A%20false%2C%20%22maxNativeZoom%22%3A%2018%2C%20%22maxZoom%22%3A%2018%2C%20%22minZoom%22%3A%200%2C%20%22noWrap%22%3A%20false%2C%20%22opacity%22%3A%201%2C%20%22subdomains%22%3A%20%22abc%22%2C%20%22tms%22%3A%20false%7D%0A%20%20%20%20%20%20%20%20%20%20%20%20%29.addTo%28map_7ed7ec28ba174e95b86571b60b9b069b%29%3B%0A%20%20%20%20%20%20%20%20%0A%20%20%20%20%0A%20%20%20%20%20%20%20%20%20%20%20%20var%20heat_map_9c265c03e9364ae9b24d3d4138888842%20%3D%20L.heatLayer%28%0A%20%20%20%20%20%20%20%20%20%20%20%20%20%20%20%20%5B%5B45.95485055%2C%20-112.49659530324134%2C%205124.0%5D%2C%20%5B18.1475%2C%2041.538889%2C%202523.0%5D%2C%20%5B13.00540865%2C%2074.79460685941484%2C%202504.0%5D%2C%20%5B12.2655944%2C%2076.6465404%2C%202235.0%5D%2C%20%5B44.3730577%2C%20-71.6118577%2C%202144.0%5D%2C%20%5B12.9732913%2C%2077.6404672%2C%202083.0%5D%2C%20%5B27.64392675%2C%2083.05280519687284%2C%201926.0%5D%2C%20%5B12.9552572%2C%2077.6984163%2C%201846.0%5D%2C%20%5B12.887979%2C%2077.5970812%2C%201630.0%5D%2C%20%5B12.93577245%2C%2077.66676103753434%2C%201286.0%5D%2C%20%5B-6.2659285%2C%20106.7842561%2C%201258.0%5D%2C%20%5B14.5395813%2C%20121.070371%2C%201238.0%5D%2C%20%5B40.28745%2C%20-76.964526%2C%201218.0%5D%2C%20%5B13.0078418%2C%2074.7963208%2C%201181.0%5D%2C%20%5B12.9400321%2C%2077.6203272%2C%201156.0%5D%2C%20%5B12.9242381%2C%2077.6289059%2C%201065.0%5D%2C%20%5B12.9778793%2C%2077.6246697%2C%201023.0%5D%2C%20%5B12.93433385%2C%2077.63040639553275%2C%201017.0%5D%2C%20%5B17.9895618%2C%2079.5967057%2C%20918.0%5D%2C%20%5B15.8876779%2C%2075.7046777%2C%20906.0%5D%2C%20%5B13.0221416%2C%2077.6403368%2C%20853.0%5D%2C%20%5B50.7721586%2C%200.09772783661369303%2C%20812.0%5D%2C%20%5B12.996845%2C%2077.6130165%2C%20727.0%5D%2C%20%5B13.0027353%2C%2077.5703253%2C%20725.0%5D%2C%20%5B12.9417261%2C%2077.5755021%2C%20684.0%5D%2C%20%5B38.7385916%2C%20-77.5275749%2C%20675.0%5D%2C%20%5B13.0141618%2C%2077.6518539%2C%20664.0%5D%2C%20%5B33.5935063%2C%20-79.0345627%2C%20658.0%5D%2C%20%5B13.0346384%2C%2077.5681733%2C%20649.0%5D%2C%20%5B13.0093455%2C%2077.6377094%2C%20648.0%5D%2C%20%5B12.9882338%2C%2077.554883%2C%20591.0%5D%2C%20%5B51.373656%2C%20-0.1042366%2C%20569.0%5D%2C%20%5B40.7652844%2C%20-76.373824%2C%20529.0%5D%2C%20%5B12.9575547%2C%2077.5979099%2C%20511.0%5D%2C%20%5B18.5322493%2C%2073.8499601124847%2C%20499.0%5D%2C%20%5B12.9624669%2C%2077.6381958%2C%20496.0%5D%2C%20%5B31.89376%2C%20-88.066644%2C%20491.0%5D%2C%20%5B-8.9189606%2C%2033.4588989%2C%20446.0%5D%2C%20%5B12.945245%2C%2077.6269144%2C%20439.0%5D%2C%20%5B51.5153824%2C%20-0.0719631%2C%20370.0%5D%2C%20%5B51.5227651%2C%20-0.7354457%2C%20352.0%5D%2C%20%5B12.9417812%2C%2077.6160146%2C%20320.0%5D%2C%20%5B12.988721250000001%2C%2077.58516877601824%2C%20295.0%5D%2C%20%5B12.9678074%2C%2077.6568367%2C%20272.0%5D%2C%20%5B12.9489339%2C%2077.5968273%2C%20246.0%5D%2C%20%5B12.9089453%2C%2077.6239038%2C%20238.0%5D%2C%20%5B12.9271867%2C%2077.6266252%2C%20216.0%5D%2C%20%5B12.9081487%2C%2077.5553179%2C%20195.0%5D%2C%20%5B12.973936%2C%2077.6509982%2C%20194.0%5D%2C%20%5B12.9932739%2C%2077.5388099%2C%20191.0%5D%2C%20%5B13.2227%2C%2078.5541977%2C%20187.0%5D%2C%20%5B12.9931876%2C%2077.5753419%2C%20165.0%5D%2C%20%5B13.0258087%2C%2077.6305067%2C%20161.0%5D%2C%20%5B1.2847055%2C%20103.84320655721689%2C%20155.0%5D%2C%20%5B13.0358698%2C%2077.6323597%2C%20153.0%5D%2C%20%5B34.977289%2C%20-78.974578%2C%20151.0%5D%2C%20%5B22.3146438%2C%2073.1597756%2C%20139.0%5D%2C%20%5B39.76880625%2C%20-86.15345077251979%2C%20126.0%5D%2C%20%5B13.02383%2C%2077.5529215%2C%20119.0%5D%2C%20%5B12.9414662%2C%2077.7470942%2C%20117.0%5D%2C%20%5B12.967576%2C%2077.7150877%2C%20113.0%5D%2C%20%5B13.0646907%2C%2077.49626895712257%2C%20107.0%5D%2C%20%5B12.9243509%2C%2077.6255562%2C%20102.0%5D%2C%20%5B12.773175%2C%2077.7831871%2C%20102.0%5D%2C%20%5B12.9846713%2C%2077.6790908%2C%20101.0%5D%2C%20%5B17.2510682%2C%2080.1651978%2C%2090.0%5D%2C%20%5B22.8359967%2C%2069.3405962%2C%2080.0%5D%2C%20%5B13.0227204%2C%2077.595715%2C%2080.0%5D%2C%20%5B23.1485712%2C%2081.6048241%2C%2076.0%5D%2C%20%5B15.8782951%2C%2074.5084834%2C%2063.0%5D%2C%20%5B13.0621474%2C%2077.58006135480495%2C%2053.0%5D%2C%20%5B13.2923988%2C%2077.7519261%2C%2048.0%5D%2C%20%5B13.0215466%2C%2077.7640586%2C%2044.0%5D%2C%20%5B11.9917786%2C%2076.5066292%2C%2038.0%5D%2C%20%5B12.945048%2C%2077.263004%2C%2034.0%5D%2C%20%5B12.957998%2C%2077.6037312%2C%2027.0%5D%2C%20%5B38.7801076%2C%20-121.5056438%2C%2027.0%5D%2C%20%5B13.194416%2C%2078.7011301%2C%2022.0%5D%2C%20%5B12.3872141%2C%2076.6669626%2C%2022.0%5D%2C%20%5B12.5607431%2C%2077.4258375%2C%2019.0%5D%2C%20%5B13.007516%2C%2077.695935%2C%2018.0%5D%2C%20%5B12.9055682%2C%2077.5455438%2C%2017.0%5D%2C%20%5B13.0217151%2C%2077.7660547%2C%2014.0%5D%2C%20%5B13.0382184%2C%2077.5919%2C%2014.0%5D%2C%20%5B12.9176571%2C%2077.4837568%2C%209.0%5D%2C%20%5B12.9546741%2C%2077.5121724%2C%209.0%5D%2C%20%5B13.0101286%2C%2077.5548006%2C%208.0%5D%2C%20%5B13.1006982%2C%2077.5963454%2C%206.0%5D%2C%20%5B13.0011289%2C%2077.6325617%2C%206.0%5D%2C%20%5B13.0784743%2C%2077.6068938%2C%203.0%5D%2C%20%5B12.9274413%2C%2077.5155224%2C%202.0%5D%2C%20%5B13.0329419%2C%2077.5273253%2C%201.0%5D%5D%2C%0A%20%20%20%20%20%20%20%20%20%20%20%20%20%20%20%20%7B%22blur%22%3A%2015%2C%20%22maxZoom%22%3A%2018%2C%20%22minOpacity%22%3A%200.5%2C%20%22radius%22%3A%2025%2C%20%22zoom%22%3A%2020%7D%0A%20%20%20%20%20%20%20%20%20%20%20%20%29.addTo%28map_7ed7ec28ba174e95b86571b60b9b069b%29%3B%0A%20%20%20%20%20%20%20%20%0A%20%20%20%20%0A%20%20%20%20%20%20%20%20%20%20%20%20var%20fast_marker_cluster_67abcde485964085baf009d143c3d9de%20%3D%20%28function%28%29%7B%0A%20%20%20%20%20%20%20%20%20%20%20%20%20%20%20%20%0A%20%20%20%20%20%20%20%20%20%20%20%20%20%20%20%20var%20callback%20%3D%20function%20%28row%29%20%7B%0A%20%20%20%20%20%20%20%20%20%20%20%20%20%20%20%20%20%20%20%20var%20icon%20%3D%20L.AwesomeMarkers.icon%28%29%3B%0A%20%20%20%20%20%20%20%20%20%20%20%20%20%20%20%20%20%20%20%20var%20marker%20%3D%20L.marker%28new%20L.LatLng%28row%5B0%5D%2C%20row%5B1%5D%29%29%3B%0A%20%20%20%20%20%20%20%20%20%20%20%20%20%20%20%20%20%20%20%20marker.setIcon%28icon%29%3B%0A%20%20%20%20%20%20%20%20%20%20%20%20%20%20%20%20%20%20%20%20return%20marker%3B%0A%20%20%20%20%20%20%20%20%20%20%20%20%20%20%20%20%7D%3B%0A%0A%20%20%20%20%20%20%20%20%20%20%20%20%20%20%20%20var%20data%20%3D%20%5B%5B45.95485055%2C%20-112.49659530324134%2C%205124.0%5D%2C%20%5B18.1475%2C%2041.538889%2C%202523.0%5D%2C%20%5B13.00540865%2C%2074.79460685941484%2C%202504.0%5D%2C%20%5B12.2655944%2C%2076.6465404%2C%202235.0%5D%2C%20%5B44.3730577%2C%20-71.6118577%2C%202144.0%5D%2C%20%5B12.9732913%2C%2077.6404672%2C%202083.0%5D%2C%20%5B27.64392675%2C%2083.05280519687284%2C%201926.0%5D%2C%20%5B12.9552572%2C%2077.6984163%2C%201846.0%5D%2C%20%5B12.887979%2C%2077.5970812%2C%201630.0%5D%2C%20%5B12.93577245%2C%2077.66676103753434%2C%201286.0%5D%2C%20%5B-6.2659285%2C%20106.7842561%2C%201258.0%5D%2C%20%5B14.5395813%2C%20121.070371%2C%201238.0%5D%2C%20%5B40.28745%2C%20-76.964526%2C%201218.0%5D%2C%20%5B13.0078418%2C%2074.7963208%2C%201181.0%5D%2C%20%5B12.9400321%2C%2077.6203272%2C%201156.0%5D%2C%20%5B12.9242381%2C%2077.6289059%2C%201065.0%5D%2C%20%5B12.9778793%2C%2077.6246697%2C%201023.0%5D%2C%20%5B12.93433385%2C%2077.63040639553275%2C%201017.0%5D%2C%20%5B17.9895618%2C%2079.5967057%2C%20918.0%5D%2C%20%5B15.8876779%2C%2075.7046777%2C%20906.0%5D%2C%20%5B13.0221416%2C%2077.6403368%2C%20853.0%5D%2C%20%5B50.7721586%2C%200.09772783661369303%2C%20812.0%5D%2C%20%5B12.996845%2C%2077.6130165%2C%20727.0%5D%2C%20%5B13.0027353%2C%2077.5703253%2C%20725.0%5D%2C%20%5B12.9417261%2C%2077.5755021%2C%20684.0%5D%2C%20%5B38.7385916%2C%20-77.5275749%2C%20675.0%5D%2C%20%5B13.0141618%2C%2077.6518539%2C%20664.0%5D%2C%20%5B33.5935063%2C%20-79.0345627%2C%20658.0%5D%2C%20%5B13.0346384%2C%2077.5681733%2C%20649.0%5D%2C%20%5B13.0093455%2C%2077.6377094%2C%20648.0%5D%2C%20%5B12.9882338%2C%2077.554883%2C%20591.0%5D%2C%20%5B51.373656%2C%20-0.1042366%2C%20569.0%5D%2C%20%5B40.7652844%2C%20-76.373824%2C%20529.0%5D%2C%20%5B12.9575547%2C%2077.5979099%2C%20511.0%5D%2C%20%5B18.5322493%2C%2073.8499601124847%2C%20499.0%5D%2C%20%5B12.9624669%2C%2077.6381958%2C%20496.0%5D%2C%20%5B31.89376%2C%20-88.066644%2C%20491.0%5D%2C%20%5B-8.9189606%2C%2033.4588989%2C%20446.0%5D%2C%20%5B12.945245%2C%2077.6269144%2C%20439.0%5D%2C%20%5B51.5153824%2C%20-0.0719631%2C%20370.0%5D%2C%20%5B51.5227651%2C%20-0.7354457%2C%20352.0%5D%2C%20%5B12.9417812%2C%2077.6160146%2C%20320.0%5D%2C%20%5B12.988721250000001%2C%2077.58516877601824%2C%20295.0%5D%2C%20%5B12.9678074%2C%2077.6568367%2C%20272.0%5D%2C%20%5B12.9489339%2C%2077.5968273%2C%20246.0%5D%2C%20%5B12.9089453%2C%2077.6239038%2C%20238.0%5D%2C%20%5B12.9271867%2C%2077.6266252%2C%20216.0%5D%2C%20%5B12.9081487%2C%2077.5553179%2C%20195.0%5D%2C%20%5B12.973936%2C%2077.6509982%2C%20194.0%5D%2C%20%5B12.9932739%2C%2077.5388099%2C%20191.0%5D%2C%20%5B13.2227%2C%2078.5541977%2C%20187.0%5D%2C%20%5B12.9931876%2C%2077.5753419%2C%20165.0%5D%2C%20%5B13.0258087%2C%2077.6305067%2C%20161.0%5D%2C%20%5B1.2847055%2C%20103.84320655721689%2C%20155.0%5D%2C%20%5B13.0358698%2C%2077.6323597%2C%20153.0%5D%2C%20%5B34.977289%2C%20-78.974578%2C%20151.0%5D%2C%20%5B22.3146438%2C%2073.1597756%2C%20139.0%5D%2C%20%5B39.76880625%2C%20-86.15345077251979%2C%20126.0%5D%2C%20%5B13.02383%2C%2077.5529215%2C%20119.0%5D%2C%20%5B12.9414662%2C%2077.7470942%2C%20117.0%5D%2C%20%5B12.967576%2C%2077.7150877%2C%20113.0%5D%2C%20%5B13.0646907%2C%2077.49626895712257%2C%20107.0%5D%2C%20%5B12.9243509%2C%2077.6255562%2C%20102.0%5D%2C%20%5B12.773175%2C%2077.7831871%2C%20102.0%5D%2C%20%5B12.9846713%2C%2077.6790908%2C%20101.0%5D%2C%20%5B17.2510682%2C%2080.1651978%2C%2090.0%5D%2C%20%5B22.8359967%2C%2069.3405962%2C%2080.0%5D%2C%20%5B13.0227204%2C%2077.595715%2C%2080.0%5D%2C%20%5B23.1485712%2C%2081.6048241%2C%2076.0%5D%2C%20%5B15.8782951%2C%2074.5084834%2C%2063.0%5D%2C%20%5B13.0621474%2C%2077.58006135480495%2C%2053.0%5D%2C%20%5B13.2923988%2C%2077.7519261%2C%2048.0%5D%2C%20%5B13.0215466%2C%2077.7640586%2C%2044.0%5D%2C%20%5B11.9917786%2C%2076.5066292%2C%2038.0%5D%2C%20%5B12.945048%2C%2077.263004%2C%2034.0%5D%2C%20%5B12.957998%2C%2077.6037312%2C%2027.0%5D%2C%20%5B38.7801076%2C%20-121.5056438%2C%2027.0%5D%2C%20%5B13.194416%2C%2078.7011301%2C%2022.0%5D%2C%20%5B12.3872141%2C%2076.6669626%2C%2022.0%5D%2C%20%5B12.5607431%2C%2077.4258375%2C%2019.0%5D%2C%20%5B13.007516%2C%2077.695935%2C%2018.0%5D%2C%20%5B12.9055682%2C%2077.5455438%2C%2017.0%5D%2C%20%5B13.0217151%2C%2077.7660547%2C%2014.0%5D%2C%20%5B13.0382184%2C%2077.5919%2C%2014.0%5D%2C%20%5B12.9176571%2C%2077.4837568%2C%209.0%5D%2C%20%5B12.9546741%2C%2077.5121724%2C%209.0%5D%2C%20%5B13.0101286%2C%2077.5548006%2C%208.0%5D%2C%20%5B13.1006982%2C%2077.5963454%2C%206.0%5D%2C%20%5B13.0011289%2C%2077.6325617%2C%206.0%5D%2C%20%5B13.0784743%2C%2077.6068938%2C%203.0%5D%2C%20%5B12.9274413%2C%2077.5155224%2C%202.0%5D%2C%20%5B13.0329419%2C%2077.5273253%2C%201.0%5D%5D%3B%0A%20%20%20%20%20%20%20%20%20%20%20%20%20%20%20%20var%20cluster%20%3D%20L.markerClusterGroup%28%7B%22zoom%22%3A%2020%7D%29%3B%0A%0A%20%20%20%20%20%20%20%20%20%20%20%20%20%20%20%20for%20%28var%20i%20%3D%200%3B%20i%20%3C%20data.length%3B%20i%2B%2B%29%20%7B%0A%20%20%20%20%20%20%20%20%20%20%20%20%20%20%20%20%20%20%20%20var%20row%20%3D%20data%5Bi%5D%3B%0A%20%20%20%20%20%20%20%20%20%20%20%20%20%20%20%20%20%20%20%20var%20marker%20%3D%20callback%28row%29%3B%0A%20%20%20%20%20%20%20%20%20%20%20%20%20%20%20%20%20%20%20%20marker.addTo%28cluster%29%3B%0A%20%20%20%20%20%20%20%20%20%20%20%20%20%20%20%20%7D%0A%0A%20%20%20%20%20%20%20%20%20%20%20%20%20%20%20%20cluster.addTo%28map_7ed7ec28ba174e95b86571b60b9b069b%29%3B%0A%20%20%20%20%20%20%20%20%20%20%20%20%20%20%20%20return%20cluster%3B%0A%20%20%20%20%20%20%20%20%20%20%20%20%7D%29%28%29%3B%0A%20%20%20%20%20%20%20%20%0A%20%20%20%20%0A%20%20%20%20%20%20%20%20%20%20%20%20var%20fast_marker_cluster_866a2a169704471caed40aae192a79af%20%3D%20%28function%28%29%7B%0A%20%20%20%20%20%20%20%20%20%20%20%20%20%20%20%20%0A%20%20%20%20%20%20%20%20%20%20%20%20%20%20%20%20var%20callback%20%3D%20function%20%28row%29%20%7B%0A%20%20%20%20%20%20%20%20%20%20%20%20%20%20%20%20%20%20%20%20var%20icon%20%3D%20L.AwesomeMarkers.icon%28%29%3B%0A%20%20%20%20%20%20%20%20%20%20%20%20%20%20%20%20%20%20%20%20var%20marker%20%3D%20L.marker%28new%20L.LatLng%28row%5B0%5D%2C%20row%5B1%5D%29%29%3B%0A%20%20%20%20%20%20%20%20%20%20%20%20%20%20%20%20%20%20%20%20marker.setIcon%28icon%29%3B%0A%20%20%20%20%20%20%20%20%20%20%20%20%20%20%20%20%20%20%20%20return%20marker%3B%0A%20%20%20%20%20%20%20%20%20%20%20%20%20%20%20%20%7D%3B%0A%0A%20%20%20%20%20%20%20%20%20%20%20%20%20%20%20%20var%20data%20%3D%20%5B%5B45.95485055%2C%20-112.49659530324134%2C%205124.0%5D%2C%20%5B18.1475%2C%2041.538889%2C%202523.0%5D%2C%20%5B13.00540865%2C%2074.79460685941484%2C%202504.0%5D%2C%20%5B12.2655944%2C%2076.6465404%2C%202235.0%5D%2C%20%5B44.3730577%2C%20-71.6118577%2C%202144.0%5D%2C%20%5B12.9732913%2C%2077.6404672%2C%202083.0%5D%2C%20%5B27.64392675%2C%2083.05280519687284%2C%201926.0%5D%2C%20%5B12.9552572%2C%2077.6984163%2C%201846.0%5D%2C%20%5B12.887979%2C%2077.5970812%2C%201630.0%5D%2C%20%5B12.93577245%2C%2077.66676103753434%2C%201286.0%5D%2C%20%5B-6.2659285%2C%20106.7842561%2C%201258.0%5D%2C%20%5B14.5395813%2C%20121.070371%2C%201238.0%5D%2C%20%5B40.28745%2C%20-76.964526%2C%201218.0%5D%2C%20%5B13.0078418%2C%2074.7963208%2C%201181.0%5D%2C%20%5B12.9400321%2C%2077.6203272%2C%201156.0%5D%2C%20%5B12.9242381%2C%2077.6289059%2C%201065.0%5D%2C%20%5B12.9778793%2C%2077.6246697%2C%201023.0%5D%2C%20%5B12.93433385%2C%2077.63040639553275%2C%201017.0%5D%2C%20%5B17.9895618%2C%2079.5967057%2C%20918.0%5D%2C%20%5B15.8876779%2C%2075.7046777%2C%20906.0%5D%2C%20%5B13.0221416%2C%2077.6403368%2C%20853.0%5D%2C%20%5B50.7721586%2C%200.09772783661369303%2C%20812.0%5D%2C%20%5B12.996845%2C%2077.6130165%2C%20727.0%5D%2C%20%5B13.0027353%2C%2077.5703253%2C%20725.0%5D%2C%20%5B12.9417261%2C%2077.5755021%2C%20684.0%5D%2C%20%5B38.7385916%2C%20-77.5275749%2C%20675.0%5D%2C%20%5B13.0141618%2C%2077.6518539%2C%20664.0%5D%2C%20%5B33.5935063%2C%20-79.0345627%2C%20658.0%5D%2C%20%5B13.0346384%2C%2077.5681733%2C%20649.0%5D%2C%20%5B13.0093455%2C%2077.6377094%2C%20648.0%5D%2C%20%5B12.9882338%2C%2077.554883%2C%20591.0%5D%2C%20%5B51.373656%2C%20-0.1042366%2C%20569.0%5D%2C%20%5B40.7652844%2C%20-76.373824%2C%20529.0%5D%2C%20%5B12.9575547%2C%2077.5979099%2C%20511.0%5D%2C%20%5B18.5322493%2C%2073.8499601124847%2C%20499.0%5D%2C%20%5B12.9624669%2C%2077.6381958%2C%20496.0%5D%2C%20%5B31.89376%2C%20-88.066644%2C%20491.0%5D%2C%20%5B-8.9189606%2C%2033.4588989%2C%20446.0%5D%2C%20%5B12.945245%2C%2077.6269144%2C%20439.0%5D%2C%20%5B51.5153824%2C%20-0.0719631%2C%20370.0%5D%2C%20%5B51.5227651%2C%20-0.7354457%2C%20352.0%5D%2C%20%5B12.9417812%2C%2077.6160146%2C%20320.0%5D%2C%20%5B12.988721250000001%2C%2077.58516877601824%2C%20295.0%5D%2C%20%5B12.9678074%2C%2077.6568367%2C%20272.0%5D%2C%20%5B12.9489339%2C%2077.5968273%2C%20246.0%5D%2C%20%5B12.9089453%2C%2077.6239038%2C%20238.0%5D%2C%20%5B12.9271867%2C%2077.6266252%2C%20216.0%5D%2C%20%5B12.9081487%2C%2077.5553179%2C%20195.0%5D%2C%20%5B12.973936%2C%2077.6509982%2C%20194.0%5D%2C%20%5B12.9932739%2C%2077.5388099%2C%20191.0%5D%2C%20%5B13.2227%2C%2078.5541977%2C%20187.0%5D%2C%20%5B12.9931876%2C%2077.5753419%2C%20165.0%5D%2C%20%5B13.0258087%2C%2077.6305067%2C%20161.0%5D%2C%20%5B1.2847055%2C%20103.84320655721689%2C%20155.0%5D%2C%20%5B13.0358698%2C%2077.6323597%2C%20153.0%5D%2C%20%5B34.977289%2C%20-78.974578%2C%20151.0%5D%2C%20%5B22.3146438%2C%2073.1597756%2C%20139.0%5D%2C%20%5B39.76880625%2C%20-86.15345077251979%2C%20126.0%5D%2C%20%5B13.02383%2C%2077.5529215%2C%20119.0%5D%2C%20%5B12.9414662%2C%2077.7470942%2C%20117.0%5D%2C%20%5B12.967576%2C%2077.7150877%2C%20113.0%5D%2C%20%5B13.0646907%2C%2077.49626895712257%2C%20107.0%5D%2C%20%5B12.9243509%2C%2077.6255562%2C%20102.0%5D%2C%20%5B12.773175%2C%2077.7831871%2C%20102.0%5D%2C%20%5B12.9846713%2C%2077.6790908%2C%20101.0%5D%2C%20%5B17.2510682%2C%2080.1651978%2C%2090.0%5D%2C%20%5B22.8359967%2C%2069.3405962%2C%2080.0%5D%2C%20%5B13.0227204%2C%2077.595715%2C%2080.0%5D%2C%20%5B23.1485712%2C%2081.6048241%2C%2076.0%5D%2C%20%5B15.8782951%2C%2074.5084834%2C%2063.0%5D%2C%20%5B13.0621474%2C%2077.58006135480495%2C%2053.0%5D%2C%20%5B13.2923988%2C%2077.7519261%2C%2048.0%5D%2C%20%5B13.0215466%2C%2077.7640586%2C%2044.0%5D%2C%20%5B11.9917786%2C%2076.5066292%2C%2038.0%5D%2C%20%5B12.945048%2C%2077.263004%2C%2034.0%5D%2C%20%5B12.957998%2C%2077.6037312%2C%2027.0%5D%2C%20%5B38.7801076%2C%20-121.5056438%2C%2027.0%5D%2C%20%5B13.194416%2C%2078.7011301%2C%2022.0%5D%2C%20%5B12.3872141%2C%2076.6669626%2C%2022.0%5D%2C%20%5B12.5607431%2C%2077.4258375%2C%2019.0%5D%2C%20%5B13.007516%2C%2077.695935%2C%2018.0%5D%2C%20%5B12.9055682%2C%2077.5455438%2C%2017.0%5D%2C%20%5B13.0217151%2C%2077.7660547%2C%2014.0%5D%2C%20%5B13.0382184%2C%2077.5919%2C%2014.0%5D%2C%20%5B12.9176571%2C%2077.4837568%2C%209.0%5D%2C%20%5B12.9546741%2C%2077.5121724%2C%209.0%5D%2C%20%5B13.0101286%2C%2077.5548006%2C%208.0%5D%2C%20%5B13.1006982%2C%2077.5963454%2C%206.0%5D%2C%20%5B13.0011289%2C%2077.6325617%2C%206.0%5D%2C%20%5B13.0784743%2C%2077.6068938%2C%203.0%5D%2C%20%5B12.9274413%2C%2077.5155224%2C%202.0%5D%2C%20%5B13.0329419%2C%2077.5273253%2C%201.0%5D%5D%3B%0A%20%20%20%20%20%20%20%20%20%20%20%20%20%20%20%20var%20cluster%20%3D%20L.markerClusterGroup%28%7B%22zoom%22%3A%2020%7D%29%3B%0A%0A%20%20%20%20%20%20%20%20%20%20%20%20%20%20%20%20for%20%28var%20i%20%3D%200%3B%20i%20%3C%20data.length%3B%20i%2B%2B%29%20%7B%0A%20%20%20%20%20%20%20%20%20%20%20%20%20%20%20%20%20%20%20%20var%20row%20%3D%20data%5Bi%5D%3B%0A%20%20%20%20%20%20%20%20%20%20%20%20%20%20%20%20%20%20%20%20var%20marker%20%3D%20callback%28row%29%3B%0A%20%20%20%20%20%20%20%20%20%20%20%20%20%20%20%20%20%20%20%20marker.addTo%28cluster%29%3B%0A%20%20%20%20%20%20%20%20%20%20%20%20%20%20%20%20%7D%0A%0A%20%20%20%20%20%20%20%20%20%20%20%20%20%20%20%20cluster.addTo%28map_7ed7ec28ba174e95b86571b60b9b069b%29%3B%0A%20%20%20%20%20%20%20%20%20%20%20%20%20%20%20%20return%20cluster%3B%0A%20%20%20%20%20%20%20%20%20%20%20%20%7D%29%28%29%3B%0A%20%20%20%20%20%20%20%20%0A%3C/script%3E onload=\"this.contentDocument.open();this.contentDocument.write(    decodeURIComponent(this.getAttribute('data-html')));this.contentDocument.close();\" allowfullscreen webkitallowfullscreen mozallowfullscreen></iframe></div></div>"
            ],
            "text/plain": [
              "<folium.folium.Map at 0x21f80d33948>"
            ]
          },
          "metadata": {
            "tags": []
          },
          "execution_count": 22
        }
      ]
    },
    {
      "cell_type": "code",
      "metadata": {
        "id": "yftGn0wWok0x",
        "outputId": "924f9258-82ee-4e58-a347-bdfb14d8a4a1"
      },
      "source": [
        "##Restaurants based on average ratings\n",
        "\n",
        "df['rate'].unique()"
      ],
      "execution_count": null,
      "outputs": [
        {
          "output_type": "execute_result",
          "data": {
            "text/plain": [
              "array(['4.1/5', '3.8/5', '3.7/5', '3.6/5', '4.6/5', '4.0/5', '4.2/5',\n",
              "       '3.9/5', '3.1/5', '3.0/5', '3.2/5', '3.3/5', '2.8/5', '4.4/5',\n",
              "       '4.3/5', 'NEW', '2.9/5', '3.5/5', nan, '2.6/5', '3.8 /5', '3.4/5',\n",
              "       '4.5/5', '2.5/5', '2.7/5', '4.7/5', '2.4/5', '2.2/5', '2.3/5',\n",
              "       '3.4 /5', '-', '3.6 /5', '4.8/5', '3.9 /5', '4.2 /5', '4.0 /5',\n",
              "       '4.1 /5', '3.7 /5', '3.1 /5', '2.9 /5', '3.3 /5', '2.8 /5',\n",
              "       '3.5 /5', '2.7 /5', '2.5 /5', '3.2 /5', '2.6 /5', '4.5 /5',\n",
              "       '4.3 /5', '4.4 /5', '4.9/5', '2.1/5', '2.0/5', '1.8/5', '4.6 /5',\n",
              "       '4.9 /5', '3.0 /5', '4.8 /5', '2.3 /5', '4.7 /5', '2.4 /5',\n",
              "       '2.1 /5', '2.2 /5', '2.0 /5', '1.8 /5'], dtype=object)"
            ]
          },
          "metadata": {
            "tags": []
          },
          "execution_count": 24
        }
      ]
    },
    {
      "cell_type": "code",
      "metadata": {
        "id": "7555hjhAok0y"
      },
      "source": [
        "df.dropna(axis=0,subset=['rate'],inplace=True)"
      ],
      "execution_count": null,
      "outputs": []
    },
    {
      "cell_type": "code",
      "metadata": {
        "id": "uqp6t2GVok0y",
        "outputId": "7fe5e441-ee9b-42f2-d5be-8b464575b637"
      },
      "source": [
        "def split(x):\n",
        "    return x.split('/')[0]\n",
        "\n",
        "df['rating']=df['rate'].apply(split)\n",
        "\n",
        "df.replace('NEW',0,inplace=True)\n",
        "\n",
        "df.replace('-',0,inplace=True)\n",
        "\n",
        "df['rating'].unique()"
      ],
      "execution_count": null,
      "outputs": [
        {
          "output_type": "execute_result",
          "data": {
            "text/plain": [
              "array(['4.1', '3.8', '3.7', '3.6', '4.6', '4.0', '4.2', '3.9', '3.1',\n",
              "       '3.0', '3.2', '3.3', '2.8', '4.4', '4.3', 0, '2.9', '3.5', '2.6',\n",
              "       '3.8 ', '3.4', '4.5', '2.5', '2.7', '4.7', '2.4', '2.2', '2.3',\n",
              "       '3.4 ', '3.6 ', '4.8', '3.9 ', '4.2 ', '4.0 ', '4.1 ', '3.7 ',\n",
              "       '3.1 ', '2.9 ', '3.3 ', '2.8 ', '3.5 ', '2.7 ', '2.5 ', '3.2 ',\n",
              "       '2.6 ', '4.5 ', '4.3 ', '4.4 ', '4.9', '2.1', '2.0', '1.8', '4.6 ',\n",
              "       '4.9 ', '3.0 ', '4.8 ', '2.3 ', '4.7 ', '2.4 ', '2.1 ', '2.2 ',\n",
              "       '2.0 ', '1.8 '], dtype=object)"
            ]
          },
          "metadata": {
            "tags": []
          },
          "execution_count": 29
        }
      ]
    },
    {
      "cell_type": "code",
      "metadata": {
        "id": "E5JDZz2xok0z"
      },
      "source": [
        "df['rating']=pd.to_numeric(df['rating'])\n"
      ],
      "execution_count": null,
      "outputs": []
    },
    {
      "cell_type": "code",
      "metadata": {
        "id": "l_nrPCyFok0z",
        "outputId": "bee28468-5a97-4b5e-8c9c-d7a353f55fe9"
      },
      "source": [
        "df.groupby('location')['rating'].mean().sort_values(ascending=False)"
      ],
      "execution_count": null,
      "outputs": [
        {
          "output_type": "execute_result",
          "data": {
            "text/plain": [
              "location\n",
              "Lavelle Road             4.042886\n",
              "St. Marks Road           4.017201\n",
              "Koramangala 3rd Block    3.978756\n",
              "Sankey Road              3.965385\n",
              "Church Street            3.963091\n",
              "                           ...   \n",
              "Electronic City          3.041909\n",
              "Bommanahalli             2.926752\n",
              "Hebbal                   2.880000\n",
              "North Bangalore          2.385714\n",
              "West Bangalore           2.020000\n",
              "Name: rating, Length: 92, dtype: float64"
            ]
          },
          "metadata": {
            "tags": []
          },
          "execution_count": 34
        }
      ]
    },
    {
      "cell_type": "code",
      "metadata": {
        "id": "92QE8uu1ok0z"
      },
      "source": [
        "avg_rating = df.groupby('location')['rating'].mean().sort_values(ascending=False).values"
      ],
      "execution_count": null,
      "outputs": []
    },
    {
      "cell_type": "code",
      "metadata": {
        "id": "cc6PeXQNok00"
      },
      "source": [
        "location = df.groupby('location')['rating'].mean().sort_values(ascending=False).reset_index"
      ],
      "execution_count": null,
      "outputs": []
    },
    {
      "cell_type": "code",
      "metadata": {
        "id": "s8vBu3MUok00"
      },
      "source": [
        "rating = pd.DataFrame()\n",
        "\n",
        "lat=[]\n",
        "lon=[]\n",
        "\n",
        "for loc in location:\n",
        "    loc=geolocator.geocode(loc)\n",
        "    if loc is None:\n",
        "        lat.append(np.nan)\n",
        "        lon.append(np.nan)\n",
        "    else:\n",
        "        lat.append(loc.latitude)\n",
        "        lon.append(loc.longitude)\n",
        "        \n"
      ],
      "execution_count": null,
      "outputs": []
    },
    {
      "cell_type": "code",
      "metadata": {
        "id": "J5RhqLOYok00",
        "outputId": "c31dd871-3d0a-4f21-a349-ac9d42e4d83c"
      },
      "source": [
        "rating['location']=location\n",
        "rating['lat']=lat\n",
        "rating['lon']=lon\n",
        "rating['avg_rating']=avg_rating\n",
        "\n",
        "rating.dropna(inplace=True)\n",
        "\n",
        "rating.head()"
      ],
      "execution_count": null,
      "outputs": [
        {
          "output_type": "execute_result",
          "data": {
            "text/html": [
              "<div>\n",
              "<style scoped>\n",
              "    .dataframe tbody tr th:only-of-type {\n",
              "        vertical-align: middle;\n",
              "    }\n",
              "\n",
              "    .dataframe tbody tr th {\n",
              "        vertical-align: top;\n",
              "    }\n",
              "\n",
              "    .dataframe thead th {\n",
              "        text-align: right;\n",
              "    }\n",
              "</style>\n",
              "<table border=\"1\" class=\"dataframe\">\n",
              "  <thead>\n",
              "    <tr style=\"text-align: right;\">\n",
              "      <th></th>\n",
              "      <th>location</th>\n",
              "      <th>lat</th>\n",
              "      <th>lon</th>\n",
              "      <th>avg_rating</th>\n",
              "    </tr>\n",
              "  </thead>\n",
              "  <tbody>\n",
              "    <tr>\n",
              "      <th>0</th>\n",
              "      <td>Lavelle Road</td>\n",
              "      <td>40.765284</td>\n",
              "      <td>-76.373824</td>\n",
              "      <td>4.042886</td>\n",
              "    </tr>\n",
              "    <tr>\n",
              "      <th>1</th>\n",
              "      <td>St. Marks Road</td>\n",
              "      <td>51.522765</td>\n",
              "      <td>-0.735446</td>\n",
              "      <td>4.017201</td>\n",
              "    </tr>\n",
              "    <tr>\n",
              "      <th>2</th>\n",
              "      <td>Koramangala 3rd Block</td>\n",
              "      <td>12.927187</td>\n",
              "      <td>77.626625</td>\n",
              "      <td>3.978756</td>\n",
              "    </tr>\n",
              "    <tr>\n",
              "      <th>3</th>\n",
              "      <td>Sankey Road</td>\n",
              "      <td>38.780108</td>\n",
              "      <td>-121.505644</td>\n",
              "      <td>3.965385</td>\n",
              "    </tr>\n",
              "    <tr>\n",
              "      <th>4</th>\n",
              "      <td>Church Street</td>\n",
              "      <td>51.373656</td>\n",
              "      <td>-0.104237</td>\n",
              "      <td>3.963091</td>\n",
              "    </tr>\n",
              "  </tbody>\n",
              "</table>\n",
              "</div>"
            ],
            "text/plain": [
              "                location        lat         lon  avg_rating\n",
              "0           Lavelle Road  40.765284  -76.373824    4.042886\n",
              "1         St. Marks Road  51.522765   -0.735446    4.017201\n",
              "2  Koramangala 3rd Block  12.927187   77.626625    3.978756\n",
              "3            Sankey Road  38.780108 -121.505644    3.965385\n",
              "4          Church Street  51.373656   -0.104237    3.963091"
            ]
          },
          "metadata": {
            "tags": []
          },
          "execution_count": 45
        }
      ]
    },
    {
      "cell_type": "code",
      "metadata": {
        "id": "AMOpkDStok01",
        "outputId": "980b4c05-b8f8-4890-d650-1a2706a00482"
      },
      "source": [
        "HeatMap(rating[['lat','lon','avg_rating']]).add_to(basemap)\n",
        "\n",
        "basemap"
      ],
      "execution_count": null,
      "outputs": [
        {
          "output_type": "execute_result",
          "data": {
            "text/html": [
              "<div style=\"width:100%;\"><div style=\"position:relative;width:100%;height:0;padding-bottom:60%;\"><span style=\"color:#565656\">Make this Notebook Trusted to load map: File -> Trust Notebook</span><iframe src=\"about:blank\" style=\"position:absolute;width:100%;height:100%;left:0;top:0;border:none !important;\" data-html=%3C%21DOCTYPE%20html%3E%0A%3Chead%3E%20%20%20%20%0A%20%20%20%20%3Cmeta%20http-equiv%3D%22content-type%22%20content%3D%22text/html%3B%20charset%3DUTF-8%22%20/%3E%0A%20%20%20%20%0A%20%20%20%20%20%20%20%20%3Cscript%3E%0A%20%20%20%20%20%20%20%20%20%20%20%20L_NO_TOUCH%20%3D%20false%3B%0A%20%20%20%20%20%20%20%20%20%20%20%20L_DISABLE_3D%20%3D%20false%3B%0A%20%20%20%20%20%20%20%20%3C/script%3E%0A%20%20%20%20%0A%20%20%20%20%3Cstyle%3Ehtml%2C%20body%20%7Bwidth%3A%20100%25%3Bheight%3A%20100%25%3Bmargin%3A%200%3Bpadding%3A%200%3B%7D%3C/style%3E%0A%20%20%20%20%3Cstyle%3E%23map%20%7Bposition%3Aabsolute%3Btop%3A0%3Bbottom%3A0%3Bright%3A0%3Bleft%3A0%3B%7D%3C/style%3E%0A%20%20%20%20%3Cscript%20src%3D%22https%3A//cdn.jsdelivr.net/npm/leaflet%401.6.0/dist/leaflet.js%22%3E%3C/script%3E%0A%20%20%20%20%3Cscript%20src%3D%22https%3A//code.jquery.com/jquery-1.12.4.min.js%22%3E%3C/script%3E%0A%20%20%20%20%3Cscript%20src%3D%22https%3A//maxcdn.bootstrapcdn.com/bootstrap/3.2.0/js/bootstrap.min.js%22%3E%3C/script%3E%0A%20%20%20%20%3Cscript%20src%3D%22https%3A//cdnjs.cloudflare.com/ajax/libs/Leaflet.awesome-markers/2.0.2/leaflet.awesome-markers.js%22%3E%3C/script%3E%0A%20%20%20%20%3Clink%20rel%3D%22stylesheet%22%20href%3D%22https%3A//cdn.jsdelivr.net/npm/leaflet%401.6.0/dist/leaflet.css%22/%3E%0A%20%20%20%20%3Clink%20rel%3D%22stylesheet%22%20href%3D%22https%3A//maxcdn.bootstrapcdn.com/bootstrap/3.2.0/css/bootstrap.min.css%22/%3E%0A%20%20%20%20%3Clink%20rel%3D%22stylesheet%22%20href%3D%22https%3A//maxcdn.bootstrapcdn.com/bootstrap/3.2.0/css/bootstrap-theme.min.css%22/%3E%0A%20%20%20%20%3Clink%20rel%3D%22stylesheet%22%20href%3D%22https%3A//maxcdn.bootstrapcdn.com/font-awesome/4.6.3/css/font-awesome.min.css%22/%3E%0A%20%20%20%20%3Clink%20rel%3D%22stylesheet%22%20href%3D%22https%3A//cdnjs.cloudflare.com/ajax/libs/Leaflet.awesome-markers/2.0.2/leaflet.awesome-markers.css%22/%3E%0A%20%20%20%20%3Clink%20rel%3D%22stylesheet%22%20href%3D%22https%3A//cdn.jsdelivr.net/gh/python-visualization/folium/folium/templates/leaflet.awesome.rotate.min.css%22/%3E%0A%20%20%20%20%0A%20%20%20%20%20%20%20%20%20%20%20%20%3Cmeta%20name%3D%22viewport%22%20content%3D%22width%3Ddevice-width%2C%0A%20%20%20%20%20%20%20%20%20%20%20%20%20%20%20%20initial-scale%3D1.0%2C%20maximum-scale%3D1.0%2C%20user-scalable%3Dno%22%20/%3E%0A%20%20%20%20%20%20%20%20%20%20%20%20%3Cstyle%3E%0A%20%20%20%20%20%20%20%20%20%20%20%20%20%20%20%20%23map_7ed7ec28ba174e95b86571b60b9b069b%20%7B%0A%20%20%20%20%20%20%20%20%20%20%20%20%20%20%20%20%20%20%20%20position%3A%20relative%3B%0A%20%20%20%20%20%20%20%20%20%20%20%20%20%20%20%20%20%20%20%20width%3A%20100.0%25%3B%0A%20%20%20%20%20%20%20%20%20%20%20%20%20%20%20%20%20%20%20%20height%3A%20100.0%25%3B%0A%20%20%20%20%20%20%20%20%20%20%20%20%20%20%20%20%20%20%20%20left%3A%200.0%25%3B%0A%20%20%20%20%20%20%20%20%20%20%20%20%20%20%20%20%20%20%20%20top%3A%200.0%25%3B%0A%20%20%20%20%20%20%20%20%20%20%20%20%20%20%20%20%7D%0A%20%20%20%20%20%20%20%20%20%20%20%20%3C/style%3E%0A%20%20%20%20%20%20%20%20%0A%20%20%20%20%3Cscript%20src%3D%22https%3A//cdn.jsdelivr.net/gh/python-visualization/folium%40master/folium/templates/leaflet_heat.min.js%22%3E%3C/script%3E%0A%20%20%20%20%3Cscript%20src%3D%22https%3A//cdnjs.cloudflare.com/ajax/libs/leaflet.markercluster/1.1.0/leaflet.markercluster.js%22%3E%3C/script%3E%0A%20%20%20%20%3Clink%20rel%3D%22stylesheet%22%20href%3D%22https%3A//cdnjs.cloudflare.com/ajax/libs/leaflet.markercluster/1.1.0/MarkerCluster.css%22/%3E%0A%20%20%20%20%3Clink%20rel%3D%22stylesheet%22%20href%3D%22https%3A//cdnjs.cloudflare.com/ajax/libs/leaflet.markercluster/1.1.0/MarkerCluster.Default.css%22/%3E%0A%3C/head%3E%0A%3Cbody%3E%20%20%20%20%0A%20%20%20%20%0A%20%20%20%20%20%20%20%20%20%20%20%20%3Cdiv%20class%3D%22folium-map%22%20id%3D%22map_7ed7ec28ba174e95b86571b60b9b069b%22%20%3E%3C/div%3E%0A%20%20%20%20%20%20%20%20%0A%3C/body%3E%0A%3Cscript%3E%20%20%20%20%0A%20%20%20%20%0A%20%20%20%20%20%20%20%20%20%20%20%20var%20map_7ed7ec28ba174e95b86571b60b9b069b%20%3D%20L.map%28%0A%20%20%20%20%20%20%20%20%20%20%20%20%20%20%20%20%22map_7ed7ec28ba174e95b86571b60b9b069b%22%2C%0A%20%20%20%20%20%20%20%20%20%20%20%20%20%20%20%20%7B%0A%20%20%20%20%20%20%20%20%20%20%20%20%20%20%20%20%20%20%20%20center%3A%20%5B12.97%2C%2077.59%5D%2C%0A%20%20%20%20%20%20%20%20%20%20%20%20%20%20%20%20%20%20%20%20crs%3A%20L.CRS.EPSG3857%2C%0A%20%20%20%20%20%20%20%20%20%20%20%20%20%20%20%20%20%20%20%20zoom%3A%2012%2C%0A%20%20%20%20%20%20%20%20%20%20%20%20%20%20%20%20%20%20%20%20zoomControl%3A%20true%2C%0A%20%20%20%20%20%20%20%20%20%20%20%20%20%20%20%20%20%20%20%20preferCanvas%3A%20false%2C%0A%20%20%20%20%20%20%20%20%20%20%20%20%20%20%20%20%7D%0A%20%20%20%20%20%20%20%20%20%20%20%20%29%3B%0A%0A%20%20%20%20%20%20%20%20%20%20%20%20%0A%0A%20%20%20%20%20%20%20%20%0A%20%20%20%20%0A%20%20%20%20%20%20%20%20%20%20%20%20var%20tile_layer_847efbd998694336b14d774a66fd7c1e%20%3D%20L.tileLayer%28%0A%20%20%20%20%20%20%20%20%20%20%20%20%20%20%20%20%22https%3A//%7Bs%7D.tile.openstreetmap.org/%7Bz%7D/%7Bx%7D/%7By%7D.png%22%2C%0A%20%20%20%20%20%20%20%20%20%20%20%20%20%20%20%20%7B%22attribution%22%3A%20%22Data%20by%20%5Cu0026copy%3B%20%5Cu003ca%20href%3D%5C%22http%3A//openstreetmap.org%5C%22%5Cu003eOpenStreetMap%5Cu003c/a%5Cu003e%2C%20under%20%5Cu003ca%20href%3D%5C%22http%3A//www.openstreetmap.org/copyright%5C%22%5Cu003eODbL%5Cu003c/a%5Cu003e.%22%2C%20%22detectRetina%22%3A%20false%2C%20%22maxNativeZoom%22%3A%2018%2C%20%22maxZoom%22%3A%2018%2C%20%22minZoom%22%3A%200%2C%20%22noWrap%22%3A%20false%2C%20%22opacity%22%3A%201%2C%20%22subdomains%22%3A%20%22abc%22%2C%20%22tms%22%3A%20false%7D%0A%20%20%20%20%20%20%20%20%20%20%20%20%29.addTo%28map_7ed7ec28ba174e95b86571b60b9b069b%29%3B%0A%20%20%20%20%20%20%20%20%0A%20%20%20%20%0A%20%20%20%20%20%20%20%20%20%20%20%20var%20heat_map_9c265c03e9364ae9b24d3d4138888842%20%3D%20L.heatLayer%28%0A%20%20%20%20%20%20%20%20%20%20%20%20%20%20%20%20%5B%5B45.95485055%2C%20-112.49659530324134%2C%205124.0%5D%2C%20%5B18.1475%2C%2041.538889%2C%202523.0%5D%2C%20%5B13.00540865%2C%2074.79460685941484%2C%202504.0%5D%2C%20%5B12.2655944%2C%2076.6465404%2C%202235.0%5D%2C%20%5B44.3730577%2C%20-71.6118577%2C%202144.0%5D%2C%20%5B12.9732913%2C%2077.6404672%2C%202083.0%5D%2C%20%5B27.64392675%2C%2083.05280519687284%2C%201926.0%5D%2C%20%5B12.9552572%2C%2077.6984163%2C%201846.0%5D%2C%20%5B12.887979%2C%2077.5970812%2C%201630.0%5D%2C%20%5B12.93577245%2C%2077.66676103753434%2C%201286.0%5D%2C%20%5B-6.2659285%2C%20106.7842561%2C%201258.0%5D%2C%20%5B14.5395813%2C%20121.070371%2C%201238.0%5D%2C%20%5B40.28745%2C%20-76.964526%2C%201218.0%5D%2C%20%5B13.0078418%2C%2074.7963208%2C%201181.0%5D%2C%20%5B12.9400321%2C%2077.6203272%2C%201156.0%5D%2C%20%5B12.9242381%2C%2077.6289059%2C%201065.0%5D%2C%20%5B12.9778793%2C%2077.6246697%2C%201023.0%5D%2C%20%5B12.93433385%2C%2077.63040639553275%2C%201017.0%5D%2C%20%5B17.9895618%2C%2079.5967057%2C%20918.0%5D%2C%20%5B15.8876779%2C%2075.7046777%2C%20906.0%5D%2C%20%5B13.0221416%2C%2077.6403368%2C%20853.0%5D%2C%20%5B50.7721586%2C%200.09772783661369303%2C%20812.0%5D%2C%20%5B12.996845%2C%2077.6130165%2C%20727.0%5D%2C%20%5B13.0027353%2C%2077.5703253%2C%20725.0%5D%2C%20%5B12.9417261%2C%2077.5755021%2C%20684.0%5D%2C%20%5B38.7385916%2C%20-77.5275749%2C%20675.0%5D%2C%20%5B13.0141618%2C%2077.6518539%2C%20664.0%5D%2C%20%5B33.5935063%2C%20-79.0345627%2C%20658.0%5D%2C%20%5B13.0346384%2C%2077.5681733%2C%20649.0%5D%2C%20%5B13.0093455%2C%2077.6377094%2C%20648.0%5D%2C%20%5B12.9882338%2C%2077.554883%2C%20591.0%5D%2C%20%5B51.373656%2C%20-0.1042366%2C%20569.0%5D%2C%20%5B40.7652844%2C%20-76.373824%2C%20529.0%5D%2C%20%5B12.9575547%2C%2077.5979099%2C%20511.0%5D%2C%20%5B18.5322493%2C%2073.8499601124847%2C%20499.0%5D%2C%20%5B12.9624669%2C%2077.6381958%2C%20496.0%5D%2C%20%5B31.89376%2C%20-88.066644%2C%20491.0%5D%2C%20%5B-8.9189606%2C%2033.4588989%2C%20446.0%5D%2C%20%5B12.945245%2C%2077.6269144%2C%20439.0%5D%2C%20%5B51.5153824%2C%20-0.0719631%2C%20370.0%5D%2C%20%5B51.5227651%2C%20-0.7354457%2C%20352.0%5D%2C%20%5B12.9417812%2C%2077.6160146%2C%20320.0%5D%2C%20%5B12.988721250000001%2C%2077.58516877601824%2C%20295.0%5D%2C%20%5B12.9678074%2C%2077.6568367%2C%20272.0%5D%2C%20%5B12.9489339%2C%2077.5968273%2C%20246.0%5D%2C%20%5B12.9089453%2C%2077.6239038%2C%20238.0%5D%2C%20%5B12.9271867%2C%2077.6266252%2C%20216.0%5D%2C%20%5B12.9081487%2C%2077.5553179%2C%20195.0%5D%2C%20%5B12.973936%2C%2077.6509982%2C%20194.0%5D%2C%20%5B12.9932739%2C%2077.5388099%2C%20191.0%5D%2C%20%5B13.2227%2C%2078.5541977%2C%20187.0%5D%2C%20%5B12.9931876%2C%2077.5753419%2C%20165.0%5D%2C%20%5B13.0258087%2C%2077.6305067%2C%20161.0%5D%2C%20%5B1.2847055%2C%20103.84320655721689%2C%20155.0%5D%2C%20%5B13.0358698%2C%2077.6323597%2C%20153.0%5D%2C%20%5B34.977289%2C%20-78.974578%2C%20151.0%5D%2C%20%5B22.3146438%2C%2073.1597756%2C%20139.0%5D%2C%20%5B39.76880625%2C%20-86.15345077251979%2C%20126.0%5D%2C%20%5B13.02383%2C%2077.5529215%2C%20119.0%5D%2C%20%5B12.9414662%2C%2077.7470942%2C%20117.0%5D%2C%20%5B12.967576%2C%2077.7150877%2C%20113.0%5D%2C%20%5B13.0646907%2C%2077.49626895712257%2C%20107.0%5D%2C%20%5B12.9243509%2C%2077.6255562%2C%20102.0%5D%2C%20%5B12.773175%2C%2077.7831871%2C%20102.0%5D%2C%20%5B12.9846713%2C%2077.6790908%2C%20101.0%5D%2C%20%5B17.2510682%2C%2080.1651978%2C%2090.0%5D%2C%20%5B22.8359967%2C%2069.3405962%2C%2080.0%5D%2C%20%5B13.0227204%2C%2077.595715%2C%2080.0%5D%2C%20%5B23.1485712%2C%2081.6048241%2C%2076.0%5D%2C%20%5B15.8782951%2C%2074.5084834%2C%2063.0%5D%2C%20%5B13.0621474%2C%2077.58006135480495%2C%2053.0%5D%2C%20%5B13.2923988%2C%2077.7519261%2C%2048.0%5D%2C%20%5B13.0215466%2C%2077.7640586%2C%2044.0%5D%2C%20%5B11.9917786%2C%2076.5066292%2C%2038.0%5D%2C%20%5B12.945048%2C%2077.263004%2C%2034.0%5D%2C%20%5B12.957998%2C%2077.6037312%2C%2027.0%5D%2C%20%5B38.7801076%2C%20-121.5056438%2C%2027.0%5D%2C%20%5B13.194416%2C%2078.7011301%2C%2022.0%5D%2C%20%5B12.3872141%2C%2076.6669626%2C%2022.0%5D%2C%20%5B12.5607431%2C%2077.4258375%2C%2019.0%5D%2C%20%5B13.007516%2C%2077.695935%2C%2018.0%5D%2C%20%5B12.9055682%2C%2077.5455438%2C%2017.0%5D%2C%20%5B13.0217151%2C%2077.7660547%2C%2014.0%5D%2C%20%5B13.0382184%2C%2077.5919%2C%2014.0%5D%2C%20%5B12.9176571%2C%2077.4837568%2C%209.0%5D%2C%20%5B12.9546741%2C%2077.5121724%2C%209.0%5D%2C%20%5B13.0101286%2C%2077.5548006%2C%208.0%5D%2C%20%5B13.1006982%2C%2077.5963454%2C%206.0%5D%2C%20%5B13.0011289%2C%2077.6325617%2C%206.0%5D%2C%20%5B13.0784743%2C%2077.6068938%2C%203.0%5D%2C%20%5B12.9274413%2C%2077.5155224%2C%202.0%5D%2C%20%5B13.0329419%2C%2077.5273253%2C%201.0%5D%5D%2C%0A%20%20%20%20%20%20%20%20%20%20%20%20%20%20%20%20%7B%22blur%22%3A%2015%2C%20%22maxZoom%22%3A%2018%2C%20%22minOpacity%22%3A%200.5%2C%20%22radius%22%3A%2025%2C%20%22zoom%22%3A%2020%7D%0A%20%20%20%20%20%20%20%20%20%20%20%20%29.addTo%28map_7ed7ec28ba174e95b86571b60b9b069b%29%3B%0A%20%20%20%20%20%20%20%20%0A%20%20%20%20%0A%20%20%20%20%20%20%20%20%20%20%20%20var%20fast_marker_cluster_67abcde485964085baf009d143c3d9de%20%3D%20%28function%28%29%7B%0A%20%20%20%20%20%20%20%20%20%20%20%20%20%20%20%20%0A%20%20%20%20%20%20%20%20%20%20%20%20%20%20%20%20var%20callback%20%3D%20function%20%28row%29%20%7B%0A%20%20%20%20%20%20%20%20%20%20%20%20%20%20%20%20%20%20%20%20var%20icon%20%3D%20L.AwesomeMarkers.icon%28%29%3B%0A%20%20%20%20%20%20%20%20%20%20%20%20%20%20%20%20%20%20%20%20var%20marker%20%3D%20L.marker%28new%20L.LatLng%28row%5B0%5D%2C%20row%5B1%5D%29%29%3B%0A%20%20%20%20%20%20%20%20%20%20%20%20%20%20%20%20%20%20%20%20marker.setIcon%28icon%29%3B%0A%20%20%20%20%20%20%20%20%20%20%20%20%20%20%20%20%20%20%20%20return%20marker%3B%0A%20%20%20%20%20%20%20%20%20%20%20%20%20%20%20%20%7D%3B%0A%0A%20%20%20%20%20%20%20%20%20%20%20%20%20%20%20%20var%20data%20%3D%20%5B%5B45.95485055%2C%20-112.49659530324134%2C%205124.0%5D%2C%20%5B18.1475%2C%2041.538889%2C%202523.0%5D%2C%20%5B13.00540865%2C%2074.79460685941484%2C%202504.0%5D%2C%20%5B12.2655944%2C%2076.6465404%2C%202235.0%5D%2C%20%5B44.3730577%2C%20-71.6118577%2C%202144.0%5D%2C%20%5B12.9732913%2C%2077.6404672%2C%202083.0%5D%2C%20%5B27.64392675%2C%2083.05280519687284%2C%201926.0%5D%2C%20%5B12.9552572%2C%2077.6984163%2C%201846.0%5D%2C%20%5B12.887979%2C%2077.5970812%2C%201630.0%5D%2C%20%5B12.93577245%2C%2077.66676103753434%2C%201286.0%5D%2C%20%5B-6.2659285%2C%20106.7842561%2C%201258.0%5D%2C%20%5B14.5395813%2C%20121.070371%2C%201238.0%5D%2C%20%5B40.28745%2C%20-76.964526%2C%201218.0%5D%2C%20%5B13.0078418%2C%2074.7963208%2C%201181.0%5D%2C%20%5B12.9400321%2C%2077.6203272%2C%201156.0%5D%2C%20%5B12.9242381%2C%2077.6289059%2C%201065.0%5D%2C%20%5B12.9778793%2C%2077.6246697%2C%201023.0%5D%2C%20%5B12.93433385%2C%2077.63040639553275%2C%201017.0%5D%2C%20%5B17.9895618%2C%2079.5967057%2C%20918.0%5D%2C%20%5B15.8876779%2C%2075.7046777%2C%20906.0%5D%2C%20%5B13.0221416%2C%2077.6403368%2C%20853.0%5D%2C%20%5B50.7721586%2C%200.09772783661369303%2C%20812.0%5D%2C%20%5B12.996845%2C%2077.6130165%2C%20727.0%5D%2C%20%5B13.0027353%2C%2077.5703253%2C%20725.0%5D%2C%20%5B12.9417261%2C%2077.5755021%2C%20684.0%5D%2C%20%5B38.7385916%2C%20-77.5275749%2C%20675.0%5D%2C%20%5B13.0141618%2C%2077.6518539%2C%20664.0%5D%2C%20%5B33.5935063%2C%20-79.0345627%2C%20658.0%5D%2C%20%5B13.0346384%2C%2077.5681733%2C%20649.0%5D%2C%20%5B13.0093455%2C%2077.6377094%2C%20648.0%5D%2C%20%5B12.9882338%2C%2077.554883%2C%20591.0%5D%2C%20%5B51.373656%2C%20-0.1042366%2C%20569.0%5D%2C%20%5B40.7652844%2C%20-76.373824%2C%20529.0%5D%2C%20%5B12.9575547%2C%2077.5979099%2C%20511.0%5D%2C%20%5B18.5322493%2C%2073.8499601124847%2C%20499.0%5D%2C%20%5B12.9624669%2C%2077.6381958%2C%20496.0%5D%2C%20%5B31.89376%2C%20-88.066644%2C%20491.0%5D%2C%20%5B-8.9189606%2C%2033.4588989%2C%20446.0%5D%2C%20%5B12.945245%2C%2077.6269144%2C%20439.0%5D%2C%20%5B51.5153824%2C%20-0.0719631%2C%20370.0%5D%2C%20%5B51.5227651%2C%20-0.7354457%2C%20352.0%5D%2C%20%5B12.9417812%2C%2077.6160146%2C%20320.0%5D%2C%20%5B12.988721250000001%2C%2077.58516877601824%2C%20295.0%5D%2C%20%5B12.9678074%2C%2077.6568367%2C%20272.0%5D%2C%20%5B12.9489339%2C%2077.5968273%2C%20246.0%5D%2C%20%5B12.9089453%2C%2077.6239038%2C%20238.0%5D%2C%20%5B12.9271867%2C%2077.6266252%2C%20216.0%5D%2C%20%5B12.9081487%2C%2077.5553179%2C%20195.0%5D%2C%20%5B12.973936%2C%2077.6509982%2C%20194.0%5D%2C%20%5B12.9932739%2C%2077.5388099%2C%20191.0%5D%2C%20%5B13.2227%2C%2078.5541977%2C%20187.0%5D%2C%20%5B12.9931876%2C%2077.5753419%2C%20165.0%5D%2C%20%5B13.0258087%2C%2077.6305067%2C%20161.0%5D%2C%20%5B1.2847055%2C%20103.84320655721689%2C%20155.0%5D%2C%20%5B13.0358698%2C%2077.6323597%2C%20153.0%5D%2C%20%5B34.977289%2C%20-78.974578%2C%20151.0%5D%2C%20%5B22.3146438%2C%2073.1597756%2C%20139.0%5D%2C%20%5B39.76880625%2C%20-86.15345077251979%2C%20126.0%5D%2C%20%5B13.02383%2C%2077.5529215%2C%20119.0%5D%2C%20%5B12.9414662%2C%2077.7470942%2C%20117.0%5D%2C%20%5B12.967576%2C%2077.7150877%2C%20113.0%5D%2C%20%5B13.0646907%2C%2077.49626895712257%2C%20107.0%5D%2C%20%5B12.9243509%2C%2077.6255562%2C%20102.0%5D%2C%20%5B12.773175%2C%2077.7831871%2C%20102.0%5D%2C%20%5B12.9846713%2C%2077.6790908%2C%20101.0%5D%2C%20%5B17.2510682%2C%2080.1651978%2C%2090.0%5D%2C%20%5B22.8359967%2C%2069.3405962%2C%2080.0%5D%2C%20%5B13.0227204%2C%2077.595715%2C%2080.0%5D%2C%20%5B23.1485712%2C%2081.6048241%2C%2076.0%5D%2C%20%5B15.8782951%2C%2074.5084834%2C%2063.0%5D%2C%20%5B13.0621474%2C%2077.58006135480495%2C%2053.0%5D%2C%20%5B13.2923988%2C%2077.7519261%2C%2048.0%5D%2C%20%5B13.0215466%2C%2077.7640586%2C%2044.0%5D%2C%20%5B11.9917786%2C%2076.5066292%2C%2038.0%5D%2C%20%5B12.945048%2C%2077.263004%2C%2034.0%5D%2C%20%5B12.957998%2C%2077.6037312%2C%2027.0%5D%2C%20%5B38.7801076%2C%20-121.5056438%2C%2027.0%5D%2C%20%5B13.194416%2C%2078.7011301%2C%2022.0%5D%2C%20%5B12.3872141%2C%2076.6669626%2C%2022.0%5D%2C%20%5B12.5607431%2C%2077.4258375%2C%2019.0%5D%2C%20%5B13.007516%2C%2077.695935%2C%2018.0%5D%2C%20%5B12.9055682%2C%2077.5455438%2C%2017.0%5D%2C%20%5B13.0217151%2C%2077.7660547%2C%2014.0%5D%2C%20%5B13.0382184%2C%2077.5919%2C%2014.0%5D%2C%20%5B12.9176571%2C%2077.4837568%2C%209.0%5D%2C%20%5B12.9546741%2C%2077.5121724%2C%209.0%5D%2C%20%5B13.0101286%2C%2077.5548006%2C%208.0%5D%2C%20%5B13.1006982%2C%2077.5963454%2C%206.0%5D%2C%20%5B13.0011289%2C%2077.6325617%2C%206.0%5D%2C%20%5B13.0784743%2C%2077.6068938%2C%203.0%5D%2C%20%5B12.9274413%2C%2077.5155224%2C%202.0%5D%2C%20%5B13.0329419%2C%2077.5273253%2C%201.0%5D%5D%3B%0A%20%20%20%20%20%20%20%20%20%20%20%20%20%20%20%20var%20cluster%20%3D%20L.markerClusterGroup%28%7B%22zoom%22%3A%2020%7D%29%3B%0A%0A%20%20%20%20%20%20%20%20%20%20%20%20%20%20%20%20for%20%28var%20i%20%3D%200%3B%20i%20%3C%20data.length%3B%20i%2B%2B%29%20%7B%0A%20%20%20%20%20%20%20%20%20%20%20%20%20%20%20%20%20%20%20%20var%20row%20%3D%20data%5Bi%5D%3B%0A%20%20%20%20%20%20%20%20%20%20%20%20%20%20%20%20%20%20%20%20var%20marker%20%3D%20callback%28row%29%3B%0A%20%20%20%20%20%20%20%20%20%20%20%20%20%20%20%20%20%20%20%20marker.addTo%28cluster%29%3B%0A%20%20%20%20%20%20%20%20%20%20%20%20%20%20%20%20%7D%0A%0A%20%20%20%20%20%20%20%20%20%20%20%20%20%20%20%20cluster.addTo%28map_7ed7ec28ba174e95b86571b60b9b069b%29%3B%0A%20%20%20%20%20%20%20%20%20%20%20%20%20%20%20%20return%20cluster%3B%0A%20%20%20%20%20%20%20%20%20%20%20%20%7D%29%28%29%3B%0A%20%20%20%20%20%20%20%20%0A%20%20%20%20%0A%20%20%20%20%20%20%20%20%20%20%20%20var%20fast_marker_cluster_866a2a169704471caed40aae192a79af%20%3D%20%28function%28%29%7B%0A%20%20%20%20%20%20%20%20%20%20%20%20%20%20%20%20%0A%20%20%20%20%20%20%20%20%20%20%20%20%20%20%20%20var%20callback%20%3D%20function%20%28row%29%20%7B%0A%20%20%20%20%20%20%20%20%20%20%20%20%20%20%20%20%20%20%20%20var%20icon%20%3D%20L.AwesomeMarkers.icon%28%29%3B%0A%20%20%20%20%20%20%20%20%20%20%20%20%20%20%20%20%20%20%20%20var%20marker%20%3D%20L.marker%28new%20L.LatLng%28row%5B0%5D%2C%20row%5B1%5D%29%29%3B%0A%20%20%20%20%20%20%20%20%20%20%20%20%20%20%20%20%20%20%20%20marker.setIcon%28icon%29%3B%0A%20%20%20%20%20%20%20%20%20%20%20%20%20%20%20%20%20%20%20%20return%20marker%3B%0A%20%20%20%20%20%20%20%20%20%20%20%20%20%20%20%20%7D%3B%0A%0A%20%20%20%20%20%20%20%20%20%20%20%20%20%20%20%20var%20data%20%3D%20%5B%5B45.95485055%2C%20-112.49659530324134%2C%205124.0%5D%2C%20%5B18.1475%2C%2041.538889%2C%202523.0%5D%2C%20%5B13.00540865%2C%2074.79460685941484%2C%202504.0%5D%2C%20%5B12.2655944%2C%2076.6465404%2C%202235.0%5D%2C%20%5B44.3730577%2C%20-71.6118577%2C%202144.0%5D%2C%20%5B12.9732913%2C%2077.6404672%2C%202083.0%5D%2C%20%5B27.64392675%2C%2083.05280519687284%2C%201926.0%5D%2C%20%5B12.9552572%2C%2077.6984163%2C%201846.0%5D%2C%20%5B12.887979%2C%2077.5970812%2C%201630.0%5D%2C%20%5B12.93577245%2C%2077.66676103753434%2C%201286.0%5D%2C%20%5B-6.2659285%2C%20106.7842561%2C%201258.0%5D%2C%20%5B14.5395813%2C%20121.070371%2C%201238.0%5D%2C%20%5B40.28745%2C%20-76.964526%2C%201218.0%5D%2C%20%5B13.0078418%2C%2074.7963208%2C%201181.0%5D%2C%20%5B12.9400321%2C%2077.6203272%2C%201156.0%5D%2C%20%5B12.9242381%2C%2077.6289059%2C%201065.0%5D%2C%20%5B12.9778793%2C%2077.6246697%2C%201023.0%5D%2C%20%5B12.93433385%2C%2077.63040639553275%2C%201017.0%5D%2C%20%5B17.9895618%2C%2079.5967057%2C%20918.0%5D%2C%20%5B15.8876779%2C%2075.7046777%2C%20906.0%5D%2C%20%5B13.0221416%2C%2077.6403368%2C%20853.0%5D%2C%20%5B50.7721586%2C%200.09772783661369303%2C%20812.0%5D%2C%20%5B12.996845%2C%2077.6130165%2C%20727.0%5D%2C%20%5B13.0027353%2C%2077.5703253%2C%20725.0%5D%2C%20%5B12.9417261%2C%2077.5755021%2C%20684.0%5D%2C%20%5B38.7385916%2C%20-77.5275749%2C%20675.0%5D%2C%20%5B13.0141618%2C%2077.6518539%2C%20664.0%5D%2C%20%5B33.5935063%2C%20-79.0345627%2C%20658.0%5D%2C%20%5B13.0346384%2C%2077.5681733%2C%20649.0%5D%2C%20%5B13.0093455%2C%2077.6377094%2C%20648.0%5D%2C%20%5B12.9882338%2C%2077.554883%2C%20591.0%5D%2C%20%5B51.373656%2C%20-0.1042366%2C%20569.0%5D%2C%20%5B40.7652844%2C%20-76.373824%2C%20529.0%5D%2C%20%5B12.9575547%2C%2077.5979099%2C%20511.0%5D%2C%20%5B18.5322493%2C%2073.8499601124847%2C%20499.0%5D%2C%20%5B12.9624669%2C%2077.6381958%2C%20496.0%5D%2C%20%5B31.89376%2C%20-88.066644%2C%20491.0%5D%2C%20%5B-8.9189606%2C%2033.4588989%2C%20446.0%5D%2C%20%5B12.945245%2C%2077.6269144%2C%20439.0%5D%2C%20%5B51.5153824%2C%20-0.0719631%2C%20370.0%5D%2C%20%5B51.5227651%2C%20-0.7354457%2C%20352.0%5D%2C%20%5B12.9417812%2C%2077.6160146%2C%20320.0%5D%2C%20%5B12.988721250000001%2C%2077.58516877601824%2C%20295.0%5D%2C%20%5B12.9678074%2C%2077.6568367%2C%20272.0%5D%2C%20%5B12.9489339%2C%2077.5968273%2C%20246.0%5D%2C%20%5B12.9089453%2C%2077.6239038%2C%20238.0%5D%2C%20%5B12.9271867%2C%2077.6266252%2C%20216.0%5D%2C%20%5B12.9081487%2C%2077.5553179%2C%20195.0%5D%2C%20%5B12.973936%2C%2077.6509982%2C%20194.0%5D%2C%20%5B12.9932739%2C%2077.5388099%2C%20191.0%5D%2C%20%5B13.2227%2C%2078.5541977%2C%20187.0%5D%2C%20%5B12.9931876%2C%2077.5753419%2C%20165.0%5D%2C%20%5B13.0258087%2C%2077.6305067%2C%20161.0%5D%2C%20%5B1.2847055%2C%20103.84320655721689%2C%20155.0%5D%2C%20%5B13.0358698%2C%2077.6323597%2C%20153.0%5D%2C%20%5B34.977289%2C%20-78.974578%2C%20151.0%5D%2C%20%5B22.3146438%2C%2073.1597756%2C%20139.0%5D%2C%20%5B39.76880625%2C%20-86.15345077251979%2C%20126.0%5D%2C%20%5B13.02383%2C%2077.5529215%2C%20119.0%5D%2C%20%5B12.9414662%2C%2077.7470942%2C%20117.0%5D%2C%20%5B12.967576%2C%2077.7150877%2C%20113.0%5D%2C%20%5B13.0646907%2C%2077.49626895712257%2C%20107.0%5D%2C%20%5B12.9243509%2C%2077.6255562%2C%20102.0%5D%2C%20%5B12.773175%2C%2077.7831871%2C%20102.0%5D%2C%20%5B12.9846713%2C%2077.6790908%2C%20101.0%5D%2C%20%5B17.2510682%2C%2080.1651978%2C%2090.0%5D%2C%20%5B22.8359967%2C%2069.3405962%2C%2080.0%5D%2C%20%5B13.0227204%2C%2077.595715%2C%2080.0%5D%2C%20%5B23.1485712%2C%2081.6048241%2C%2076.0%5D%2C%20%5B15.8782951%2C%2074.5084834%2C%2063.0%5D%2C%20%5B13.0621474%2C%2077.58006135480495%2C%2053.0%5D%2C%20%5B13.2923988%2C%2077.7519261%2C%2048.0%5D%2C%20%5B13.0215466%2C%2077.7640586%2C%2044.0%5D%2C%20%5B11.9917786%2C%2076.5066292%2C%2038.0%5D%2C%20%5B12.945048%2C%2077.263004%2C%2034.0%5D%2C%20%5B12.957998%2C%2077.6037312%2C%2027.0%5D%2C%20%5B38.7801076%2C%20-121.5056438%2C%2027.0%5D%2C%20%5B13.194416%2C%2078.7011301%2C%2022.0%5D%2C%20%5B12.3872141%2C%2076.6669626%2C%2022.0%5D%2C%20%5B12.5607431%2C%2077.4258375%2C%2019.0%5D%2C%20%5B13.007516%2C%2077.695935%2C%2018.0%5D%2C%20%5B12.9055682%2C%2077.5455438%2C%2017.0%5D%2C%20%5B13.0217151%2C%2077.7660547%2C%2014.0%5D%2C%20%5B13.0382184%2C%2077.5919%2C%2014.0%5D%2C%20%5B12.9176571%2C%2077.4837568%2C%209.0%5D%2C%20%5B12.9546741%2C%2077.5121724%2C%209.0%5D%2C%20%5B13.0101286%2C%2077.5548006%2C%208.0%5D%2C%20%5B13.1006982%2C%2077.5963454%2C%206.0%5D%2C%20%5B13.0011289%2C%2077.6325617%2C%206.0%5D%2C%20%5B13.0784743%2C%2077.6068938%2C%203.0%5D%2C%20%5B12.9274413%2C%2077.5155224%2C%202.0%5D%2C%20%5B13.0329419%2C%2077.5273253%2C%201.0%5D%5D%3B%0A%20%20%20%20%20%20%20%20%20%20%20%20%20%20%20%20var%20cluster%20%3D%20L.markerClusterGroup%28%7B%22zoom%22%3A%2020%7D%29%3B%0A%0A%20%20%20%20%20%20%20%20%20%20%20%20%20%20%20%20for%20%28var%20i%20%3D%200%3B%20i%20%3C%20data.length%3B%20i%2B%2B%29%20%7B%0A%20%20%20%20%20%20%20%20%20%20%20%20%20%20%20%20%20%20%20%20var%20row%20%3D%20data%5Bi%5D%3B%0A%20%20%20%20%20%20%20%20%20%20%20%20%20%20%20%20%20%20%20%20var%20marker%20%3D%20callback%28row%29%3B%0A%20%20%20%20%20%20%20%20%20%20%20%20%20%20%20%20%20%20%20%20marker.addTo%28cluster%29%3B%0A%20%20%20%20%20%20%20%20%20%20%20%20%20%20%20%20%7D%0A%0A%20%20%20%20%20%20%20%20%20%20%20%20%20%20%20%20cluster.addTo%28map_7ed7ec28ba174e95b86571b60b9b069b%29%3B%0A%20%20%20%20%20%20%20%20%20%20%20%20%20%20%20%20return%20cluster%3B%0A%20%20%20%20%20%20%20%20%20%20%20%20%7D%29%28%29%3B%0A%20%20%20%20%20%20%20%20%0A%20%20%20%20%0A%20%20%20%20%20%20%20%20%20%20%20%20var%20heat_map_c8e7a9f3ca834602896be0a096235e1b%20%3D%20L.heatLayer%28%0A%20%20%20%20%20%20%20%20%20%20%20%20%20%20%20%20%5B%5B40.7652844%2C%20-76.373824%2C%204.04288577154309%5D%2C%20%5B51.5227651%2C%20-0.7354457%2C%204.0172011661807625%5D%2C%20%5B12.9271867%2C%2077.6266252%2C%203.9787564766839405%5D%2C%20%5B38.7801076%2C%20-121.5056438%2C%203.9653846153846155%5D%2C%20%5B51.373656%2C%20-0.1042366%2C%203.9630909090909086%5D%2C%20%5B13.00540865%2C%2074.79460685941484%2C%203.901511969760601%5D%2C%20%5B31.89376%2C%20-88.066644%2C%203.901052631578944%5D%2C%20%5B12.9274413%2C%2077.5155224%2C%203.85%5D%2C%20%5B38.7385916%2C%20-77.5275749%2C%203.8445723684210518%5D%2C%20%5B15.8782951%2C%2074.5084834%2C%203.839655172413795%5D%2C%20%5B12.93433385%2C%2077.63040639553275%2C%203.8143518518518587%5D%2C%20%5B12.957998%2C%2077.6037312%2C%203.8074074074074087%5D%2C%20%5B34.977289%2C%20-78.974578%2C%203.796428571428575%5D%2C%20%5B13.0078418%2C%2074.7963208%2C%203.7478420569329716%5D%2C%20%5B17.9895618%2C%2079.5967057%2C%203.740550239234445%5D%2C%20%5B22.3146438%2C%2073.1597756%2C%203.7270072992700722%5D%2C%20%5B12.9176571%2C%2077.4837568%2C%203.7222222222222223%5D%2C%20%5B12.9931876%2C%2077.5753419%2C%203.7049295774647875%5D%2C%20%5B50.7721586%2C%200.09772783661369303%2C%203.6880126182965247%5D%2C%20%5B12.773175%2C%2077.7831871%2C%203.687837837837837%5D%2C%20%5B13.0027353%2C%2077.5703253%2C%203.6682370820668657%5D%2C%20%5B12.9400321%2C%2077.6203272%2C%203.662466246624663%5D%2C%20%5B12.9732913%2C%2077.6404672%2C%203.6521694214876%5D%2C%20%5B13.1006982%2C%2077.5963454%2C%203.6399999999999997%5D%2C%20%5B13.0101286%2C%2077.5548006%2C%203.6250000000000004%5D%2C%20%5B27.64392675%2C%2083.05280519687284%2C%203.615250291036089%5D%2C%20%5B12.9417812%2C%2077.6160146%2C%203.607499999999995%5D%2C%20%5B13.2923988%2C%2077.7519261%2C%203.6064516129032267%5D%2C%20%5B40.28745%2C%20-76.964526%2C%203.5958487084870887%5D%2C%20%5B13.0346384%2C%2077.5681733%2C%203.583173996175911%5D%2C%20%5B12.988721250000001%2C%2077.58516877601824%2C%203.5809523809523807%5D%2C%20%5B12.996845%2C%2077.6130165%2C%203.564878892733561%5D%2C%20%5B12.9243509%2C%2077.6255562%2C%203.545652173913042%5D%2C%20%5B12.9778793%2C%2077.6246697%2C%203.541398446170927%5D%2C%20%5B13.0221416%2C%2077.6403368%2C%203.5291443850267377%5D%2C%20%5B12.9055682%2C%2077.5455438%2C%203.511111111111111%5D%2C%20%5B13.02383%2C%2077.5529215%2C%203.5026785714285693%5D%2C%20%5B13.0093455%2C%2077.6377094%2C%203.499809523809525%5D%2C%20%5B18.5322493%2C%2073.8499601124847%2C%203.498916967509032%5D%2C%20%5B11.9917786%2C%2076.5066292%2C%203.4869565217391307%5D%2C%20%5B18.1475%2C%2041.538889%2C%203.484069548872181%5D%2C%20%5B12.5607431%2C%2077.4258375%2C%203.478947368421052%5D%2C%20%5B13.0621474%2C%2077.58006135480495%2C%203.478723404255319%5D%2C%20%5B12.9417261%2C%2077.5755021%2C%203.478184713375793%5D%2C%20%5B12.9846713%2C%2077.6790908%2C%203.4736263736263737%5D%2C%20%5B12.9242381%2C%2077.6289059%2C%203.4735582154515736%5D%2C%20%5B12.3872141%2C%2076.6669626%2C%203.4555555555555566%5D%2C%20%5B39.76880625%2C%20-86.15345077251979%2C%203.4461538461538463%5D%2C%20%5B12.9932739%2C%2077.5388099%2C%203.445517241379311%5D%2C%20%5B12.945048%2C%2077.263004%2C%203.4375000000000004%5D%2C%20%5B12.9678074%2C%2077.6568367%2C%203.4297709923664126%5D%2C%20%5B12.9882338%2C%2077.554883%2C%203.422381930184803%5D%2C%20%5B13.0646907%2C%2077.49626895712257%2C%203.419780219780221%5D%2C%20%5B12.2655944%2C%2076.6465404%2C%203.412925905895076%5D%2C%20%5B12.9552572%2C%2077.6984163%2C%203.400532268795743%5D%2C%20%5B12.9546741%2C%2077.5121724%2C%203.4%5D%2C%20%5B-8.9189606%2C%2033.4588989%2C%203.3891191709844577%5D%2C%20%5B12.9624669%2C%2077.6381958%2C%203.385547785547788%5D%2C%20%5B44.3730577%2C%20-71.6118577%2C%203.3841701122268155%5D%2C%20%5B33.5935063%2C%20-79.0345627%2C%203.374698795180724%5D%2C%20%5B15.8876779%2C%2075.7046777%2C%203.373291925465841%5D%2C%20%5B13.0141618%2C%2077.6518539%2C%203.3629258517034093%5D%2C%20%5B23.1485712%2C%2081.6048241%2C%203.3600000000000008%5D%2C%20%5B13.2227%2C%2078.5541977%2C%203.3333333333333335%5D%2C%20%5B12.9575547%2C%2077.5979099%2C%203.323589743589747%5D%2C%20%5B12.967576%2C%2077.7150877%2C%203.3202380952380954%5D%2C%20%5B12.9081487%2C%2077.5553179%2C%203.3202380952380954%5D%2C%20%5B12.93577245%2C%2077.66676103753434%2C%203.309833024118736%5D%2C%20%5B12.9414662%2C%2077.7470942%2C%203.2989247311827947%5D%2C%20%5B45.95485055%2C%20-112.49659530324134%2C%203.296127669561143%5D%2C%20%5B1.2847055%2C%20103.84320655721689%2C%203.294067796610167%5D%2C%20%5B13.0358698%2C%2077.6323597%2C%203.279279279279278%5D%2C%20%5B13.0227204%2C%2077.595715%2C%203.278124999999999%5D%2C%20%5B12.887979%2C%2077.5970812%2C%203.2716767371601234%5D%2C%20%5B14.5395813%2C%20121.070371%2C%203.263937823834194%5D%2C%20%5B12.9489339%2C%2077.5968273%2C%203.2576354679802924%5D%2C%20%5B22.8359967%2C%2069.3405962%2C%203.2492957746478885%5D%2C%20%5B13.0215466%2C%2077.7640586%2C%203.2433333333333327%5D%2C%20%5B13.007516%2C%2077.695935%2C%203.2181818181818183%5D%2C%20%5B17.2510682%2C%2080.1651978%2C%203.215151515151515%5D%2C%20%5B13.0329419%2C%2077.5273253%2C%203.2%5D%2C%20%5B13.194416%2C%2078.7011301%2C%203.1818181818181825%5D%2C%20%5B51.5182611%2C%20-0.0742531%2C%203.109708737864077%5D%2C%20%5B12.973936%2C%2077.6509982%2C%203.0953947368421058%5D%2C%20%5B13.0258087%2C%2077.6305067%2C%203.0938931297709917%5D%2C%20%5B12.945245%2C%2077.6269144%2C%203.05472972972973%5D%2C%20%5B-6.2659285%2C%20106.7842561%2C%203.0419087136929477%5D%2C%20%5B12.9089453%2C%2077.6239038%2C%202.92675159235669%5D%2C%20%5B13.0382184%2C%2077.5919%2C%202.88%5D%2C%20%5B13.0217151%2C%2077.7660547%2C%202.385714285714286%5D%2C%20%5B13.0011289%2C%2077.6325617%2C%202.02%5D%5D%2C%0A%20%20%20%20%20%20%20%20%20%20%20%20%20%20%20%20%7B%22blur%22%3A%2015%2C%20%22maxZoom%22%3A%2018%2C%20%22minOpacity%22%3A%200.5%2C%20%22radius%22%3A%2025%7D%0A%20%20%20%20%20%20%20%20%20%20%20%20%29.addTo%28map_7ed7ec28ba174e95b86571b60b9b069b%29%3B%0A%20%20%20%20%20%20%20%20%0A%3C/script%3E onload=\"this.contentDocument.open();this.contentDocument.write(    decodeURIComponent(this.getAttribute('data-html')));this.contentDocument.close();\" allowfullscreen webkitallowfullscreen mozallowfullscreen></iframe></div></div>"
            ],
            "text/plain": [
              "<folium.folium.Map at 0x21f80d33948>"
            ]
          },
          "metadata": {
            "tags": []
          },
          "execution_count": 49
        }
      ]
    },
    {
      "cell_type": "code",
      "metadata": {
        "id": "bJCvBSZOok01",
        "outputId": "17626938-4960-4a5c-fa15-b979be5c581a"
      },
      "source": [
        "##Visualizing Restaurants based on Cuisines\n",
        "\n",
        "\n",
        "\n",
        "filter = df['cuisines']==\"North Indian\"\n",
        "df2=df[filter]\n",
        "df2.head()"
      ],
      "execution_count": null,
      "outputs": [
        {
          "output_type": "execute_result",
          "data": {
            "text/html": [
              "<div>\n",
              "<style scoped>\n",
              "    .dataframe tbody tr th:only-of-type {\n",
              "        vertical-align: middle;\n",
              "    }\n",
              "\n",
              "    .dataframe tbody tr th {\n",
              "        vertical-align: top;\n",
              "    }\n",
              "\n",
              "    .dataframe thead th {\n",
              "        text-align: right;\n",
              "    }\n",
              "</style>\n",
              "<table border=\"1\" class=\"dataframe\">\n",
              "  <thead>\n",
              "    <tr style=\"text-align: right;\">\n",
              "      <th></th>\n",
              "      <th>url</th>\n",
              "      <th>address</th>\n",
              "      <th>name</th>\n",
              "      <th>online_order</th>\n",
              "      <th>book_table</th>\n",
              "      <th>rate</th>\n",
              "      <th>votes</th>\n",
              "      <th>phone</th>\n",
              "      <th>location</th>\n",
              "      <th>rest_type</th>\n",
              "      <th>dish_liked</th>\n",
              "      <th>cuisines</th>\n",
              "      <th>approx_cost(for two people)</th>\n",
              "      <th>reviews_list</th>\n",
              "      <th>menu_item</th>\n",
              "      <th>listed_in(type)</th>\n",
              "      <th>listed_in(city)</th>\n",
              "      <th>rating</th>\n",
              "    </tr>\n",
              "  </thead>\n",
              "  <tbody>\n",
              "    <tr>\n",
              "      <th>5</th>\n",
              "      <td>https://www.zomato.com/bangalore/timepass-dinn...</td>\n",
              "      <td>37, 5-1, 4th Floor, Bosco Court, Gandhi Bazaar...</td>\n",
              "      <td>Timepass Dinner</td>\n",
              "      <td>Yes</td>\n",
              "      <td>No</td>\n",
              "      <td>3.8/5</td>\n",
              "      <td>286</td>\n",
              "      <td>+91 9980040002\\r\\n+91 9980063005</td>\n",
              "      <td>Basavanagudi</td>\n",
              "      <td>Casual Dining</td>\n",
              "      <td>Onion Rings, Pasta, Kadhai Paneer, Salads, Sal...</td>\n",
              "      <td>North Indian</td>\n",
              "      <td>600</td>\n",
              "      <td>[('Rated 3.0', 'RATED\\n  Food 3/5\\nAmbience 3/...</td>\n",
              "      <td>[]</td>\n",
              "      <td>Buffet</td>\n",
              "      <td>Banashankari</td>\n",
              "      <td>3.8</td>\n",
              "    </tr>\n",
              "    <tr>\n",
              "      <th>50</th>\n",
              "      <td>https://www.zomato.com/bangalore/petoo-banasha...</td>\n",
              "      <td>276, Ground Floor, 100 Feet Outer Ring Road, B...</td>\n",
              "      <td>Petoo</td>\n",
              "      <td>No</td>\n",
              "      <td>No</td>\n",
              "      <td>3.7/5</td>\n",
              "      <td>21</td>\n",
              "      <td>+91 8026893211</td>\n",
              "      <td>Banashankari</td>\n",
              "      <td>Quick Bites</td>\n",
              "      <td>NaN</td>\n",
              "      <td>North Indian</td>\n",
              "      <td>450</td>\n",
              "      <td>[('Rated 2.0', 'RATED\\n  This is a neatly made...</td>\n",
              "      <td>[]</td>\n",
              "      <td>Delivery</td>\n",
              "      <td>Banashankari</td>\n",
              "      <td>3.7</td>\n",
              "    </tr>\n",
              "    <tr>\n",
              "      <th>72</th>\n",
              "      <td>https://www.zomato.com/bangalore/spicy-tandoor...</td>\n",
              "      <td>Opposite ICICi Bank, Hanuman Nagar, Banashanka...</td>\n",
              "      <td>Spicy Tandoor</td>\n",
              "      <td>No</td>\n",
              "      <td>No</td>\n",
              "      <td>0</td>\n",
              "      <td>0</td>\n",
              "      <td>+91 8050884222</td>\n",
              "      <td>Banashankari</td>\n",
              "      <td>Quick Bites</td>\n",
              "      <td>NaN</td>\n",
              "      <td>North Indian</td>\n",
              "      <td>150</td>\n",
              "      <td>[('Rated 4.0', 'RATED\\n  cost for chicken roll...</td>\n",
              "      <td>[]</td>\n",
              "      <td>Delivery</td>\n",
              "      <td>Banashankari</td>\n",
              "      <td>0.0</td>\n",
              "    </tr>\n",
              "    <tr>\n",
              "      <th>87</th>\n",
              "      <td>https://www.zomato.com/bangalore/krishna-sagar...</td>\n",
              "      <td>38, 22nd Main, 22nd Cross, Opposite BDA, 2nd S...</td>\n",
              "      <td>Krishna Sagar</td>\n",
              "      <td>No</td>\n",
              "      <td>No</td>\n",
              "      <td>3.5/5</td>\n",
              "      <td>31</td>\n",
              "      <td>+91 8892752997\\r\\n+91 7204780429</td>\n",
              "      <td>Banashankari</td>\n",
              "      <td>Quick Bites</td>\n",
              "      <td>NaN</td>\n",
              "      <td>North Indian</td>\n",
              "      <td>200</td>\n",
              "      <td>[('Rated 1.0', 'RATED\\n  Worst experience with...</td>\n",
              "      <td>[]</td>\n",
              "      <td>Delivery</td>\n",
              "      <td>Banashankari</td>\n",
              "      <td>3.5</td>\n",
              "    </tr>\n",
              "    <tr>\n",
              "      <th>94</th>\n",
              "      <td>https://www.zomato.com/bangalore/nandhini-delu...</td>\n",
              "      <td>304, Opposite Apollo Public School, 100 Feet R...</td>\n",
              "      <td>Nandhini Deluxe</td>\n",
              "      <td>No</td>\n",
              "      <td>No</td>\n",
              "      <td>2.6/5</td>\n",
              "      <td>283</td>\n",
              "      <td>080 26890011\\r\\n080 26890033</td>\n",
              "      <td>Banashankari</td>\n",
              "      <td>Casual Dining</td>\n",
              "      <td>Biryani, Chicken Guntur, Thali, Buttermilk, Ma...</td>\n",
              "      <td>North Indian</td>\n",
              "      <td>600</td>\n",
              "      <td>[('Rated 3.0', 'RATED\\n  Ididnt like much.\\n\\n...</td>\n",
              "      <td>[]</td>\n",
              "      <td>Delivery</td>\n",
              "      <td>Banashankari</td>\n",
              "      <td>2.6</td>\n",
              "    </tr>\n",
              "  </tbody>\n",
              "</table>\n",
              "</div>"
            ],
            "text/plain": [
              "                                                  url  \\\n",
              "5   https://www.zomato.com/bangalore/timepass-dinn...   \n",
              "50  https://www.zomato.com/bangalore/petoo-banasha...   \n",
              "72  https://www.zomato.com/bangalore/spicy-tandoor...   \n",
              "87  https://www.zomato.com/bangalore/krishna-sagar...   \n",
              "94  https://www.zomato.com/bangalore/nandhini-delu...   \n",
              "\n",
              "                                              address             name  \\\n",
              "5   37, 5-1, 4th Floor, Bosco Court, Gandhi Bazaar...  Timepass Dinner   \n",
              "50  276, Ground Floor, 100 Feet Outer Ring Road, B...            Petoo   \n",
              "72  Opposite ICICi Bank, Hanuman Nagar, Banashanka...    Spicy Tandoor   \n",
              "87  38, 22nd Main, 22nd Cross, Opposite BDA, 2nd S...    Krishna Sagar   \n",
              "94  304, Opposite Apollo Public School, 100 Feet R...  Nandhini Deluxe   \n",
              "\n",
              "   online_order book_table   rate  votes                             phone  \\\n",
              "5           Yes         No  3.8/5    286  +91 9980040002\\r\\n+91 9980063005   \n",
              "50           No         No  3.7/5     21                    +91 8026893211   \n",
              "72           No         No      0      0                    +91 8050884222   \n",
              "87           No         No  3.5/5     31  +91 8892752997\\r\\n+91 7204780429   \n",
              "94           No         No  2.6/5    283      080 26890011\\r\\n080 26890033   \n",
              "\n",
              "        location      rest_type  \\\n",
              "5   Basavanagudi  Casual Dining   \n",
              "50  Banashankari    Quick Bites   \n",
              "72  Banashankari    Quick Bites   \n",
              "87  Banashankari    Quick Bites   \n",
              "94  Banashankari  Casual Dining   \n",
              "\n",
              "                                           dish_liked      cuisines  \\\n",
              "5   Onion Rings, Pasta, Kadhai Paneer, Salads, Sal...  North Indian   \n",
              "50                                                NaN  North Indian   \n",
              "72                                                NaN  North Indian   \n",
              "87                                                NaN  North Indian   \n",
              "94  Biryani, Chicken Guntur, Thali, Buttermilk, Ma...  North Indian   \n",
              "\n",
              "   approx_cost(for two people)  \\\n",
              "5                          600   \n",
              "50                         450   \n",
              "72                         150   \n",
              "87                         200   \n",
              "94                         600   \n",
              "\n",
              "                                         reviews_list menu_item  \\\n",
              "5   [('Rated 3.0', 'RATED\\n  Food 3/5\\nAmbience 3/...        []   \n",
              "50  [('Rated 2.0', 'RATED\\n  This is a neatly made...        []   \n",
              "72  [('Rated 4.0', 'RATED\\n  cost for chicken roll...        []   \n",
              "87  [('Rated 1.0', 'RATED\\n  Worst experience with...        []   \n",
              "94  [('Rated 3.0', 'RATED\\n  Ididnt like much.\\n\\n...        []   \n",
              "\n",
              "   listed_in(type) listed_in(city)  rating  \n",
              "5           Buffet    Banashankari     3.8  \n",
              "50        Delivery    Banashankari     3.7  \n",
              "72        Delivery    Banashankari     0.0  \n",
              "87        Delivery    Banashankari     3.5  \n",
              "94        Delivery    Banashankari     2.6  "
            ]
          },
          "metadata": {
            "tags": []
          },
          "execution_count": 51
        }
      ]
    },
    {
      "cell_type": "code",
      "metadata": {
        "id": "lIpCvjpZok02",
        "outputId": "5c713642-56ec-4b39-b520-8d0e3f816395"
      },
      "source": [
        "#North Indian\n",
        "\n",
        "ni=df2.groupby('location')['url'].count().reset_index()\n",
        "ni.columns=['name','count']\n",
        "\n",
        "ni2 = ni.merge(locations,on='name',how='left').dropna()\n",
        "ni2"
      ],
      "execution_count": null,
      "outputs": [
        {
          "output_type": "execute_result",
          "data": {
            "text/html": [
              "<div>\n",
              "<style scoped>\n",
              "    .dataframe tbody tr th:only-of-type {\n",
              "        vertical-align: middle;\n",
              "    }\n",
              "\n",
              "    .dataframe tbody tr th {\n",
              "        vertical-align: top;\n",
              "    }\n",
              "\n",
              "    .dataframe thead th {\n",
              "        text-align: right;\n",
              "    }\n",
              "</style>\n",
              "<table border=\"1\" class=\"dataframe\">\n",
              "  <thead>\n",
              "    <tr style=\"text-align: right;\">\n",
              "      <th></th>\n",
              "      <th>name</th>\n",
              "      <th>count</th>\n",
              "      <th>lat</th>\n",
              "      <th>lon</th>\n",
              "    </tr>\n",
              "  </thead>\n",
              "  <tbody>\n",
              "    <tr>\n",
              "      <th>0</th>\n",
              "      <td>BTM</td>\n",
              "      <td>274</td>\n",
              "      <td>45.954851</td>\n",
              "      <td>-112.496595</td>\n",
              "    </tr>\n",
              "    <tr>\n",
              "      <th>1</th>\n",
              "      <td>Banashankari</td>\n",
              "      <td>35</td>\n",
              "      <td>15.887678</td>\n",
              "      <td>75.704678</td>\n",
              "    </tr>\n",
              "    <tr>\n",
              "      <th>2</th>\n",
              "      <td>Banaswadi</td>\n",
              "      <td>9</td>\n",
              "      <td>13.014162</td>\n",
              "      <td>77.651854</td>\n",
              "    </tr>\n",
              "    <tr>\n",
              "      <th>3</th>\n",
              "      <td>Bannerghatta Road</td>\n",
              "      <td>60</td>\n",
              "      <td>12.887979</td>\n",
              "      <td>77.597081</td>\n",
              "    </tr>\n",
              "    <tr>\n",
              "      <th>4</th>\n",
              "      <td>Basavanagudi</td>\n",
              "      <td>17</td>\n",
              "      <td>12.941726</td>\n",
              "      <td>77.575502</td>\n",
              "    </tr>\n",
              "    <tr>\n",
              "      <th>...</th>\n",
              "      <td>...</td>\n",
              "      <td>...</td>\n",
              "      <td>...</td>\n",
              "      <td>...</td>\n",
              "    </tr>\n",
              "    <tr>\n",
              "      <th>59</th>\n",
              "      <td>Varthur Main Road, Whitefield</td>\n",
              "      <td>3</td>\n",
              "      <td>12.941466</td>\n",
              "      <td>77.747094</td>\n",
              "    </tr>\n",
              "    <tr>\n",
              "      <th>60</th>\n",
              "      <td>Vasanth Nagar</td>\n",
              "      <td>12</td>\n",
              "      <td>12.988721</td>\n",
              "      <td>77.585169</td>\n",
              "    </tr>\n",
              "    <tr>\n",
              "      <th>61</th>\n",
              "      <td>Whitefield</td>\n",
              "      <td>148</td>\n",
              "      <td>44.373058</td>\n",
              "      <td>-71.611858</td>\n",
              "    </tr>\n",
              "    <tr>\n",
              "      <th>62</th>\n",
              "      <td>Wilson Garden</td>\n",
              "      <td>37</td>\n",
              "      <td>12.948934</td>\n",
              "      <td>77.596827</td>\n",
              "    </tr>\n",
              "    <tr>\n",
              "      <th>63</th>\n",
              "      <td>Yeshwantpur</td>\n",
              "      <td>3</td>\n",
              "      <td>13.023830</td>\n",
              "      <td>77.552921</td>\n",
              "    </tr>\n",
              "  </tbody>\n",
              "</table>\n",
              "<p>64 rows × 4 columns</p>\n",
              "</div>"
            ],
            "text/plain": [
              "                             name  count        lat         lon\n",
              "0                             BTM    274  45.954851 -112.496595\n",
              "1                    Banashankari     35  15.887678   75.704678\n",
              "2                       Banaswadi      9  13.014162   77.651854\n",
              "3               Bannerghatta Road     60  12.887979   77.597081\n",
              "4                    Basavanagudi     17  12.941726   77.575502\n",
              "..                            ...    ...        ...         ...\n",
              "59  Varthur Main Road, Whitefield      3  12.941466   77.747094\n",
              "60                  Vasanth Nagar     12  12.988721   77.585169\n",
              "61                     Whitefield    148  44.373058  -71.611858\n",
              "62                  Wilson Garden     37  12.948934   77.596827\n",
              "63                    Yeshwantpur      3  13.023830   77.552921\n",
              "\n",
              "[64 rows x 4 columns]"
            ]
          },
          "metadata": {
            "tags": []
          },
          "execution_count": 60
        }
      ]
    },
    {
      "cell_type": "code",
      "metadata": {
        "id": "eJCh6OuKok02",
        "outputId": "fec1927c-36e6-46f7-8d23-95e856604e7f"
      },
      "source": [
        "HeatMap(ni2[['lat','lon','count']],zoom=20,radius=15).add_to(basemap)\n",
        "#HeatMaps basemap"
      ],
      "execution_count": null,
      "outputs": [
        {
          "output_type": "execute_result",
          "data": {
            "text/html": [
              "<div style=\"width:100%;\"><div style=\"position:relative;width:100%;height:0;padding-bottom:60%;\"><span style=\"color:#565656\">Make this Notebook Trusted to load map: File -> Trust Notebook</span><iframe src=\"about:blank\" style=\"position:absolute;width:100%;height:100%;left:0;top:0;border:none !important;\" data-html=%3C%21DOCTYPE%20html%3E%0A%3Chead%3E%20%20%20%20%0A%20%20%20%20%3Cmeta%20http-equiv%3D%22content-type%22%20content%3D%22text/html%3B%20charset%3DUTF-8%22%20/%3E%0A%20%20%20%20%0A%20%20%20%20%20%20%20%20%3Cscript%3E%0A%20%20%20%20%20%20%20%20%20%20%20%20L_NO_TOUCH%20%3D%20false%3B%0A%20%20%20%20%20%20%20%20%20%20%20%20L_DISABLE_3D%20%3D%20false%3B%0A%20%20%20%20%20%20%20%20%3C/script%3E%0A%20%20%20%20%0A%20%20%20%20%3Cstyle%3Ehtml%2C%20body%20%7Bwidth%3A%20100%25%3Bheight%3A%20100%25%3Bmargin%3A%200%3Bpadding%3A%200%3B%7D%3C/style%3E%0A%20%20%20%20%3Cstyle%3E%23map%20%7Bposition%3Aabsolute%3Btop%3A0%3Bbottom%3A0%3Bright%3A0%3Bleft%3A0%3B%7D%3C/style%3E%0A%20%20%20%20%3Cscript%20src%3D%22https%3A//cdn.jsdelivr.net/npm/leaflet%401.6.0/dist/leaflet.js%22%3E%3C/script%3E%0A%20%20%20%20%3Cscript%20src%3D%22https%3A//code.jquery.com/jquery-1.12.4.min.js%22%3E%3C/script%3E%0A%20%20%20%20%3Cscript%20src%3D%22https%3A//maxcdn.bootstrapcdn.com/bootstrap/3.2.0/js/bootstrap.min.js%22%3E%3C/script%3E%0A%20%20%20%20%3Cscript%20src%3D%22https%3A//cdnjs.cloudflare.com/ajax/libs/Leaflet.awesome-markers/2.0.2/leaflet.awesome-markers.js%22%3E%3C/script%3E%0A%20%20%20%20%3Clink%20rel%3D%22stylesheet%22%20href%3D%22https%3A//cdn.jsdelivr.net/npm/leaflet%401.6.0/dist/leaflet.css%22/%3E%0A%20%20%20%20%3Clink%20rel%3D%22stylesheet%22%20href%3D%22https%3A//maxcdn.bootstrapcdn.com/bootstrap/3.2.0/css/bootstrap.min.css%22/%3E%0A%20%20%20%20%3Clink%20rel%3D%22stylesheet%22%20href%3D%22https%3A//maxcdn.bootstrapcdn.com/bootstrap/3.2.0/css/bootstrap-theme.min.css%22/%3E%0A%20%20%20%20%3Clink%20rel%3D%22stylesheet%22%20href%3D%22https%3A//maxcdn.bootstrapcdn.com/font-awesome/4.6.3/css/font-awesome.min.css%22/%3E%0A%20%20%20%20%3Clink%20rel%3D%22stylesheet%22%20href%3D%22https%3A//cdnjs.cloudflare.com/ajax/libs/Leaflet.awesome-markers/2.0.2/leaflet.awesome-markers.css%22/%3E%0A%20%20%20%20%3Clink%20rel%3D%22stylesheet%22%20href%3D%22https%3A//cdn.jsdelivr.net/gh/python-visualization/folium/folium/templates/leaflet.awesome.rotate.min.css%22/%3E%0A%20%20%20%20%0A%20%20%20%20%20%20%20%20%20%20%20%20%3Cmeta%20name%3D%22viewport%22%20content%3D%22width%3Ddevice-width%2C%0A%20%20%20%20%20%20%20%20%20%20%20%20%20%20%20%20initial-scale%3D1.0%2C%20maximum-scale%3D1.0%2C%20user-scalable%3Dno%22%20/%3E%0A%20%20%20%20%20%20%20%20%20%20%20%20%3Cstyle%3E%0A%20%20%20%20%20%20%20%20%20%20%20%20%20%20%20%20%23map_7ed7ec28ba174e95b86571b60b9b069b%20%7B%0A%20%20%20%20%20%20%20%20%20%20%20%20%20%20%20%20%20%20%20%20position%3A%20relative%3B%0A%20%20%20%20%20%20%20%20%20%20%20%20%20%20%20%20%20%20%20%20width%3A%20100.0%25%3B%0A%20%20%20%20%20%20%20%20%20%20%20%20%20%20%20%20%20%20%20%20height%3A%20100.0%25%3B%0A%20%20%20%20%20%20%20%20%20%20%20%20%20%20%20%20%20%20%20%20left%3A%200.0%25%3B%0A%20%20%20%20%20%20%20%20%20%20%20%20%20%20%20%20%20%20%20%20top%3A%200.0%25%3B%0A%20%20%20%20%20%20%20%20%20%20%20%20%20%20%20%20%7D%0A%20%20%20%20%20%20%20%20%20%20%20%20%3C/style%3E%0A%20%20%20%20%20%20%20%20%0A%20%20%20%20%3Cscript%20src%3D%22https%3A//cdn.jsdelivr.net/gh/python-visualization/folium%40master/folium/templates/leaflet_heat.min.js%22%3E%3C/script%3E%0A%20%20%20%20%3Cscript%20src%3D%22https%3A//cdnjs.cloudflare.com/ajax/libs/leaflet.markercluster/1.1.0/leaflet.markercluster.js%22%3E%3C/script%3E%0A%20%20%20%20%3Clink%20rel%3D%22stylesheet%22%20href%3D%22https%3A//cdnjs.cloudflare.com/ajax/libs/leaflet.markercluster/1.1.0/MarkerCluster.css%22/%3E%0A%20%20%20%20%3Clink%20rel%3D%22stylesheet%22%20href%3D%22https%3A//cdnjs.cloudflare.com/ajax/libs/leaflet.markercluster/1.1.0/MarkerCluster.Default.css%22/%3E%0A%3C/head%3E%0A%3Cbody%3E%20%20%20%20%0A%20%20%20%20%0A%20%20%20%20%20%20%20%20%20%20%20%20%3Cdiv%20class%3D%22folium-map%22%20id%3D%22map_7ed7ec28ba174e95b86571b60b9b069b%22%20%3E%3C/div%3E%0A%20%20%20%20%20%20%20%20%0A%3C/body%3E%0A%3Cscript%3E%20%20%20%20%0A%20%20%20%20%0A%20%20%20%20%20%20%20%20%20%20%20%20var%20map_7ed7ec28ba174e95b86571b60b9b069b%20%3D%20L.map%28%0A%20%20%20%20%20%20%20%20%20%20%20%20%20%20%20%20%22map_7ed7ec28ba174e95b86571b60b9b069b%22%2C%0A%20%20%20%20%20%20%20%20%20%20%20%20%20%20%20%20%7B%0A%20%20%20%20%20%20%20%20%20%20%20%20%20%20%20%20%20%20%20%20center%3A%20%5B12.97%2C%2077.59%5D%2C%0A%20%20%20%20%20%20%20%20%20%20%20%20%20%20%20%20%20%20%20%20crs%3A%20L.CRS.EPSG3857%2C%0A%20%20%20%20%20%20%20%20%20%20%20%20%20%20%20%20%20%20%20%20zoom%3A%2012%2C%0A%20%20%20%20%20%20%20%20%20%20%20%20%20%20%20%20%20%20%20%20zoomControl%3A%20true%2C%0A%20%20%20%20%20%20%20%20%20%20%20%20%20%20%20%20%20%20%20%20preferCanvas%3A%20false%2C%0A%20%20%20%20%20%20%20%20%20%20%20%20%20%20%20%20%7D%0A%20%20%20%20%20%20%20%20%20%20%20%20%29%3B%0A%0A%20%20%20%20%20%20%20%20%20%20%20%20%0A%0A%20%20%20%20%20%20%20%20%0A%20%20%20%20%0A%20%20%20%20%20%20%20%20%20%20%20%20var%20tile_layer_847efbd998694336b14d774a66fd7c1e%20%3D%20L.tileLayer%28%0A%20%20%20%20%20%20%20%20%20%20%20%20%20%20%20%20%22https%3A//%7Bs%7D.tile.openstreetmap.org/%7Bz%7D/%7Bx%7D/%7By%7D.png%22%2C%0A%20%20%20%20%20%20%20%20%20%20%20%20%20%20%20%20%7B%22attribution%22%3A%20%22Data%20by%20%5Cu0026copy%3B%20%5Cu003ca%20href%3D%5C%22http%3A//openstreetmap.org%5C%22%5Cu003eOpenStreetMap%5Cu003c/a%5Cu003e%2C%20under%20%5Cu003ca%20href%3D%5C%22http%3A//www.openstreetmap.org/copyright%5C%22%5Cu003eODbL%5Cu003c/a%5Cu003e.%22%2C%20%22detectRetina%22%3A%20false%2C%20%22maxNativeZoom%22%3A%2018%2C%20%22maxZoom%22%3A%2018%2C%20%22minZoom%22%3A%200%2C%20%22noWrap%22%3A%20false%2C%20%22opacity%22%3A%201%2C%20%22subdomains%22%3A%20%22abc%22%2C%20%22tms%22%3A%20false%7D%0A%20%20%20%20%20%20%20%20%20%20%20%20%29.addTo%28map_7ed7ec28ba174e95b86571b60b9b069b%29%3B%0A%20%20%20%20%20%20%20%20%0A%20%20%20%20%0A%20%20%20%20%20%20%20%20%20%20%20%20var%20heat_map_9c265c03e9364ae9b24d3d4138888842%20%3D%20L.heatLayer%28%0A%20%20%20%20%20%20%20%20%20%20%20%20%20%20%20%20%5B%5B45.95485055%2C%20-112.49659530324134%2C%205124.0%5D%2C%20%5B18.1475%2C%2041.538889%2C%202523.0%5D%2C%20%5B13.00540865%2C%2074.79460685941484%2C%202504.0%5D%2C%20%5B12.2655944%2C%2076.6465404%2C%202235.0%5D%2C%20%5B44.3730577%2C%20-71.6118577%2C%202144.0%5D%2C%20%5B12.9732913%2C%2077.6404672%2C%202083.0%5D%2C%20%5B27.64392675%2C%2083.05280519687284%2C%201926.0%5D%2C%20%5B12.9552572%2C%2077.6984163%2C%201846.0%5D%2C%20%5B12.887979%2C%2077.5970812%2C%201630.0%5D%2C%20%5B12.93577245%2C%2077.66676103753434%2C%201286.0%5D%2C%20%5B-6.2659285%2C%20106.7842561%2C%201258.0%5D%2C%20%5B14.5395813%2C%20121.070371%2C%201238.0%5D%2C%20%5B40.28745%2C%20-76.964526%2C%201218.0%5D%2C%20%5B13.0078418%2C%2074.7963208%2C%201181.0%5D%2C%20%5B12.9400321%2C%2077.6203272%2C%201156.0%5D%2C%20%5B12.9242381%2C%2077.6289059%2C%201065.0%5D%2C%20%5B12.9778793%2C%2077.6246697%2C%201023.0%5D%2C%20%5B12.93433385%2C%2077.63040639553275%2C%201017.0%5D%2C%20%5B17.9895618%2C%2079.5967057%2C%20918.0%5D%2C%20%5B15.8876779%2C%2075.7046777%2C%20906.0%5D%2C%20%5B13.0221416%2C%2077.6403368%2C%20853.0%5D%2C%20%5B50.7721586%2C%200.09772783661369303%2C%20812.0%5D%2C%20%5B12.996845%2C%2077.6130165%2C%20727.0%5D%2C%20%5B13.0027353%2C%2077.5703253%2C%20725.0%5D%2C%20%5B12.9417261%2C%2077.5755021%2C%20684.0%5D%2C%20%5B38.7385916%2C%20-77.5275749%2C%20675.0%5D%2C%20%5B13.0141618%2C%2077.6518539%2C%20664.0%5D%2C%20%5B33.5935063%2C%20-79.0345627%2C%20658.0%5D%2C%20%5B13.0346384%2C%2077.5681733%2C%20649.0%5D%2C%20%5B13.0093455%2C%2077.6377094%2C%20648.0%5D%2C%20%5B12.9882338%2C%2077.554883%2C%20591.0%5D%2C%20%5B51.373656%2C%20-0.1042366%2C%20569.0%5D%2C%20%5B40.7652844%2C%20-76.373824%2C%20529.0%5D%2C%20%5B12.9575547%2C%2077.5979099%2C%20511.0%5D%2C%20%5B18.5322493%2C%2073.8499601124847%2C%20499.0%5D%2C%20%5B12.9624669%2C%2077.6381958%2C%20496.0%5D%2C%20%5B31.89376%2C%20-88.066644%2C%20491.0%5D%2C%20%5B-8.9189606%2C%2033.4588989%2C%20446.0%5D%2C%20%5B12.945245%2C%2077.6269144%2C%20439.0%5D%2C%20%5B51.5153824%2C%20-0.0719631%2C%20370.0%5D%2C%20%5B51.5227651%2C%20-0.7354457%2C%20352.0%5D%2C%20%5B12.9417812%2C%2077.6160146%2C%20320.0%5D%2C%20%5B12.988721250000001%2C%2077.58516877601824%2C%20295.0%5D%2C%20%5B12.9678074%2C%2077.6568367%2C%20272.0%5D%2C%20%5B12.9489339%2C%2077.5968273%2C%20246.0%5D%2C%20%5B12.9089453%2C%2077.6239038%2C%20238.0%5D%2C%20%5B12.9271867%2C%2077.6266252%2C%20216.0%5D%2C%20%5B12.9081487%2C%2077.5553179%2C%20195.0%5D%2C%20%5B12.973936%2C%2077.6509982%2C%20194.0%5D%2C%20%5B12.9932739%2C%2077.5388099%2C%20191.0%5D%2C%20%5B13.2227%2C%2078.5541977%2C%20187.0%5D%2C%20%5B12.9931876%2C%2077.5753419%2C%20165.0%5D%2C%20%5B13.0258087%2C%2077.6305067%2C%20161.0%5D%2C%20%5B1.2847055%2C%20103.84320655721689%2C%20155.0%5D%2C%20%5B13.0358698%2C%2077.6323597%2C%20153.0%5D%2C%20%5B34.977289%2C%20-78.974578%2C%20151.0%5D%2C%20%5B22.3146438%2C%2073.1597756%2C%20139.0%5D%2C%20%5B39.76880625%2C%20-86.15345077251979%2C%20126.0%5D%2C%20%5B13.02383%2C%2077.5529215%2C%20119.0%5D%2C%20%5B12.9414662%2C%2077.7470942%2C%20117.0%5D%2C%20%5B12.967576%2C%2077.7150877%2C%20113.0%5D%2C%20%5B13.0646907%2C%2077.49626895712257%2C%20107.0%5D%2C%20%5B12.9243509%2C%2077.6255562%2C%20102.0%5D%2C%20%5B12.773175%2C%2077.7831871%2C%20102.0%5D%2C%20%5B12.9846713%2C%2077.6790908%2C%20101.0%5D%2C%20%5B17.2510682%2C%2080.1651978%2C%2090.0%5D%2C%20%5B22.8359967%2C%2069.3405962%2C%2080.0%5D%2C%20%5B13.0227204%2C%2077.595715%2C%2080.0%5D%2C%20%5B23.1485712%2C%2081.6048241%2C%2076.0%5D%2C%20%5B15.8782951%2C%2074.5084834%2C%2063.0%5D%2C%20%5B13.0621474%2C%2077.58006135480495%2C%2053.0%5D%2C%20%5B13.2923988%2C%2077.7519261%2C%2048.0%5D%2C%20%5B13.0215466%2C%2077.7640586%2C%2044.0%5D%2C%20%5B11.9917786%2C%2076.5066292%2C%2038.0%5D%2C%20%5B12.945048%2C%2077.263004%2C%2034.0%5D%2C%20%5B12.957998%2C%2077.6037312%2C%2027.0%5D%2C%20%5B38.7801076%2C%20-121.5056438%2C%2027.0%5D%2C%20%5B13.194416%2C%2078.7011301%2C%2022.0%5D%2C%20%5B12.3872141%2C%2076.6669626%2C%2022.0%5D%2C%20%5B12.5607431%2C%2077.4258375%2C%2019.0%5D%2C%20%5B13.007516%2C%2077.695935%2C%2018.0%5D%2C%20%5B12.9055682%2C%2077.5455438%2C%2017.0%5D%2C%20%5B13.0217151%2C%2077.7660547%2C%2014.0%5D%2C%20%5B13.0382184%2C%2077.5919%2C%2014.0%5D%2C%20%5B12.9176571%2C%2077.4837568%2C%209.0%5D%2C%20%5B12.9546741%2C%2077.5121724%2C%209.0%5D%2C%20%5B13.0101286%2C%2077.5548006%2C%208.0%5D%2C%20%5B13.1006982%2C%2077.5963454%2C%206.0%5D%2C%20%5B13.0011289%2C%2077.6325617%2C%206.0%5D%2C%20%5B13.0784743%2C%2077.6068938%2C%203.0%5D%2C%20%5B12.9274413%2C%2077.5155224%2C%202.0%5D%2C%20%5B13.0329419%2C%2077.5273253%2C%201.0%5D%5D%2C%0A%20%20%20%20%20%20%20%20%20%20%20%20%20%20%20%20%7B%22blur%22%3A%2015%2C%20%22maxZoom%22%3A%2018%2C%20%22minOpacity%22%3A%200.5%2C%20%22radius%22%3A%2025%2C%20%22zoom%22%3A%2020%7D%0A%20%20%20%20%20%20%20%20%20%20%20%20%29.addTo%28map_7ed7ec28ba174e95b86571b60b9b069b%29%3B%0A%20%20%20%20%20%20%20%20%0A%20%20%20%20%0A%20%20%20%20%20%20%20%20%20%20%20%20var%20fast_marker_cluster_67abcde485964085baf009d143c3d9de%20%3D%20%28function%28%29%7B%0A%20%20%20%20%20%20%20%20%20%20%20%20%20%20%20%20%0A%20%20%20%20%20%20%20%20%20%20%20%20%20%20%20%20var%20callback%20%3D%20function%20%28row%29%20%7B%0A%20%20%20%20%20%20%20%20%20%20%20%20%20%20%20%20%20%20%20%20var%20icon%20%3D%20L.AwesomeMarkers.icon%28%29%3B%0A%20%20%20%20%20%20%20%20%20%20%20%20%20%20%20%20%20%20%20%20var%20marker%20%3D%20L.marker%28new%20L.LatLng%28row%5B0%5D%2C%20row%5B1%5D%29%29%3B%0A%20%20%20%20%20%20%20%20%20%20%20%20%20%20%20%20%20%20%20%20marker.setIcon%28icon%29%3B%0A%20%20%20%20%20%20%20%20%20%20%20%20%20%20%20%20%20%20%20%20return%20marker%3B%0A%20%20%20%20%20%20%20%20%20%20%20%20%20%20%20%20%7D%3B%0A%0A%20%20%20%20%20%20%20%20%20%20%20%20%20%20%20%20var%20data%20%3D%20%5B%5B45.95485055%2C%20-112.49659530324134%2C%205124.0%5D%2C%20%5B18.1475%2C%2041.538889%2C%202523.0%5D%2C%20%5B13.00540865%2C%2074.79460685941484%2C%202504.0%5D%2C%20%5B12.2655944%2C%2076.6465404%2C%202235.0%5D%2C%20%5B44.3730577%2C%20-71.6118577%2C%202144.0%5D%2C%20%5B12.9732913%2C%2077.6404672%2C%202083.0%5D%2C%20%5B27.64392675%2C%2083.05280519687284%2C%201926.0%5D%2C%20%5B12.9552572%2C%2077.6984163%2C%201846.0%5D%2C%20%5B12.887979%2C%2077.5970812%2C%201630.0%5D%2C%20%5B12.93577245%2C%2077.66676103753434%2C%201286.0%5D%2C%20%5B-6.2659285%2C%20106.7842561%2C%201258.0%5D%2C%20%5B14.5395813%2C%20121.070371%2C%201238.0%5D%2C%20%5B40.28745%2C%20-76.964526%2C%201218.0%5D%2C%20%5B13.0078418%2C%2074.7963208%2C%201181.0%5D%2C%20%5B12.9400321%2C%2077.6203272%2C%201156.0%5D%2C%20%5B12.9242381%2C%2077.6289059%2C%201065.0%5D%2C%20%5B12.9778793%2C%2077.6246697%2C%201023.0%5D%2C%20%5B12.93433385%2C%2077.63040639553275%2C%201017.0%5D%2C%20%5B17.9895618%2C%2079.5967057%2C%20918.0%5D%2C%20%5B15.8876779%2C%2075.7046777%2C%20906.0%5D%2C%20%5B13.0221416%2C%2077.6403368%2C%20853.0%5D%2C%20%5B50.7721586%2C%200.09772783661369303%2C%20812.0%5D%2C%20%5B12.996845%2C%2077.6130165%2C%20727.0%5D%2C%20%5B13.0027353%2C%2077.5703253%2C%20725.0%5D%2C%20%5B12.9417261%2C%2077.5755021%2C%20684.0%5D%2C%20%5B38.7385916%2C%20-77.5275749%2C%20675.0%5D%2C%20%5B13.0141618%2C%2077.6518539%2C%20664.0%5D%2C%20%5B33.5935063%2C%20-79.0345627%2C%20658.0%5D%2C%20%5B13.0346384%2C%2077.5681733%2C%20649.0%5D%2C%20%5B13.0093455%2C%2077.6377094%2C%20648.0%5D%2C%20%5B12.9882338%2C%2077.554883%2C%20591.0%5D%2C%20%5B51.373656%2C%20-0.1042366%2C%20569.0%5D%2C%20%5B40.7652844%2C%20-76.373824%2C%20529.0%5D%2C%20%5B12.9575547%2C%2077.5979099%2C%20511.0%5D%2C%20%5B18.5322493%2C%2073.8499601124847%2C%20499.0%5D%2C%20%5B12.9624669%2C%2077.6381958%2C%20496.0%5D%2C%20%5B31.89376%2C%20-88.066644%2C%20491.0%5D%2C%20%5B-8.9189606%2C%2033.4588989%2C%20446.0%5D%2C%20%5B12.945245%2C%2077.6269144%2C%20439.0%5D%2C%20%5B51.5153824%2C%20-0.0719631%2C%20370.0%5D%2C%20%5B51.5227651%2C%20-0.7354457%2C%20352.0%5D%2C%20%5B12.9417812%2C%2077.6160146%2C%20320.0%5D%2C%20%5B12.988721250000001%2C%2077.58516877601824%2C%20295.0%5D%2C%20%5B12.9678074%2C%2077.6568367%2C%20272.0%5D%2C%20%5B12.9489339%2C%2077.5968273%2C%20246.0%5D%2C%20%5B12.9089453%2C%2077.6239038%2C%20238.0%5D%2C%20%5B12.9271867%2C%2077.6266252%2C%20216.0%5D%2C%20%5B12.9081487%2C%2077.5553179%2C%20195.0%5D%2C%20%5B12.973936%2C%2077.6509982%2C%20194.0%5D%2C%20%5B12.9932739%2C%2077.5388099%2C%20191.0%5D%2C%20%5B13.2227%2C%2078.5541977%2C%20187.0%5D%2C%20%5B12.9931876%2C%2077.5753419%2C%20165.0%5D%2C%20%5B13.0258087%2C%2077.6305067%2C%20161.0%5D%2C%20%5B1.2847055%2C%20103.84320655721689%2C%20155.0%5D%2C%20%5B13.0358698%2C%2077.6323597%2C%20153.0%5D%2C%20%5B34.977289%2C%20-78.974578%2C%20151.0%5D%2C%20%5B22.3146438%2C%2073.1597756%2C%20139.0%5D%2C%20%5B39.76880625%2C%20-86.15345077251979%2C%20126.0%5D%2C%20%5B13.02383%2C%2077.5529215%2C%20119.0%5D%2C%20%5B12.9414662%2C%2077.7470942%2C%20117.0%5D%2C%20%5B12.967576%2C%2077.7150877%2C%20113.0%5D%2C%20%5B13.0646907%2C%2077.49626895712257%2C%20107.0%5D%2C%20%5B12.9243509%2C%2077.6255562%2C%20102.0%5D%2C%20%5B12.773175%2C%2077.7831871%2C%20102.0%5D%2C%20%5B12.9846713%2C%2077.6790908%2C%20101.0%5D%2C%20%5B17.2510682%2C%2080.1651978%2C%2090.0%5D%2C%20%5B22.8359967%2C%2069.3405962%2C%2080.0%5D%2C%20%5B13.0227204%2C%2077.595715%2C%2080.0%5D%2C%20%5B23.1485712%2C%2081.6048241%2C%2076.0%5D%2C%20%5B15.8782951%2C%2074.5084834%2C%2063.0%5D%2C%20%5B13.0621474%2C%2077.58006135480495%2C%2053.0%5D%2C%20%5B13.2923988%2C%2077.7519261%2C%2048.0%5D%2C%20%5B13.0215466%2C%2077.7640586%2C%2044.0%5D%2C%20%5B11.9917786%2C%2076.5066292%2C%2038.0%5D%2C%20%5B12.945048%2C%2077.263004%2C%2034.0%5D%2C%20%5B12.957998%2C%2077.6037312%2C%2027.0%5D%2C%20%5B38.7801076%2C%20-121.5056438%2C%2027.0%5D%2C%20%5B13.194416%2C%2078.7011301%2C%2022.0%5D%2C%20%5B12.3872141%2C%2076.6669626%2C%2022.0%5D%2C%20%5B12.5607431%2C%2077.4258375%2C%2019.0%5D%2C%20%5B13.007516%2C%2077.695935%2C%2018.0%5D%2C%20%5B12.9055682%2C%2077.5455438%2C%2017.0%5D%2C%20%5B13.0217151%2C%2077.7660547%2C%2014.0%5D%2C%20%5B13.0382184%2C%2077.5919%2C%2014.0%5D%2C%20%5B12.9176571%2C%2077.4837568%2C%209.0%5D%2C%20%5B12.9546741%2C%2077.5121724%2C%209.0%5D%2C%20%5B13.0101286%2C%2077.5548006%2C%208.0%5D%2C%20%5B13.1006982%2C%2077.5963454%2C%206.0%5D%2C%20%5B13.0011289%2C%2077.6325617%2C%206.0%5D%2C%20%5B13.0784743%2C%2077.6068938%2C%203.0%5D%2C%20%5B12.9274413%2C%2077.5155224%2C%202.0%5D%2C%20%5B13.0329419%2C%2077.5273253%2C%201.0%5D%5D%3B%0A%20%20%20%20%20%20%20%20%20%20%20%20%20%20%20%20var%20cluster%20%3D%20L.markerClusterGroup%28%7B%22zoom%22%3A%2020%7D%29%3B%0A%0A%20%20%20%20%20%20%20%20%20%20%20%20%20%20%20%20for%20%28var%20i%20%3D%200%3B%20i%20%3C%20data.length%3B%20i%2B%2B%29%20%7B%0A%20%20%20%20%20%20%20%20%20%20%20%20%20%20%20%20%20%20%20%20var%20row%20%3D%20data%5Bi%5D%3B%0A%20%20%20%20%20%20%20%20%20%20%20%20%20%20%20%20%20%20%20%20var%20marker%20%3D%20callback%28row%29%3B%0A%20%20%20%20%20%20%20%20%20%20%20%20%20%20%20%20%20%20%20%20marker.addTo%28cluster%29%3B%0A%20%20%20%20%20%20%20%20%20%20%20%20%20%20%20%20%7D%0A%0A%20%20%20%20%20%20%20%20%20%20%20%20%20%20%20%20cluster.addTo%28map_7ed7ec28ba174e95b86571b60b9b069b%29%3B%0A%20%20%20%20%20%20%20%20%20%20%20%20%20%20%20%20return%20cluster%3B%0A%20%20%20%20%20%20%20%20%20%20%20%20%7D%29%28%29%3B%0A%20%20%20%20%20%20%20%20%0A%20%20%20%20%0A%20%20%20%20%20%20%20%20%20%20%20%20var%20fast_marker_cluster_866a2a169704471caed40aae192a79af%20%3D%20%28function%28%29%7B%0A%20%20%20%20%20%20%20%20%20%20%20%20%20%20%20%20%0A%20%20%20%20%20%20%20%20%20%20%20%20%20%20%20%20var%20callback%20%3D%20function%20%28row%29%20%7B%0A%20%20%20%20%20%20%20%20%20%20%20%20%20%20%20%20%20%20%20%20var%20icon%20%3D%20L.AwesomeMarkers.icon%28%29%3B%0A%20%20%20%20%20%20%20%20%20%20%20%20%20%20%20%20%20%20%20%20var%20marker%20%3D%20L.marker%28new%20L.LatLng%28row%5B0%5D%2C%20row%5B1%5D%29%29%3B%0A%20%20%20%20%20%20%20%20%20%20%20%20%20%20%20%20%20%20%20%20marker.setIcon%28icon%29%3B%0A%20%20%20%20%20%20%20%20%20%20%20%20%20%20%20%20%20%20%20%20return%20marker%3B%0A%20%20%20%20%20%20%20%20%20%20%20%20%20%20%20%20%7D%3B%0A%0A%20%20%20%20%20%20%20%20%20%20%20%20%20%20%20%20var%20data%20%3D%20%5B%5B45.95485055%2C%20-112.49659530324134%2C%205124.0%5D%2C%20%5B18.1475%2C%2041.538889%2C%202523.0%5D%2C%20%5B13.00540865%2C%2074.79460685941484%2C%202504.0%5D%2C%20%5B12.2655944%2C%2076.6465404%2C%202235.0%5D%2C%20%5B44.3730577%2C%20-71.6118577%2C%202144.0%5D%2C%20%5B12.9732913%2C%2077.6404672%2C%202083.0%5D%2C%20%5B27.64392675%2C%2083.05280519687284%2C%201926.0%5D%2C%20%5B12.9552572%2C%2077.6984163%2C%201846.0%5D%2C%20%5B12.887979%2C%2077.5970812%2C%201630.0%5D%2C%20%5B12.93577245%2C%2077.66676103753434%2C%201286.0%5D%2C%20%5B-6.2659285%2C%20106.7842561%2C%201258.0%5D%2C%20%5B14.5395813%2C%20121.070371%2C%201238.0%5D%2C%20%5B40.28745%2C%20-76.964526%2C%201218.0%5D%2C%20%5B13.0078418%2C%2074.7963208%2C%201181.0%5D%2C%20%5B12.9400321%2C%2077.6203272%2C%201156.0%5D%2C%20%5B12.9242381%2C%2077.6289059%2C%201065.0%5D%2C%20%5B12.9778793%2C%2077.6246697%2C%201023.0%5D%2C%20%5B12.93433385%2C%2077.63040639553275%2C%201017.0%5D%2C%20%5B17.9895618%2C%2079.5967057%2C%20918.0%5D%2C%20%5B15.8876779%2C%2075.7046777%2C%20906.0%5D%2C%20%5B13.0221416%2C%2077.6403368%2C%20853.0%5D%2C%20%5B50.7721586%2C%200.09772783661369303%2C%20812.0%5D%2C%20%5B12.996845%2C%2077.6130165%2C%20727.0%5D%2C%20%5B13.0027353%2C%2077.5703253%2C%20725.0%5D%2C%20%5B12.9417261%2C%2077.5755021%2C%20684.0%5D%2C%20%5B38.7385916%2C%20-77.5275749%2C%20675.0%5D%2C%20%5B13.0141618%2C%2077.6518539%2C%20664.0%5D%2C%20%5B33.5935063%2C%20-79.0345627%2C%20658.0%5D%2C%20%5B13.0346384%2C%2077.5681733%2C%20649.0%5D%2C%20%5B13.0093455%2C%2077.6377094%2C%20648.0%5D%2C%20%5B12.9882338%2C%2077.554883%2C%20591.0%5D%2C%20%5B51.373656%2C%20-0.1042366%2C%20569.0%5D%2C%20%5B40.7652844%2C%20-76.373824%2C%20529.0%5D%2C%20%5B12.9575547%2C%2077.5979099%2C%20511.0%5D%2C%20%5B18.5322493%2C%2073.8499601124847%2C%20499.0%5D%2C%20%5B12.9624669%2C%2077.6381958%2C%20496.0%5D%2C%20%5B31.89376%2C%20-88.066644%2C%20491.0%5D%2C%20%5B-8.9189606%2C%2033.4588989%2C%20446.0%5D%2C%20%5B12.945245%2C%2077.6269144%2C%20439.0%5D%2C%20%5B51.5153824%2C%20-0.0719631%2C%20370.0%5D%2C%20%5B51.5227651%2C%20-0.7354457%2C%20352.0%5D%2C%20%5B12.9417812%2C%2077.6160146%2C%20320.0%5D%2C%20%5B12.988721250000001%2C%2077.58516877601824%2C%20295.0%5D%2C%20%5B12.9678074%2C%2077.6568367%2C%20272.0%5D%2C%20%5B12.9489339%2C%2077.5968273%2C%20246.0%5D%2C%20%5B12.9089453%2C%2077.6239038%2C%20238.0%5D%2C%20%5B12.9271867%2C%2077.6266252%2C%20216.0%5D%2C%20%5B12.9081487%2C%2077.5553179%2C%20195.0%5D%2C%20%5B12.973936%2C%2077.6509982%2C%20194.0%5D%2C%20%5B12.9932739%2C%2077.5388099%2C%20191.0%5D%2C%20%5B13.2227%2C%2078.5541977%2C%20187.0%5D%2C%20%5B12.9931876%2C%2077.5753419%2C%20165.0%5D%2C%20%5B13.0258087%2C%2077.6305067%2C%20161.0%5D%2C%20%5B1.2847055%2C%20103.84320655721689%2C%20155.0%5D%2C%20%5B13.0358698%2C%2077.6323597%2C%20153.0%5D%2C%20%5B34.977289%2C%20-78.974578%2C%20151.0%5D%2C%20%5B22.3146438%2C%2073.1597756%2C%20139.0%5D%2C%20%5B39.76880625%2C%20-86.15345077251979%2C%20126.0%5D%2C%20%5B13.02383%2C%2077.5529215%2C%20119.0%5D%2C%20%5B12.9414662%2C%2077.7470942%2C%20117.0%5D%2C%20%5B12.967576%2C%2077.7150877%2C%20113.0%5D%2C%20%5B13.0646907%2C%2077.49626895712257%2C%20107.0%5D%2C%20%5B12.9243509%2C%2077.6255562%2C%20102.0%5D%2C%20%5B12.773175%2C%2077.7831871%2C%20102.0%5D%2C%20%5B12.9846713%2C%2077.6790908%2C%20101.0%5D%2C%20%5B17.2510682%2C%2080.1651978%2C%2090.0%5D%2C%20%5B22.8359967%2C%2069.3405962%2C%2080.0%5D%2C%20%5B13.0227204%2C%2077.595715%2C%2080.0%5D%2C%20%5B23.1485712%2C%2081.6048241%2C%2076.0%5D%2C%20%5B15.8782951%2C%2074.5084834%2C%2063.0%5D%2C%20%5B13.0621474%2C%2077.58006135480495%2C%2053.0%5D%2C%20%5B13.2923988%2C%2077.7519261%2C%2048.0%5D%2C%20%5B13.0215466%2C%2077.7640586%2C%2044.0%5D%2C%20%5B11.9917786%2C%2076.5066292%2C%2038.0%5D%2C%20%5B12.945048%2C%2077.263004%2C%2034.0%5D%2C%20%5B12.957998%2C%2077.6037312%2C%2027.0%5D%2C%20%5B38.7801076%2C%20-121.5056438%2C%2027.0%5D%2C%20%5B13.194416%2C%2078.7011301%2C%2022.0%5D%2C%20%5B12.3872141%2C%2076.6669626%2C%2022.0%5D%2C%20%5B12.5607431%2C%2077.4258375%2C%2019.0%5D%2C%20%5B13.007516%2C%2077.695935%2C%2018.0%5D%2C%20%5B12.9055682%2C%2077.5455438%2C%2017.0%5D%2C%20%5B13.0217151%2C%2077.7660547%2C%2014.0%5D%2C%20%5B13.0382184%2C%2077.5919%2C%2014.0%5D%2C%20%5B12.9176571%2C%2077.4837568%2C%209.0%5D%2C%20%5B12.9546741%2C%2077.5121724%2C%209.0%5D%2C%20%5B13.0101286%2C%2077.5548006%2C%208.0%5D%2C%20%5B13.1006982%2C%2077.5963454%2C%206.0%5D%2C%20%5B13.0011289%2C%2077.6325617%2C%206.0%5D%2C%20%5B13.0784743%2C%2077.6068938%2C%203.0%5D%2C%20%5B12.9274413%2C%2077.5155224%2C%202.0%5D%2C%20%5B13.0329419%2C%2077.5273253%2C%201.0%5D%5D%3B%0A%20%20%20%20%20%20%20%20%20%20%20%20%20%20%20%20var%20cluster%20%3D%20L.markerClusterGroup%28%7B%22zoom%22%3A%2020%7D%29%3B%0A%0A%20%20%20%20%20%20%20%20%20%20%20%20%20%20%20%20for%20%28var%20i%20%3D%200%3B%20i%20%3C%20data.length%3B%20i%2B%2B%29%20%7B%0A%20%20%20%20%20%20%20%20%20%20%20%20%20%20%20%20%20%20%20%20var%20row%20%3D%20data%5Bi%5D%3B%0A%20%20%20%20%20%20%20%20%20%20%20%20%20%20%20%20%20%20%20%20var%20marker%20%3D%20callback%28row%29%3B%0A%20%20%20%20%20%20%20%20%20%20%20%20%20%20%20%20%20%20%20%20marker.addTo%28cluster%29%3B%0A%20%20%20%20%20%20%20%20%20%20%20%20%20%20%20%20%7D%0A%0A%20%20%20%20%20%20%20%20%20%20%20%20%20%20%20%20cluster.addTo%28map_7ed7ec28ba174e95b86571b60b9b069b%29%3B%0A%20%20%20%20%20%20%20%20%20%20%20%20%20%20%20%20return%20cluster%3B%0A%20%20%20%20%20%20%20%20%20%20%20%20%7D%29%28%29%3B%0A%20%20%20%20%20%20%20%20%0A%20%20%20%20%0A%20%20%20%20%20%20%20%20%20%20%20%20var%20heat_map_c8e7a9f3ca834602896be0a096235e1b%20%3D%20L.heatLayer%28%0A%20%20%20%20%20%20%20%20%20%20%20%20%20%20%20%20%5B%5B40.7652844%2C%20-76.373824%2C%204.04288577154309%5D%2C%20%5B51.5227651%2C%20-0.7354457%2C%204.0172011661807625%5D%2C%20%5B12.9271867%2C%2077.6266252%2C%203.9787564766839405%5D%2C%20%5B38.7801076%2C%20-121.5056438%2C%203.9653846153846155%5D%2C%20%5B51.373656%2C%20-0.1042366%2C%203.9630909090909086%5D%2C%20%5B13.00540865%2C%2074.79460685941484%2C%203.901511969760601%5D%2C%20%5B31.89376%2C%20-88.066644%2C%203.901052631578944%5D%2C%20%5B12.9274413%2C%2077.5155224%2C%203.85%5D%2C%20%5B38.7385916%2C%20-77.5275749%2C%203.8445723684210518%5D%2C%20%5B15.8782951%2C%2074.5084834%2C%203.839655172413795%5D%2C%20%5B12.93433385%2C%2077.63040639553275%2C%203.8143518518518587%5D%2C%20%5B12.957998%2C%2077.6037312%2C%203.8074074074074087%5D%2C%20%5B34.977289%2C%20-78.974578%2C%203.796428571428575%5D%2C%20%5B13.0078418%2C%2074.7963208%2C%203.7478420569329716%5D%2C%20%5B17.9895618%2C%2079.5967057%2C%203.740550239234445%5D%2C%20%5B22.3146438%2C%2073.1597756%2C%203.7270072992700722%5D%2C%20%5B12.9176571%2C%2077.4837568%2C%203.7222222222222223%5D%2C%20%5B12.9931876%2C%2077.5753419%2C%203.7049295774647875%5D%2C%20%5B50.7721586%2C%200.09772783661369303%2C%203.6880126182965247%5D%2C%20%5B12.773175%2C%2077.7831871%2C%203.687837837837837%5D%2C%20%5B13.0027353%2C%2077.5703253%2C%203.6682370820668657%5D%2C%20%5B12.9400321%2C%2077.6203272%2C%203.662466246624663%5D%2C%20%5B12.9732913%2C%2077.6404672%2C%203.6521694214876%5D%2C%20%5B13.1006982%2C%2077.5963454%2C%203.6399999999999997%5D%2C%20%5B13.0101286%2C%2077.5548006%2C%203.6250000000000004%5D%2C%20%5B27.64392675%2C%2083.05280519687284%2C%203.615250291036089%5D%2C%20%5B12.9417812%2C%2077.6160146%2C%203.607499999999995%5D%2C%20%5B13.2923988%2C%2077.7519261%2C%203.6064516129032267%5D%2C%20%5B40.28745%2C%20-76.964526%2C%203.5958487084870887%5D%2C%20%5B13.0346384%2C%2077.5681733%2C%203.583173996175911%5D%2C%20%5B12.988721250000001%2C%2077.58516877601824%2C%203.5809523809523807%5D%2C%20%5B12.996845%2C%2077.6130165%2C%203.564878892733561%5D%2C%20%5B12.9243509%2C%2077.6255562%2C%203.545652173913042%5D%2C%20%5B12.9778793%2C%2077.6246697%2C%203.541398446170927%5D%2C%20%5B13.0221416%2C%2077.6403368%2C%203.5291443850267377%5D%2C%20%5B12.9055682%2C%2077.5455438%2C%203.511111111111111%5D%2C%20%5B13.02383%2C%2077.5529215%2C%203.5026785714285693%5D%2C%20%5B13.0093455%2C%2077.6377094%2C%203.499809523809525%5D%2C%20%5B18.5322493%2C%2073.8499601124847%2C%203.498916967509032%5D%2C%20%5B11.9917786%2C%2076.5066292%2C%203.4869565217391307%5D%2C%20%5B18.1475%2C%2041.538889%2C%203.484069548872181%5D%2C%20%5B12.5607431%2C%2077.4258375%2C%203.478947368421052%5D%2C%20%5B13.0621474%2C%2077.58006135480495%2C%203.478723404255319%5D%2C%20%5B12.9417261%2C%2077.5755021%2C%203.478184713375793%5D%2C%20%5B12.9846713%2C%2077.6790908%2C%203.4736263736263737%5D%2C%20%5B12.9242381%2C%2077.6289059%2C%203.4735582154515736%5D%2C%20%5B12.3872141%2C%2076.6669626%2C%203.4555555555555566%5D%2C%20%5B39.76880625%2C%20-86.15345077251979%2C%203.4461538461538463%5D%2C%20%5B12.9932739%2C%2077.5388099%2C%203.445517241379311%5D%2C%20%5B12.945048%2C%2077.263004%2C%203.4375000000000004%5D%2C%20%5B12.9678074%2C%2077.6568367%2C%203.4297709923664126%5D%2C%20%5B12.9882338%2C%2077.554883%2C%203.422381930184803%5D%2C%20%5B13.0646907%2C%2077.49626895712257%2C%203.419780219780221%5D%2C%20%5B12.2655944%2C%2076.6465404%2C%203.412925905895076%5D%2C%20%5B12.9552572%2C%2077.6984163%2C%203.400532268795743%5D%2C%20%5B12.9546741%2C%2077.5121724%2C%203.4%5D%2C%20%5B-8.9189606%2C%2033.4588989%2C%203.3891191709844577%5D%2C%20%5B12.9624669%2C%2077.6381958%2C%203.385547785547788%5D%2C%20%5B44.3730577%2C%20-71.6118577%2C%203.3841701122268155%5D%2C%20%5B33.5935063%2C%20-79.0345627%2C%203.374698795180724%5D%2C%20%5B15.8876779%2C%2075.7046777%2C%203.373291925465841%5D%2C%20%5B13.0141618%2C%2077.6518539%2C%203.3629258517034093%5D%2C%20%5B23.1485712%2C%2081.6048241%2C%203.3600000000000008%5D%2C%20%5B13.2227%2C%2078.5541977%2C%203.3333333333333335%5D%2C%20%5B12.9575547%2C%2077.5979099%2C%203.323589743589747%5D%2C%20%5B12.967576%2C%2077.7150877%2C%203.3202380952380954%5D%2C%20%5B12.9081487%2C%2077.5553179%2C%203.3202380952380954%5D%2C%20%5B12.93577245%2C%2077.66676103753434%2C%203.309833024118736%5D%2C%20%5B12.9414662%2C%2077.7470942%2C%203.2989247311827947%5D%2C%20%5B45.95485055%2C%20-112.49659530324134%2C%203.296127669561143%5D%2C%20%5B1.2847055%2C%20103.84320655721689%2C%203.294067796610167%5D%2C%20%5B13.0358698%2C%2077.6323597%2C%203.279279279279278%5D%2C%20%5B13.0227204%2C%2077.595715%2C%203.278124999999999%5D%2C%20%5B12.887979%2C%2077.5970812%2C%203.2716767371601234%5D%2C%20%5B14.5395813%2C%20121.070371%2C%203.263937823834194%5D%2C%20%5B12.9489339%2C%2077.5968273%2C%203.2576354679802924%5D%2C%20%5B22.8359967%2C%2069.3405962%2C%203.2492957746478885%5D%2C%20%5B13.0215466%2C%2077.7640586%2C%203.2433333333333327%5D%2C%20%5B13.007516%2C%2077.695935%2C%203.2181818181818183%5D%2C%20%5B17.2510682%2C%2080.1651978%2C%203.215151515151515%5D%2C%20%5B13.0329419%2C%2077.5273253%2C%203.2%5D%2C%20%5B13.194416%2C%2078.7011301%2C%203.1818181818181825%5D%2C%20%5B51.5182611%2C%20-0.0742531%2C%203.109708737864077%5D%2C%20%5B12.973936%2C%2077.6509982%2C%203.0953947368421058%5D%2C%20%5B13.0258087%2C%2077.6305067%2C%203.0938931297709917%5D%2C%20%5B12.945245%2C%2077.6269144%2C%203.05472972972973%5D%2C%20%5B-6.2659285%2C%20106.7842561%2C%203.0419087136929477%5D%2C%20%5B12.9089453%2C%2077.6239038%2C%202.92675159235669%5D%2C%20%5B13.0382184%2C%2077.5919%2C%202.88%5D%2C%20%5B13.0217151%2C%2077.7660547%2C%202.385714285714286%5D%2C%20%5B13.0011289%2C%2077.6325617%2C%202.02%5D%5D%2C%0A%20%20%20%20%20%20%20%20%20%20%20%20%20%20%20%20%7B%22blur%22%3A%2015%2C%20%22maxZoom%22%3A%2018%2C%20%22minOpacity%22%3A%200.5%2C%20%22radius%22%3A%2025%7D%0A%20%20%20%20%20%20%20%20%20%20%20%20%29.addTo%28map_7ed7ec28ba174e95b86571b60b9b069b%29%3B%0A%20%20%20%20%20%20%20%20%0A%20%20%20%20%0A%20%20%20%20%20%20%20%20%20%20%20%20var%20heat_map_9522419ca3414b1db59a0df481e7bdec%20%3D%20L.heatLayer%28%0A%20%20%20%20%20%20%20%20%20%20%20%20%20%20%20%20%5B%5B45.95485055%2C%20-112.49659530324134%2C%20274.0%5D%2C%20%5B15.8876779%2C%2075.7046777%2C%2035.0%5D%2C%20%5B13.0141618%2C%2077.6518539%2C%209.0%5D%2C%20%5B12.887979%2C%2077.5970812%2C%2060.0%5D%2C%20%5B12.9417261%2C%2077.5755021%2C%2017.0%5D%2C%20%5B12.9932739%2C%2077.5388099%2C%201.0%5D%2C%20%5B12.93577245%2C%2077.66676103753434%2C%20131.0%5D%2C%20%5B12.9089453%2C%2077.6239038%2C%206.0%5D%2C%20%5B40.28745%2C%20-76.964526%2C%2039.0%5D%2C%20%5B33.5935063%2C%20-79.0345627%2C%2042.0%5D%2C%20%5B17.2510682%2C%2080.1651978%2C%209.0%5D%2C%20%5B51.373656%2C%20-0.1042366%2C%2029.0%5D%2C%20%5B51.5153824%2C%20-0.0719631%2C%2011.0%5D%2C%20%5B12.9624669%2C%2077.6381958%2C%2029.0%5D%2C%20%5B13.0215466%2C%2077.7640586%2C%202.0%5D%2C%20%5B12.945245%2C%2077.6269144%2C%2036.0%5D%2C%20%5B-6.2659285%2C%20106.7842561%2C%2046.0%5D%2C%20%5B12.996845%2C%2077.6130165%2C%2027.0%5D%2C%20%5B13.0358698%2C%2077.6323597%2C%204.0%5D%2C%20%5B18.1475%2C%2041.538889%2C%20131.0%5D%2C%20%5B13.0258087%2C%2077.6305067%2C%202.0%5D%2C%20%5B12.773175%2C%2077.7831871%2C%208.0%5D%2C%20%5B12.967576%2C%2077.7150877%2C%208.0%5D%2C%20%5B12.9732913%2C%2077.6404672%2C%2085.0%5D%2C%20%5B12.2655944%2C%2076.6465404%2C%20135.0%5D%2C%20%5B27.64392675%2C%2083.05280519687284%2C%2025.0%5D%2C%20%5B12.9678074%2C%2077.6568367%2C%2022.0%5D%2C%20%5B12.9846713%2C%2077.6790908%2C%205.0%5D%2C%20%5B13.0221416%2C%2077.6403368%2C%2030.0%5D%2C%20%5B13.0093455%2C%2077.6377094%2C%206.0%5D%2C%20%5B14.5395813%2C%20121.070371%2C%20106.0%5D%2C%20%5B12.9271867%2C%2077.6266252%2C%206.0%5D%2C%20%5B12.93433385%2C%2077.63040639553275%2C%2054.0%5D%2C%20%5B13.00540865%2C%2074.79460685941484%2C%2038.0%5D%2C%20%5B12.9400321%2C%2077.6203272%2C%2045.0%5D%2C%20%5B13.0078418%2C%2074.7963208%2C%2098.0%5D%2C%20%5B12.9417812%2C%2077.6160146%2C%2010.0%5D%2C%20%5B12.9081487%2C%2077.5553179%2C%2021.0%5D%2C%20%5B17.9895618%2C%2079.5967057%2C%2022.0%5D%2C%20%5B1.2847055%2C%20103.84320655721689%2C%204.0%5D%2C%20%5B13.0027353%2C%2077.5703253%2C%2016.0%5D%2C%20%5B12.9552572%2C%2077.6984163%2C%20109.0%5D%2C%20%5B13.2227%2C%2078.5541977%2C%207.0%5D%2C%20%5B13.0346384%2C%2077.5681733%2C%2023.0%5D%2C%20%5B13.0217151%2C%2077.7660547%2C%201.0%5D%2C%20%5B-8.9189606%2C%2033.4588989%2C%2015.0%5D%2C%20%5B13.0227204%2C%2077.595715%2C%202.0%5D%2C%20%5B12.9882338%2C%2077.554883%2C%2012.0%5D%2C%20%5B38.7385916%2C%20-77.5275749%2C%2019.0%5D%2C%20%5B50.7721586%2C%200.09772783661369303%2C%2036.0%5D%2C%20%5B15.8782951%2C%2074.5084834%2C%205.0%5D%2C%20%5B23.1485712%2C%2081.6048241%2C%203.0%5D%2C%20%5B38.7801076%2C%20-121.5056438%2C%203.0%5D%2C%20%5B12.9242381%2C%2077.6289059%2C%2050.0%5D%2C%20%5B12.9931876%2C%2077.5753419%2C%206.0%5D%2C%20%5B12.9575547%2C%2077.5979099%2C%2034.0%5D%2C%20%5B18.5322493%2C%2073.8499601124847%2C%2012.0%5D%2C%20%5B12.973936%2C%2077.6509982%2C%2013.0%5D%2C%20%5B12.9778793%2C%2077.6246697%2C%2057.0%5D%2C%20%5B12.9414662%2C%2077.7470942%2C%203.0%5D%2C%20%5B12.988721250000001%2C%2077.58516877601824%2C%2012.0%5D%2C%20%5B44.3730577%2C%20-71.6118577%2C%20148.0%5D%2C%20%5B12.9489339%2C%2077.5968273%2C%2037.0%5D%2C%20%5B13.02383%2C%2077.5529215%2C%203.0%5D%5D%2C%0A%20%20%20%20%20%20%20%20%20%20%20%20%20%20%20%20%7B%22blur%22%3A%2015%2C%20%22maxZoom%22%3A%2018%2C%20%22minOpacity%22%3A%200.5%2C%20%22radius%22%3A%2015%2C%20%22zoom%22%3A%2020%7D%0A%20%20%20%20%20%20%20%20%20%20%20%20%29.addTo%28map_7ed7ec28ba174e95b86571b60b9b069b%29%3B%0A%20%20%20%20%20%20%20%20%0A%3C/script%3E onload=\"this.contentDocument.open();this.contentDocument.write(    decodeURIComponent(this.getAttribute('data-html')));this.contentDocument.close();\" allowfullscreen webkitallowfullscreen mozallowfullscreen></iframe></div></div>"
            ],
            "text/plain": [
              "<folium.folium.Map at 0x21f80d33948>"
            ]
          },
          "metadata": {
            "tags": []
          },
          "execution_count": 64
        }
      ]
    },
    {
      "cell_type": "code",
      "metadata": {
        "id": "-OvtCiJeok03"
      },
      "source": [
        "## Automating HeatMaps based on zones\n",
        "\n",
        "def Heatmap_zone(zone):\n",
        "    filter=df['cuisines']==zone\n",
        "    df2=df[filter]\n",
        "    df_zone=df2.groupby('location')['url'].count().reset_index()\n",
        "    df_zone.columns=['name','count']\n",
        "    df_zone=df_zone.merge(locations,on='name',how='left').dropna()\n",
        "    HeatMap(df_zone[['lat','lon','count']],zoom=20,radius=15).add_to(basemap)\n",
        "    return basemap\n"
      ],
      "execution_count": null,
      "outputs": []
    },
    {
      "cell_type": "code",
      "metadata": {
        "id": "PTJFA9vkok03",
        "outputId": "aab0e3d5-33d7-453e-aef2-a7ba3d072169"
      },
      "source": [
        "df['cuisines'].unique()"
      ],
      "execution_count": null,
      "outputs": [
        {
          "output_type": "execute_result",
          "data": {
            "text/plain": [
              "array(['North Indian, Mughlai, Chinese', 'Chinese, North Indian, Thai',\n",
              "       'Cafe, Mexican, Italian', ..., 'Tibetan, Nepalese',\n",
              "       'North Indian, Street Food, Biryani',\n",
              "       'North Indian, Chinese, Arabian, Momos'], dtype=object)"
            ]
          },
          "metadata": {
            "tags": []
          },
          "execution_count": 68
        }
      ]
    },
    {
      "cell_type": "code",
      "metadata": {
        "id": "u2gn2Mmeok03",
        "outputId": "80874eb5-6670-4802-d377-223d2600f703"
      },
      "source": [
        "Heatmap_zone('Chinese')\n"
      ],
      "execution_count": null,
      "outputs": [
        {
          "output_type": "execute_result",
          "data": {
            "text/html": [
              "<div style=\"width:100%;\"><div style=\"position:relative;width:100%;height:0;padding-bottom:60%;\"><span style=\"color:#565656\">Make this Notebook Trusted to load map: File -> Trust Notebook</span><iframe src=\"about:blank\" style=\"position:absolute;width:100%;height:100%;left:0;top:0;border:none !important;\" data-html=%3C%21DOCTYPE%20html%3E%0A%3Chead%3E%20%20%20%20%0A%20%20%20%20%3Cmeta%20http-equiv%3D%22content-type%22%20content%3D%22text/html%3B%20charset%3DUTF-8%22%20/%3E%0A%20%20%20%20%0A%20%20%20%20%20%20%20%20%3Cscript%3E%0A%20%20%20%20%20%20%20%20%20%20%20%20L_NO_TOUCH%20%3D%20false%3B%0A%20%20%20%20%20%20%20%20%20%20%20%20L_DISABLE_3D%20%3D%20false%3B%0A%20%20%20%20%20%20%20%20%3C/script%3E%0A%20%20%20%20%0A%20%20%20%20%3Cstyle%3Ehtml%2C%20body%20%7Bwidth%3A%20100%25%3Bheight%3A%20100%25%3Bmargin%3A%200%3Bpadding%3A%200%3B%7D%3C/style%3E%0A%20%20%20%20%3Cstyle%3E%23map%20%7Bposition%3Aabsolute%3Btop%3A0%3Bbottom%3A0%3Bright%3A0%3Bleft%3A0%3B%7D%3C/style%3E%0A%20%20%20%20%3Cscript%20src%3D%22https%3A//cdn.jsdelivr.net/npm/leaflet%401.6.0/dist/leaflet.js%22%3E%3C/script%3E%0A%20%20%20%20%3Cscript%20src%3D%22https%3A//code.jquery.com/jquery-1.12.4.min.js%22%3E%3C/script%3E%0A%20%20%20%20%3Cscript%20src%3D%22https%3A//maxcdn.bootstrapcdn.com/bootstrap/3.2.0/js/bootstrap.min.js%22%3E%3C/script%3E%0A%20%20%20%20%3Cscript%20src%3D%22https%3A//cdnjs.cloudflare.com/ajax/libs/Leaflet.awesome-markers/2.0.2/leaflet.awesome-markers.js%22%3E%3C/script%3E%0A%20%20%20%20%3Clink%20rel%3D%22stylesheet%22%20href%3D%22https%3A//cdn.jsdelivr.net/npm/leaflet%401.6.0/dist/leaflet.css%22/%3E%0A%20%20%20%20%3Clink%20rel%3D%22stylesheet%22%20href%3D%22https%3A//maxcdn.bootstrapcdn.com/bootstrap/3.2.0/css/bootstrap.min.css%22/%3E%0A%20%20%20%20%3Clink%20rel%3D%22stylesheet%22%20href%3D%22https%3A//maxcdn.bootstrapcdn.com/bootstrap/3.2.0/css/bootstrap-theme.min.css%22/%3E%0A%20%20%20%20%3Clink%20rel%3D%22stylesheet%22%20href%3D%22https%3A//maxcdn.bootstrapcdn.com/font-awesome/4.6.3/css/font-awesome.min.css%22/%3E%0A%20%20%20%20%3Clink%20rel%3D%22stylesheet%22%20href%3D%22https%3A//cdnjs.cloudflare.com/ajax/libs/Leaflet.awesome-markers/2.0.2/leaflet.awesome-markers.css%22/%3E%0A%20%20%20%20%3Clink%20rel%3D%22stylesheet%22%20href%3D%22https%3A//cdn.jsdelivr.net/gh/python-visualization/folium/folium/templates/leaflet.awesome.rotate.min.css%22/%3E%0A%20%20%20%20%0A%20%20%20%20%20%20%20%20%20%20%20%20%3Cmeta%20name%3D%22viewport%22%20content%3D%22width%3Ddevice-width%2C%0A%20%20%20%20%20%20%20%20%20%20%20%20%20%20%20%20initial-scale%3D1.0%2C%20maximum-scale%3D1.0%2C%20user-scalable%3Dno%22%20/%3E%0A%20%20%20%20%20%20%20%20%20%20%20%20%3Cstyle%3E%0A%20%20%20%20%20%20%20%20%20%20%20%20%20%20%20%20%23map_7ed7ec28ba174e95b86571b60b9b069b%20%7B%0A%20%20%20%20%20%20%20%20%20%20%20%20%20%20%20%20%20%20%20%20position%3A%20relative%3B%0A%20%20%20%20%20%20%20%20%20%20%20%20%20%20%20%20%20%20%20%20width%3A%20100.0%25%3B%0A%20%20%20%20%20%20%20%20%20%20%20%20%20%20%20%20%20%20%20%20height%3A%20100.0%25%3B%0A%20%20%20%20%20%20%20%20%20%20%20%20%20%20%20%20%20%20%20%20left%3A%200.0%25%3B%0A%20%20%20%20%20%20%20%20%20%20%20%20%20%20%20%20%20%20%20%20top%3A%200.0%25%3B%0A%20%20%20%20%20%20%20%20%20%20%20%20%20%20%20%20%7D%0A%20%20%20%20%20%20%20%20%20%20%20%20%3C/style%3E%0A%20%20%20%20%20%20%20%20%0A%20%20%20%20%3Cscript%20src%3D%22https%3A//cdn.jsdelivr.net/gh/python-visualization/folium%40master/folium/templates/leaflet_heat.min.js%22%3E%3C/script%3E%0A%20%20%20%20%3Cscript%20src%3D%22https%3A//cdnjs.cloudflare.com/ajax/libs/leaflet.markercluster/1.1.0/leaflet.markercluster.js%22%3E%3C/script%3E%0A%20%20%20%20%3Clink%20rel%3D%22stylesheet%22%20href%3D%22https%3A//cdnjs.cloudflare.com/ajax/libs/leaflet.markercluster/1.1.0/MarkerCluster.css%22/%3E%0A%20%20%20%20%3Clink%20rel%3D%22stylesheet%22%20href%3D%22https%3A//cdnjs.cloudflare.com/ajax/libs/leaflet.markercluster/1.1.0/MarkerCluster.Default.css%22/%3E%0A%3C/head%3E%0A%3Cbody%3E%20%20%20%20%0A%20%20%20%20%0A%20%20%20%20%20%20%20%20%20%20%20%20%3Cdiv%20class%3D%22folium-map%22%20id%3D%22map_7ed7ec28ba174e95b86571b60b9b069b%22%20%3E%3C/div%3E%0A%20%20%20%20%20%20%20%20%0A%3C/body%3E%0A%3Cscript%3E%20%20%20%20%0A%20%20%20%20%0A%20%20%20%20%20%20%20%20%20%20%20%20var%20map_7ed7ec28ba174e95b86571b60b9b069b%20%3D%20L.map%28%0A%20%20%20%20%20%20%20%20%20%20%20%20%20%20%20%20%22map_7ed7ec28ba174e95b86571b60b9b069b%22%2C%0A%20%20%20%20%20%20%20%20%20%20%20%20%20%20%20%20%7B%0A%20%20%20%20%20%20%20%20%20%20%20%20%20%20%20%20%20%20%20%20center%3A%20%5B12.97%2C%2077.59%5D%2C%0A%20%20%20%20%20%20%20%20%20%20%20%20%20%20%20%20%20%20%20%20crs%3A%20L.CRS.EPSG3857%2C%0A%20%20%20%20%20%20%20%20%20%20%20%20%20%20%20%20%20%20%20%20zoom%3A%2012%2C%0A%20%20%20%20%20%20%20%20%20%20%20%20%20%20%20%20%20%20%20%20zoomControl%3A%20true%2C%0A%20%20%20%20%20%20%20%20%20%20%20%20%20%20%20%20%20%20%20%20preferCanvas%3A%20false%2C%0A%20%20%20%20%20%20%20%20%20%20%20%20%20%20%20%20%7D%0A%20%20%20%20%20%20%20%20%20%20%20%20%29%3B%0A%0A%20%20%20%20%20%20%20%20%20%20%20%20%0A%0A%20%20%20%20%20%20%20%20%0A%20%20%20%20%0A%20%20%20%20%20%20%20%20%20%20%20%20var%20tile_layer_847efbd998694336b14d774a66fd7c1e%20%3D%20L.tileLayer%28%0A%20%20%20%20%20%20%20%20%20%20%20%20%20%20%20%20%22https%3A//%7Bs%7D.tile.openstreetmap.org/%7Bz%7D/%7Bx%7D/%7By%7D.png%22%2C%0A%20%20%20%20%20%20%20%20%20%20%20%20%20%20%20%20%7B%22attribution%22%3A%20%22Data%20by%20%5Cu0026copy%3B%20%5Cu003ca%20href%3D%5C%22http%3A//openstreetmap.org%5C%22%5Cu003eOpenStreetMap%5Cu003c/a%5Cu003e%2C%20under%20%5Cu003ca%20href%3D%5C%22http%3A//www.openstreetmap.org/copyright%5C%22%5Cu003eODbL%5Cu003c/a%5Cu003e.%22%2C%20%22detectRetina%22%3A%20false%2C%20%22maxNativeZoom%22%3A%2018%2C%20%22maxZoom%22%3A%2018%2C%20%22minZoom%22%3A%200%2C%20%22noWrap%22%3A%20false%2C%20%22opacity%22%3A%201%2C%20%22subdomains%22%3A%20%22abc%22%2C%20%22tms%22%3A%20false%7D%0A%20%20%20%20%20%20%20%20%20%20%20%20%29.addTo%28map_7ed7ec28ba174e95b86571b60b9b069b%29%3B%0A%20%20%20%20%20%20%20%20%0A%20%20%20%20%0A%20%20%20%20%20%20%20%20%20%20%20%20var%20heat_map_9c265c03e9364ae9b24d3d4138888842%20%3D%20L.heatLayer%28%0A%20%20%20%20%20%20%20%20%20%20%20%20%20%20%20%20%5B%5B45.95485055%2C%20-112.49659530324134%2C%205124.0%5D%2C%20%5B18.1475%2C%2041.538889%2C%202523.0%5D%2C%20%5B13.00540865%2C%2074.79460685941484%2C%202504.0%5D%2C%20%5B12.2655944%2C%2076.6465404%2C%202235.0%5D%2C%20%5B44.3730577%2C%20-71.6118577%2C%202144.0%5D%2C%20%5B12.9732913%2C%2077.6404672%2C%202083.0%5D%2C%20%5B27.64392675%2C%2083.05280519687284%2C%201926.0%5D%2C%20%5B12.9552572%2C%2077.6984163%2C%201846.0%5D%2C%20%5B12.887979%2C%2077.5970812%2C%201630.0%5D%2C%20%5B12.93577245%2C%2077.66676103753434%2C%201286.0%5D%2C%20%5B-6.2659285%2C%20106.7842561%2C%201258.0%5D%2C%20%5B14.5395813%2C%20121.070371%2C%201238.0%5D%2C%20%5B40.28745%2C%20-76.964526%2C%201218.0%5D%2C%20%5B13.0078418%2C%2074.7963208%2C%201181.0%5D%2C%20%5B12.9400321%2C%2077.6203272%2C%201156.0%5D%2C%20%5B12.9242381%2C%2077.6289059%2C%201065.0%5D%2C%20%5B12.9778793%2C%2077.6246697%2C%201023.0%5D%2C%20%5B12.93433385%2C%2077.63040639553275%2C%201017.0%5D%2C%20%5B17.9895618%2C%2079.5967057%2C%20918.0%5D%2C%20%5B15.8876779%2C%2075.7046777%2C%20906.0%5D%2C%20%5B13.0221416%2C%2077.6403368%2C%20853.0%5D%2C%20%5B50.7721586%2C%200.09772783661369303%2C%20812.0%5D%2C%20%5B12.996845%2C%2077.6130165%2C%20727.0%5D%2C%20%5B13.0027353%2C%2077.5703253%2C%20725.0%5D%2C%20%5B12.9417261%2C%2077.5755021%2C%20684.0%5D%2C%20%5B38.7385916%2C%20-77.5275749%2C%20675.0%5D%2C%20%5B13.0141618%2C%2077.6518539%2C%20664.0%5D%2C%20%5B33.5935063%2C%20-79.0345627%2C%20658.0%5D%2C%20%5B13.0346384%2C%2077.5681733%2C%20649.0%5D%2C%20%5B13.0093455%2C%2077.6377094%2C%20648.0%5D%2C%20%5B12.9882338%2C%2077.554883%2C%20591.0%5D%2C%20%5B51.373656%2C%20-0.1042366%2C%20569.0%5D%2C%20%5B40.7652844%2C%20-76.373824%2C%20529.0%5D%2C%20%5B12.9575547%2C%2077.5979099%2C%20511.0%5D%2C%20%5B18.5322493%2C%2073.8499601124847%2C%20499.0%5D%2C%20%5B12.9624669%2C%2077.6381958%2C%20496.0%5D%2C%20%5B31.89376%2C%20-88.066644%2C%20491.0%5D%2C%20%5B-8.9189606%2C%2033.4588989%2C%20446.0%5D%2C%20%5B12.945245%2C%2077.6269144%2C%20439.0%5D%2C%20%5B51.5153824%2C%20-0.0719631%2C%20370.0%5D%2C%20%5B51.5227651%2C%20-0.7354457%2C%20352.0%5D%2C%20%5B12.9417812%2C%2077.6160146%2C%20320.0%5D%2C%20%5B12.988721250000001%2C%2077.58516877601824%2C%20295.0%5D%2C%20%5B12.9678074%2C%2077.6568367%2C%20272.0%5D%2C%20%5B12.9489339%2C%2077.5968273%2C%20246.0%5D%2C%20%5B12.9089453%2C%2077.6239038%2C%20238.0%5D%2C%20%5B12.9271867%2C%2077.6266252%2C%20216.0%5D%2C%20%5B12.9081487%2C%2077.5553179%2C%20195.0%5D%2C%20%5B12.973936%2C%2077.6509982%2C%20194.0%5D%2C%20%5B12.9932739%2C%2077.5388099%2C%20191.0%5D%2C%20%5B13.2227%2C%2078.5541977%2C%20187.0%5D%2C%20%5B12.9931876%2C%2077.5753419%2C%20165.0%5D%2C%20%5B13.0258087%2C%2077.6305067%2C%20161.0%5D%2C%20%5B1.2847055%2C%20103.84320655721689%2C%20155.0%5D%2C%20%5B13.0358698%2C%2077.6323597%2C%20153.0%5D%2C%20%5B34.977289%2C%20-78.974578%2C%20151.0%5D%2C%20%5B22.3146438%2C%2073.1597756%2C%20139.0%5D%2C%20%5B39.76880625%2C%20-86.15345077251979%2C%20126.0%5D%2C%20%5B13.02383%2C%2077.5529215%2C%20119.0%5D%2C%20%5B12.9414662%2C%2077.7470942%2C%20117.0%5D%2C%20%5B12.967576%2C%2077.7150877%2C%20113.0%5D%2C%20%5B13.0646907%2C%2077.49626895712257%2C%20107.0%5D%2C%20%5B12.9243509%2C%2077.6255562%2C%20102.0%5D%2C%20%5B12.773175%2C%2077.7831871%2C%20102.0%5D%2C%20%5B12.9846713%2C%2077.6790908%2C%20101.0%5D%2C%20%5B17.2510682%2C%2080.1651978%2C%2090.0%5D%2C%20%5B22.8359967%2C%2069.3405962%2C%2080.0%5D%2C%20%5B13.0227204%2C%2077.595715%2C%2080.0%5D%2C%20%5B23.1485712%2C%2081.6048241%2C%2076.0%5D%2C%20%5B15.8782951%2C%2074.5084834%2C%2063.0%5D%2C%20%5B13.0621474%2C%2077.58006135480495%2C%2053.0%5D%2C%20%5B13.2923988%2C%2077.7519261%2C%2048.0%5D%2C%20%5B13.0215466%2C%2077.7640586%2C%2044.0%5D%2C%20%5B11.9917786%2C%2076.5066292%2C%2038.0%5D%2C%20%5B12.945048%2C%2077.263004%2C%2034.0%5D%2C%20%5B12.957998%2C%2077.6037312%2C%2027.0%5D%2C%20%5B38.7801076%2C%20-121.5056438%2C%2027.0%5D%2C%20%5B13.194416%2C%2078.7011301%2C%2022.0%5D%2C%20%5B12.3872141%2C%2076.6669626%2C%2022.0%5D%2C%20%5B12.5607431%2C%2077.4258375%2C%2019.0%5D%2C%20%5B13.007516%2C%2077.695935%2C%2018.0%5D%2C%20%5B12.9055682%2C%2077.5455438%2C%2017.0%5D%2C%20%5B13.0217151%2C%2077.7660547%2C%2014.0%5D%2C%20%5B13.0382184%2C%2077.5919%2C%2014.0%5D%2C%20%5B12.9176571%2C%2077.4837568%2C%209.0%5D%2C%20%5B12.9546741%2C%2077.5121724%2C%209.0%5D%2C%20%5B13.0101286%2C%2077.5548006%2C%208.0%5D%2C%20%5B13.1006982%2C%2077.5963454%2C%206.0%5D%2C%20%5B13.0011289%2C%2077.6325617%2C%206.0%5D%2C%20%5B13.0784743%2C%2077.6068938%2C%203.0%5D%2C%20%5B12.9274413%2C%2077.5155224%2C%202.0%5D%2C%20%5B13.0329419%2C%2077.5273253%2C%201.0%5D%5D%2C%0A%20%20%20%20%20%20%20%20%20%20%20%20%20%20%20%20%7B%22blur%22%3A%2015%2C%20%22maxZoom%22%3A%2018%2C%20%22minOpacity%22%3A%200.5%2C%20%22radius%22%3A%2025%2C%20%22zoom%22%3A%2020%7D%0A%20%20%20%20%20%20%20%20%20%20%20%20%29.addTo%28map_7ed7ec28ba174e95b86571b60b9b069b%29%3B%0A%20%20%20%20%20%20%20%20%0A%20%20%20%20%0A%20%20%20%20%20%20%20%20%20%20%20%20var%20fast_marker_cluster_67abcde485964085baf009d143c3d9de%20%3D%20%28function%28%29%7B%0A%20%20%20%20%20%20%20%20%20%20%20%20%20%20%20%20%0A%20%20%20%20%20%20%20%20%20%20%20%20%20%20%20%20var%20callback%20%3D%20function%20%28row%29%20%7B%0A%20%20%20%20%20%20%20%20%20%20%20%20%20%20%20%20%20%20%20%20var%20icon%20%3D%20L.AwesomeMarkers.icon%28%29%3B%0A%20%20%20%20%20%20%20%20%20%20%20%20%20%20%20%20%20%20%20%20var%20marker%20%3D%20L.marker%28new%20L.LatLng%28row%5B0%5D%2C%20row%5B1%5D%29%29%3B%0A%20%20%20%20%20%20%20%20%20%20%20%20%20%20%20%20%20%20%20%20marker.setIcon%28icon%29%3B%0A%20%20%20%20%20%20%20%20%20%20%20%20%20%20%20%20%20%20%20%20return%20marker%3B%0A%20%20%20%20%20%20%20%20%20%20%20%20%20%20%20%20%7D%3B%0A%0A%20%20%20%20%20%20%20%20%20%20%20%20%20%20%20%20var%20data%20%3D%20%5B%5B45.95485055%2C%20-112.49659530324134%2C%205124.0%5D%2C%20%5B18.1475%2C%2041.538889%2C%202523.0%5D%2C%20%5B13.00540865%2C%2074.79460685941484%2C%202504.0%5D%2C%20%5B12.2655944%2C%2076.6465404%2C%202235.0%5D%2C%20%5B44.3730577%2C%20-71.6118577%2C%202144.0%5D%2C%20%5B12.9732913%2C%2077.6404672%2C%202083.0%5D%2C%20%5B27.64392675%2C%2083.05280519687284%2C%201926.0%5D%2C%20%5B12.9552572%2C%2077.6984163%2C%201846.0%5D%2C%20%5B12.887979%2C%2077.5970812%2C%201630.0%5D%2C%20%5B12.93577245%2C%2077.66676103753434%2C%201286.0%5D%2C%20%5B-6.2659285%2C%20106.7842561%2C%201258.0%5D%2C%20%5B14.5395813%2C%20121.070371%2C%201238.0%5D%2C%20%5B40.28745%2C%20-76.964526%2C%201218.0%5D%2C%20%5B13.0078418%2C%2074.7963208%2C%201181.0%5D%2C%20%5B12.9400321%2C%2077.6203272%2C%201156.0%5D%2C%20%5B12.9242381%2C%2077.6289059%2C%201065.0%5D%2C%20%5B12.9778793%2C%2077.6246697%2C%201023.0%5D%2C%20%5B12.93433385%2C%2077.63040639553275%2C%201017.0%5D%2C%20%5B17.9895618%2C%2079.5967057%2C%20918.0%5D%2C%20%5B15.8876779%2C%2075.7046777%2C%20906.0%5D%2C%20%5B13.0221416%2C%2077.6403368%2C%20853.0%5D%2C%20%5B50.7721586%2C%200.09772783661369303%2C%20812.0%5D%2C%20%5B12.996845%2C%2077.6130165%2C%20727.0%5D%2C%20%5B13.0027353%2C%2077.5703253%2C%20725.0%5D%2C%20%5B12.9417261%2C%2077.5755021%2C%20684.0%5D%2C%20%5B38.7385916%2C%20-77.5275749%2C%20675.0%5D%2C%20%5B13.0141618%2C%2077.6518539%2C%20664.0%5D%2C%20%5B33.5935063%2C%20-79.0345627%2C%20658.0%5D%2C%20%5B13.0346384%2C%2077.5681733%2C%20649.0%5D%2C%20%5B13.0093455%2C%2077.6377094%2C%20648.0%5D%2C%20%5B12.9882338%2C%2077.554883%2C%20591.0%5D%2C%20%5B51.373656%2C%20-0.1042366%2C%20569.0%5D%2C%20%5B40.7652844%2C%20-76.373824%2C%20529.0%5D%2C%20%5B12.9575547%2C%2077.5979099%2C%20511.0%5D%2C%20%5B18.5322493%2C%2073.8499601124847%2C%20499.0%5D%2C%20%5B12.9624669%2C%2077.6381958%2C%20496.0%5D%2C%20%5B31.89376%2C%20-88.066644%2C%20491.0%5D%2C%20%5B-8.9189606%2C%2033.4588989%2C%20446.0%5D%2C%20%5B12.945245%2C%2077.6269144%2C%20439.0%5D%2C%20%5B51.5153824%2C%20-0.0719631%2C%20370.0%5D%2C%20%5B51.5227651%2C%20-0.7354457%2C%20352.0%5D%2C%20%5B12.9417812%2C%2077.6160146%2C%20320.0%5D%2C%20%5B12.988721250000001%2C%2077.58516877601824%2C%20295.0%5D%2C%20%5B12.9678074%2C%2077.6568367%2C%20272.0%5D%2C%20%5B12.9489339%2C%2077.5968273%2C%20246.0%5D%2C%20%5B12.9089453%2C%2077.6239038%2C%20238.0%5D%2C%20%5B12.9271867%2C%2077.6266252%2C%20216.0%5D%2C%20%5B12.9081487%2C%2077.5553179%2C%20195.0%5D%2C%20%5B12.973936%2C%2077.6509982%2C%20194.0%5D%2C%20%5B12.9932739%2C%2077.5388099%2C%20191.0%5D%2C%20%5B13.2227%2C%2078.5541977%2C%20187.0%5D%2C%20%5B12.9931876%2C%2077.5753419%2C%20165.0%5D%2C%20%5B13.0258087%2C%2077.6305067%2C%20161.0%5D%2C%20%5B1.2847055%2C%20103.84320655721689%2C%20155.0%5D%2C%20%5B13.0358698%2C%2077.6323597%2C%20153.0%5D%2C%20%5B34.977289%2C%20-78.974578%2C%20151.0%5D%2C%20%5B22.3146438%2C%2073.1597756%2C%20139.0%5D%2C%20%5B39.76880625%2C%20-86.15345077251979%2C%20126.0%5D%2C%20%5B13.02383%2C%2077.5529215%2C%20119.0%5D%2C%20%5B12.9414662%2C%2077.7470942%2C%20117.0%5D%2C%20%5B12.967576%2C%2077.7150877%2C%20113.0%5D%2C%20%5B13.0646907%2C%2077.49626895712257%2C%20107.0%5D%2C%20%5B12.9243509%2C%2077.6255562%2C%20102.0%5D%2C%20%5B12.773175%2C%2077.7831871%2C%20102.0%5D%2C%20%5B12.9846713%2C%2077.6790908%2C%20101.0%5D%2C%20%5B17.2510682%2C%2080.1651978%2C%2090.0%5D%2C%20%5B22.8359967%2C%2069.3405962%2C%2080.0%5D%2C%20%5B13.0227204%2C%2077.595715%2C%2080.0%5D%2C%20%5B23.1485712%2C%2081.6048241%2C%2076.0%5D%2C%20%5B15.8782951%2C%2074.5084834%2C%2063.0%5D%2C%20%5B13.0621474%2C%2077.58006135480495%2C%2053.0%5D%2C%20%5B13.2923988%2C%2077.7519261%2C%2048.0%5D%2C%20%5B13.0215466%2C%2077.7640586%2C%2044.0%5D%2C%20%5B11.9917786%2C%2076.5066292%2C%2038.0%5D%2C%20%5B12.945048%2C%2077.263004%2C%2034.0%5D%2C%20%5B12.957998%2C%2077.6037312%2C%2027.0%5D%2C%20%5B38.7801076%2C%20-121.5056438%2C%2027.0%5D%2C%20%5B13.194416%2C%2078.7011301%2C%2022.0%5D%2C%20%5B12.3872141%2C%2076.6669626%2C%2022.0%5D%2C%20%5B12.5607431%2C%2077.4258375%2C%2019.0%5D%2C%20%5B13.007516%2C%2077.695935%2C%2018.0%5D%2C%20%5B12.9055682%2C%2077.5455438%2C%2017.0%5D%2C%20%5B13.0217151%2C%2077.7660547%2C%2014.0%5D%2C%20%5B13.0382184%2C%2077.5919%2C%2014.0%5D%2C%20%5B12.9176571%2C%2077.4837568%2C%209.0%5D%2C%20%5B12.9546741%2C%2077.5121724%2C%209.0%5D%2C%20%5B13.0101286%2C%2077.5548006%2C%208.0%5D%2C%20%5B13.1006982%2C%2077.5963454%2C%206.0%5D%2C%20%5B13.0011289%2C%2077.6325617%2C%206.0%5D%2C%20%5B13.0784743%2C%2077.6068938%2C%203.0%5D%2C%20%5B12.9274413%2C%2077.5155224%2C%202.0%5D%2C%20%5B13.0329419%2C%2077.5273253%2C%201.0%5D%5D%3B%0A%20%20%20%20%20%20%20%20%20%20%20%20%20%20%20%20var%20cluster%20%3D%20L.markerClusterGroup%28%7B%22zoom%22%3A%2020%7D%29%3B%0A%0A%20%20%20%20%20%20%20%20%20%20%20%20%20%20%20%20for%20%28var%20i%20%3D%200%3B%20i%20%3C%20data.length%3B%20i%2B%2B%29%20%7B%0A%20%20%20%20%20%20%20%20%20%20%20%20%20%20%20%20%20%20%20%20var%20row%20%3D%20data%5Bi%5D%3B%0A%20%20%20%20%20%20%20%20%20%20%20%20%20%20%20%20%20%20%20%20var%20marker%20%3D%20callback%28row%29%3B%0A%20%20%20%20%20%20%20%20%20%20%20%20%20%20%20%20%20%20%20%20marker.addTo%28cluster%29%3B%0A%20%20%20%20%20%20%20%20%20%20%20%20%20%20%20%20%7D%0A%0A%20%20%20%20%20%20%20%20%20%20%20%20%20%20%20%20cluster.addTo%28map_7ed7ec28ba174e95b86571b60b9b069b%29%3B%0A%20%20%20%20%20%20%20%20%20%20%20%20%20%20%20%20return%20cluster%3B%0A%20%20%20%20%20%20%20%20%20%20%20%20%7D%29%28%29%3B%0A%20%20%20%20%20%20%20%20%0A%20%20%20%20%0A%20%20%20%20%20%20%20%20%20%20%20%20var%20fast_marker_cluster_866a2a169704471caed40aae192a79af%20%3D%20%28function%28%29%7B%0A%20%20%20%20%20%20%20%20%20%20%20%20%20%20%20%20%0A%20%20%20%20%20%20%20%20%20%20%20%20%20%20%20%20var%20callback%20%3D%20function%20%28row%29%20%7B%0A%20%20%20%20%20%20%20%20%20%20%20%20%20%20%20%20%20%20%20%20var%20icon%20%3D%20L.AwesomeMarkers.icon%28%29%3B%0A%20%20%20%20%20%20%20%20%20%20%20%20%20%20%20%20%20%20%20%20var%20marker%20%3D%20L.marker%28new%20L.LatLng%28row%5B0%5D%2C%20row%5B1%5D%29%29%3B%0A%20%20%20%20%20%20%20%20%20%20%20%20%20%20%20%20%20%20%20%20marker.setIcon%28icon%29%3B%0A%20%20%20%20%20%20%20%20%20%20%20%20%20%20%20%20%20%20%20%20return%20marker%3B%0A%20%20%20%20%20%20%20%20%20%20%20%20%20%20%20%20%7D%3B%0A%0A%20%20%20%20%20%20%20%20%20%20%20%20%20%20%20%20var%20data%20%3D%20%5B%5B45.95485055%2C%20-112.49659530324134%2C%205124.0%5D%2C%20%5B18.1475%2C%2041.538889%2C%202523.0%5D%2C%20%5B13.00540865%2C%2074.79460685941484%2C%202504.0%5D%2C%20%5B12.2655944%2C%2076.6465404%2C%202235.0%5D%2C%20%5B44.3730577%2C%20-71.6118577%2C%202144.0%5D%2C%20%5B12.9732913%2C%2077.6404672%2C%202083.0%5D%2C%20%5B27.64392675%2C%2083.05280519687284%2C%201926.0%5D%2C%20%5B12.9552572%2C%2077.6984163%2C%201846.0%5D%2C%20%5B12.887979%2C%2077.5970812%2C%201630.0%5D%2C%20%5B12.93577245%2C%2077.66676103753434%2C%201286.0%5D%2C%20%5B-6.2659285%2C%20106.7842561%2C%201258.0%5D%2C%20%5B14.5395813%2C%20121.070371%2C%201238.0%5D%2C%20%5B40.28745%2C%20-76.964526%2C%201218.0%5D%2C%20%5B13.0078418%2C%2074.7963208%2C%201181.0%5D%2C%20%5B12.9400321%2C%2077.6203272%2C%201156.0%5D%2C%20%5B12.9242381%2C%2077.6289059%2C%201065.0%5D%2C%20%5B12.9778793%2C%2077.6246697%2C%201023.0%5D%2C%20%5B12.93433385%2C%2077.63040639553275%2C%201017.0%5D%2C%20%5B17.9895618%2C%2079.5967057%2C%20918.0%5D%2C%20%5B15.8876779%2C%2075.7046777%2C%20906.0%5D%2C%20%5B13.0221416%2C%2077.6403368%2C%20853.0%5D%2C%20%5B50.7721586%2C%200.09772783661369303%2C%20812.0%5D%2C%20%5B12.996845%2C%2077.6130165%2C%20727.0%5D%2C%20%5B13.0027353%2C%2077.5703253%2C%20725.0%5D%2C%20%5B12.9417261%2C%2077.5755021%2C%20684.0%5D%2C%20%5B38.7385916%2C%20-77.5275749%2C%20675.0%5D%2C%20%5B13.0141618%2C%2077.6518539%2C%20664.0%5D%2C%20%5B33.5935063%2C%20-79.0345627%2C%20658.0%5D%2C%20%5B13.0346384%2C%2077.5681733%2C%20649.0%5D%2C%20%5B13.0093455%2C%2077.6377094%2C%20648.0%5D%2C%20%5B12.9882338%2C%2077.554883%2C%20591.0%5D%2C%20%5B51.373656%2C%20-0.1042366%2C%20569.0%5D%2C%20%5B40.7652844%2C%20-76.373824%2C%20529.0%5D%2C%20%5B12.9575547%2C%2077.5979099%2C%20511.0%5D%2C%20%5B18.5322493%2C%2073.8499601124847%2C%20499.0%5D%2C%20%5B12.9624669%2C%2077.6381958%2C%20496.0%5D%2C%20%5B31.89376%2C%20-88.066644%2C%20491.0%5D%2C%20%5B-8.9189606%2C%2033.4588989%2C%20446.0%5D%2C%20%5B12.945245%2C%2077.6269144%2C%20439.0%5D%2C%20%5B51.5153824%2C%20-0.0719631%2C%20370.0%5D%2C%20%5B51.5227651%2C%20-0.7354457%2C%20352.0%5D%2C%20%5B12.9417812%2C%2077.6160146%2C%20320.0%5D%2C%20%5B12.988721250000001%2C%2077.58516877601824%2C%20295.0%5D%2C%20%5B12.9678074%2C%2077.6568367%2C%20272.0%5D%2C%20%5B12.9489339%2C%2077.5968273%2C%20246.0%5D%2C%20%5B12.9089453%2C%2077.6239038%2C%20238.0%5D%2C%20%5B12.9271867%2C%2077.6266252%2C%20216.0%5D%2C%20%5B12.9081487%2C%2077.5553179%2C%20195.0%5D%2C%20%5B12.973936%2C%2077.6509982%2C%20194.0%5D%2C%20%5B12.9932739%2C%2077.5388099%2C%20191.0%5D%2C%20%5B13.2227%2C%2078.5541977%2C%20187.0%5D%2C%20%5B12.9931876%2C%2077.5753419%2C%20165.0%5D%2C%20%5B13.0258087%2C%2077.6305067%2C%20161.0%5D%2C%20%5B1.2847055%2C%20103.84320655721689%2C%20155.0%5D%2C%20%5B13.0358698%2C%2077.6323597%2C%20153.0%5D%2C%20%5B34.977289%2C%20-78.974578%2C%20151.0%5D%2C%20%5B22.3146438%2C%2073.1597756%2C%20139.0%5D%2C%20%5B39.76880625%2C%20-86.15345077251979%2C%20126.0%5D%2C%20%5B13.02383%2C%2077.5529215%2C%20119.0%5D%2C%20%5B12.9414662%2C%2077.7470942%2C%20117.0%5D%2C%20%5B12.967576%2C%2077.7150877%2C%20113.0%5D%2C%20%5B13.0646907%2C%2077.49626895712257%2C%20107.0%5D%2C%20%5B12.9243509%2C%2077.6255562%2C%20102.0%5D%2C%20%5B12.773175%2C%2077.7831871%2C%20102.0%5D%2C%20%5B12.9846713%2C%2077.6790908%2C%20101.0%5D%2C%20%5B17.2510682%2C%2080.1651978%2C%2090.0%5D%2C%20%5B22.8359967%2C%2069.3405962%2C%2080.0%5D%2C%20%5B13.0227204%2C%2077.595715%2C%2080.0%5D%2C%20%5B23.1485712%2C%2081.6048241%2C%2076.0%5D%2C%20%5B15.8782951%2C%2074.5084834%2C%2063.0%5D%2C%20%5B13.0621474%2C%2077.58006135480495%2C%2053.0%5D%2C%20%5B13.2923988%2C%2077.7519261%2C%2048.0%5D%2C%20%5B13.0215466%2C%2077.7640586%2C%2044.0%5D%2C%20%5B11.9917786%2C%2076.5066292%2C%2038.0%5D%2C%20%5B12.945048%2C%2077.263004%2C%2034.0%5D%2C%20%5B12.957998%2C%2077.6037312%2C%2027.0%5D%2C%20%5B38.7801076%2C%20-121.5056438%2C%2027.0%5D%2C%20%5B13.194416%2C%2078.7011301%2C%2022.0%5D%2C%20%5B12.3872141%2C%2076.6669626%2C%2022.0%5D%2C%20%5B12.5607431%2C%2077.4258375%2C%2019.0%5D%2C%20%5B13.007516%2C%2077.695935%2C%2018.0%5D%2C%20%5B12.9055682%2C%2077.5455438%2C%2017.0%5D%2C%20%5B13.0217151%2C%2077.7660547%2C%2014.0%5D%2C%20%5B13.0382184%2C%2077.5919%2C%2014.0%5D%2C%20%5B12.9176571%2C%2077.4837568%2C%209.0%5D%2C%20%5B12.9546741%2C%2077.5121724%2C%209.0%5D%2C%20%5B13.0101286%2C%2077.5548006%2C%208.0%5D%2C%20%5B13.1006982%2C%2077.5963454%2C%206.0%5D%2C%20%5B13.0011289%2C%2077.6325617%2C%206.0%5D%2C%20%5B13.0784743%2C%2077.6068938%2C%203.0%5D%2C%20%5B12.9274413%2C%2077.5155224%2C%202.0%5D%2C%20%5B13.0329419%2C%2077.5273253%2C%201.0%5D%5D%3B%0A%20%20%20%20%20%20%20%20%20%20%20%20%20%20%20%20var%20cluster%20%3D%20L.markerClusterGroup%28%7B%22zoom%22%3A%2020%7D%29%3B%0A%0A%20%20%20%20%20%20%20%20%20%20%20%20%20%20%20%20for%20%28var%20i%20%3D%200%3B%20i%20%3C%20data.length%3B%20i%2B%2B%29%20%7B%0A%20%20%20%20%20%20%20%20%20%20%20%20%20%20%20%20%20%20%20%20var%20row%20%3D%20data%5Bi%5D%3B%0A%20%20%20%20%20%20%20%20%20%20%20%20%20%20%20%20%20%20%20%20var%20marker%20%3D%20callback%28row%29%3B%0A%20%20%20%20%20%20%20%20%20%20%20%20%20%20%20%20%20%20%20%20marker.addTo%28cluster%29%3B%0A%20%20%20%20%20%20%20%20%20%20%20%20%20%20%20%20%7D%0A%0A%20%20%20%20%20%20%20%20%20%20%20%20%20%20%20%20cluster.addTo%28map_7ed7ec28ba174e95b86571b60b9b069b%29%3B%0A%20%20%20%20%20%20%20%20%20%20%20%20%20%20%20%20return%20cluster%3B%0A%20%20%20%20%20%20%20%20%20%20%20%20%7D%29%28%29%3B%0A%20%20%20%20%20%20%20%20%0A%20%20%20%20%0A%20%20%20%20%20%20%20%20%20%20%20%20var%20heat_map_c8e7a9f3ca834602896be0a096235e1b%20%3D%20L.heatLayer%28%0A%20%20%20%20%20%20%20%20%20%20%20%20%20%20%20%20%5B%5B40.7652844%2C%20-76.373824%2C%204.04288577154309%5D%2C%20%5B51.5227651%2C%20-0.7354457%2C%204.0172011661807625%5D%2C%20%5B12.9271867%2C%2077.6266252%2C%203.9787564766839405%5D%2C%20%5B38.7801076%2C%20-121.5056438%2C%203.9653846153846155%5D%2C%20%5B51.373656%2C%20-0.1042366%2C%203.9630909090909086%5D%2C%20%5B13.00540865%2C%2074.79460685941484%2C%203.901511969760601%5D%2C%20%5B31.89376%2C%20-88.066644%2C%203.901052631578944%5D%2C%20%5B12.9274413%2C%2077.5155224%2C%203.85%5D%2C%20%5B38.7385916%2C%20-77.5275749%2C%203.8445723684210518%5D%2C%20%5B15.8782951%2C%2074.5084834%2C%203.839655172413795%5D%2C%20%5B12.93433385%2C%2077.63040639553275%2C%203.8143518518518587%5D%2C%20%5B12.957998%2C%2077.6037312%2C%203.8074074074074087%5D%2C%20%5B34.977289%2C%20-78.974578%2C%203.796428571428575%5D%2C%20%5B13.0078418%2C%2074.7963208%2C%203.7478420569329716%5D%2C%20%5B17.9895618%2C%2079.5967057%2C%203.740550239234445%5D%2C%20%5B22.3146438%2C%2073.1597756%2C%203.7270072992700722%5D%2C%20%5B12.9176571%2C%2077.4837568%2C%203.7222222222222223%5D%2C%20%5B12.9931876%2C%2077.5753419%2C%203.7049295774647875%5D%2C%20%5B50.7721586%2C%200.09772783661369303%2C%203.6880126182965247%5D%2C%20%5B12.773175%2C%2077.7831871%2C%203.687837837837837%5D%2C%20%5B13.0027353%2C%2077.5703253%2C%203.6682370820668657%5D%2C%20%5B12.9400321%2C%2077.6203272%2C%203.662466246624663%5D%2C%20%5B12.9732913%2C%2077.6404672%2C%203.6521694214876%5D%2C%20%5B13.1006982%2C%2077.5963454%2C%203.6399999999999997%5D%2C%20%5B13.0101286%2C%2077.5548006%2C%203.6250000000000004%5D%2C%20%5B27.64392675%2C%2083.05280519687284%2C%203.615250291036089%5D%2C%20%5B12.9417812%2C%2077.6160146%2C%203.607499999999995%5D%2C%20%5B13.2923988%2C%2077.7519261%2C%203.6064516129032267%5D%2C%20%5B40.28745%2C%20-76.964526%2C%203.5958487084870887%5D%2C%20%5B13.0346384%2C%2077.5681733%2C%203.583173996175911%5D%2C%20%5B12.988721250000001%2C%2077.58516877601824%2C%203.5809523809523807%5D%2C%20%5B12.996845%2C%2077.6130165%2C%203.564878892733561%5D%2C%20%5B12.9243509%2C%2077.6255562%2C%203.545652173913042%5D%2C%20%5B12.9778793%2C%2077.6246697%2C%203.541398446170927%5D%2C%20%5B13.0221416%2C%2077.6403368%2C%203.5291443850267377%5D%2C%20%5B12.9055682%2C%2077.5455438%2C%203.511111111111111%5D%2C%20%5B13.02383%2C%2077.5529215%2C%203.5026785714285693%5D%2C%20%5B13.0093455%2C%2077.6377094%2C%203.499809523809525%5D%2C%20%5B18.5322493%2C%2073.8499601124847%2C%203.498916967509032%5D%2C%20%5B11.9917786%2C%2076.5066292%2C%203.4869565217391307%5D%2C%20%5B18.1475%2C%2041.538889%2C%203.484069548872181%5D%2C%20%5B12.5607431%2C%2077.4258375%2C%203.478947368421052%5D%2C%20%5B13.0621474%2C%2077.58006135480495%2C%203.478723404255319%5D%2C%20%5B12.9417261%2C%2077.5755021%2C%203.478184713375793%5D%2C%20%5B12.9846713%2C%2077.6790908%2C%203.4736263736263737%5D%2C%20%5B12.9242381%2C%2077.6289059%2C%203.4735582154515736%5D%2C%20%5B12.3872141%2C%2076.6669626%2C%203.4555555555555566%5D%2C%20%5B39.76880625%2C%20-86.15345077251979%2C%203.4461538461538463%5D%2C%20%5B12.9932739%2C%2077.5388099%2C%203.445517241379311%5D%2C%20%5B12.945048%2C%2077.263004%2C%203.4375000000000004%5D%2C%20%5B12.9678074%2C%2077.6568367%2C%203.4297709923664126%5D%2C%20%5B12.9882338%2C%2077.554883%2C%203.422381930184803%5D%2C%20%5B13.0646907%2C%2077.49626895712257%2C%203.419780219780221%5D%2C%20%5B12.2655944%2C%2076.6465404%2C%203.412925905895076%5D%2C%20%5B12.9552572%2C%2077.6984163%2C%203.400532268795743%5D%2C%20%5B12.9546741%2C%2077.5121724%2C%203.4%5D%2C%20%5B-8.9189606%2C%2033.4588989%2C%203.3891191709844577%5D%2C%20%5B12.9624669%2C%2077.6381958%2C%203.385547785547788%5D%2C%20%5B44.3730577%2C%20-71.6118577%2C%203.3841701122268155%5D%2C%20%5B33.5935063%2C%20-79.0345627%2C%203.374698795180724%5D%2C%20%5B15.8876779%2C%2075.7046777%2C%203.373291925465841%5D%2C%20%5B13.0141618%2C%2077.6518539%2C%203.3629258517034093%5D%2C%20%5B23.1485712%2C%2081.6048241%2C%203.3600000000000008%5D%2C%20%5B13.2227%2C%2078.5541977%2C%203.3333333333333335%5D%2C%20%5B12.9575547%2C%2077.5979099%2C%203.323589743589747%5D%2C%20%5B12.967576%2C%2077.7150877%2C%203.3202380952380954%5D%2C%20%5B12.9081487%2C%2077.5553179%2C%203.3202380952380954%5D%2C%20%5B12.93577245%2C%2077.66676103753434%2C%203.309833024118736%5D%2C%20%5B12.9414662%2C%2077.7470942%2C%203.2989247311827947%5D%2C%20%5B45.95485055%2C%20-112.49659530324134%2C%203.296127669561143%5D%2C%20%5B1.2847055%2C%20103.84320655721689%2C%203.294067796610167%5D%2C%20%5B13.0358698%2C%2077.6323597%2C%203.279279279279278%5D%2C%20%5B13.0227204%2C%2077.595715%2C%203.278124999999999%5D%2C%20%5B12.887979%2C%2077.5970812%2C%203.2716767371601234%5D%2C%20%5B14.5395813%2C%20121.070371%2C%203.263937823834194%5D%2C%20%5B12.9489339%2C%2077.5968273%2C%203.2576354679802924%5D%2C%20%5B22.8359967%2C%2069.3405962%2C%203.2492957746478885%5D%2C%20%5B13.0215466%2C%2077.7640586%2C%203.2433333333333327%5D%2C%20%5B13.007516%2C%2077.695935%2C%203.2181818181818183%5D%2C%20%5B17.2510682%2C%2080.1651978%2C%203.215151515151515%5D%2C%20%5B13.0329419%2C%2077.5273253%2C%203.2%5D%2C%20%5B13.194416%2C%2078.7011301%2C%203.1818181818181825%5D%2C%20%5B51.5182611%2C%20-0.0742531%2C%203.109708737864077%5D%2C%20%5B12.973936%2C%2077.6509982%2C%203.0953947368421058%5D%2C%20%5B13.0258087%2C%2077.6305067%2C%203.0938931297709917%5D%2C%20%5B12.945245%2C%2077.6269144%2C%203.05472972972973%5D%2C%20%5B-6.2659285%2C%20106.7842561%2C%203.0419087136929477%5D%2C%20%5B12.9089453%2C%2077.6239038%2C%202.92675159235669%5D%2C%20%5B13.0382184%2C%2077.5919%2C%202.88%5D%2C%20%5B13.0217151%2C%2077.7660547%2C%202.385714285714286%5D%2C%20%5B13.0011289%2C%2077.6325617%2C%202.02%5D%5D%2C%0A%20%20%20%20%20%20%20%20%20%20%20%20%20%20%20%20%7B%22blur%22%3A%2015%2C%20%22maxZoom%22%3A%2018%2C%20%22minOpacity%22%3A%200.5%2C%20%22radius%22%3A%2025%7D%0A%20%20%20%20%20%20%20%20%20%20%20%20%29.addTo%28map_7ed7ec28ba174e95b86571b60b9b069b%29%3B%0A%20%20%20%20%20%20%20%20%0A%20%20%20%20%0A%20%20%20%20%20%20%20%20%20%20%20%20var%20heat_map_9522419ca3414b1db59a0df481e7bdec%20%3D%20L.heatLayer%28%0A%20%20%20%20%20%20%20%20%20%20%20%20%20%20%20%20%5B%5B45.95485055%2C%20-112.49659530324134%2C%20274.0%5D%2C%20%5B15.8876779%2C%2075.7046777%2C%2035.0%5D%2C%20%5B13.0141618%2C%2077.6518539%2C%209.0%5D%2C%20%5B12.887979%2C%2077.5970812%2C%2060.0%5D%2C%20%5B12.9417261%2C%2077.5755021%2C%2017.0%5D%2C%20%5B12.9932739%2C%2077.5388099%2C%201.0%5D%2C%20%5B12.93577245%2C%2077.66676103753434%2C%20131.0%5D%2C%20%5B12.9089453%2C%2077.6239038%2C%206.0%5D%2C%20%5B40.28745%2C%20-76.964526%2C%2039.0%5D%2C%20%5B33.5935063%2C%20-79.0345627%2C%2042.0%5D%2C%20%5B17.2510682%2C%2080.1651978%2C%209.0%5D%2C%20%5B51.373656%2C%20-0.1042366%2C%2029.0%5D%2C%20%5B51.5153824%2C%20-0.0719631%2C%2011.0%5D%2C%20%5B12.9624669%2C%2077.6381958%2C%2029.0%5D%2C%20%5B13.0215466%2C%2077.7640586%2C%202.0%5D%2C%20%5B12.945245%2C%2077.6269144%2C%2036.0%5D%2C%20%5B-6.2659285%2C%20106.7842561%2C%2046.0%5D%2C%20%5B12.996845%2C%2077.6130165%2C%2027.0%5D%2C%20%5B13.0358698%2C%2077.6323597%2C%204.0%5D%2C%20%5B18.1475%2C%2041.538889%2C%20131.0%5D%2C%20%5B13.0258087%2C%2077.6305067%2C%202.0%5D%2C%20%5B12.773175%2C%2077.7831871%2C%208.0%5D%2C%20%5B12.967576%2C%2077.7150877%2C%208.0%5D%2C%20%5B12.9732913%2C%2077.6404672%2C%2085.0%5D%2C%20%5B12.2655944%2C%2076.6465404%2C%20135.0%5D%2C%20%5B27.64392675%2C%2083.05280519687284%2C%2025.0%5D%2C%20%5B12.9678074%2C%2077.6568367%2C%2022.0%5D%2C%20%5B12.9846713%2C%2077.6790908%2C%205.0%5D%2C%20%5B13.0221416%2C%2077.6403368%2C%2030.0%5D%2C%20%5B13.0093455%2C%2077.6377094%2C%206.0%5D%2C%20%5B14.5395813%2C%20121.070371%2C%20106.0%5D%2C%20%5B12.9271867%2C%2077.6266252%2C%206.0%5D%2C%20%5B12.93433385%2C%2077.63040639553275%2C%2054.0%5D%2C%20%5B13.00540865%2C%2074.79460685941484%2C%2038.0%5D%2C%20%5B12.9400321%2C%2077.6203272%2C%2045.0%5D%2C%20%5B13.0078418%2C%2074.7963208%2C%2098.0%5D%2C%20%5B12.9417812%2C%2077.6160146%2C%2010.0%5D%2C%20%5B12.9081487%2C%2077.5553179%2C%2021.0%5D%2C%20%5B17.9895618%2C%2079.5967057%2C%2022.0%5D%2C%20%5B1.2847055%2C%20103.84320655721689%2C%204.0%5D%2C%20%5B13.0027353%2C%2077.5703253%2C%2016.0%5D%2C%20%5B12.9552572%2C%2077.6984163%2C%20109.0%5D%2C%20%5B13.2227%2C%2078.5541977%2C%207.0%5D%2C%20%5B13.0346384%2C%2077.5681733%2C%2023.0%5D%2C%20%5B13.0217151%2C%2077.7660547%2C%201.0%5D%2C%20%5B-8.9189606%2C%2033.4588989%2C%2015.0%5D%2C%20%5B13.0227204%2C%2077.595715%2C%202.0%5D%2C%20%5B12.9882338%2C%2077.554883%2C%2012.0%5D%2C%20%5B38.7385916%2C%20-77.5275749%2C%2019.0%5D%2C%20%5B50.7721586%2C%200.09772783661369303%2C%2036.0%5D%2C%20%5B15.8782951%2C%2074.5084834%2C%205.0%5D%2C%20%5B23.1485712%2C%2081.6048241%2C%203.0%5D%2C%20%5B38.7801076%2C%20-121.5056438%2C%203.0%5D%2C%20%5B12.9242381%2C%2077.6289059%2C%2050.0%5D%2C%20%5B12.9931876%2C%2077.5753419%2C%206.0%5D%2C%20%5B12.9575547%2C%2077.5979099%2C%2034.0%5D%2C%20%5B18.5322493%2C%2073.8499601124847%2C%2012.0%5D%2C%20%5B12.973936%2C%2077.6509982%2C%2013.0%5D%2C%20%5B12.9778793%2C%2077.6246697%2C%2057.0%5D%2C%20%5B12.9414662%2C%2077.7470942%2C%203.0%5D%2C%20%5B12.988721250000001%2C%2077.58516877601824%2C%2012.0%5D%2C%20%5B44.3730577%2C%20-71.6118577%2C%20148.0%5D%2C%20%5B12.9489339%2C%2077.5968273%2C%2037.0%5D%2C%20%5B13.02383%2C%2077.5529215%2C%203.0%5D%5D%2C%0A%20%20%20%20%20%20%20%20%20%20%20%20%20%20%20%20%7B%22blur%22%3A%2015%2C%20%22maxZoom%22%3A%2018%2C%20%22minOpacity%22%3A%200.5%2C%20%22radius%22%3A%2015%2C%20%22zoom%22%3A%2020%7D%0A%20%20%20%20%20%20%20%20%20%20%20%20%29.addTo%28map_7ed7ec28ba174e95b86571b60b9b069b%29%3B%0A%20%20%20%20%20%20%20%20%0A%20%20%20%20%0A%20%20%20%20%20%20%20%20%20%20%20%20var%20heat_map_b78b660ebd1a48979b438ac977e41f3d%20%3D%20L.heatLayer%28%0A%20%20%20%20%20%20%20%20%20%20%20%20%20%20%20%20%5B%5B45.95485055%2C%20-112.49659530324134%2C%2053.0%5D%2C%20%5B13.0141618%2C%2077.6518539%2C%2011.0%5D%2C%20%5B12.887979%2C%2077.5970812%2C%2014.0%5D%2C%20%5B12.9417261%2C%2077.5755021%2C%2012.0%5D%2C%20%5B12.93577245%2C%2077.66676103753434%2C%207.0%5D%2C%20%5B12.9089453%2C%2077.6239038%2C%201.0%5D%2C%20%5B40.28745%2C%20-76.964526%2C%205.0%5D%2C%20%5B33.5935063%2C%20-79.0345627%2C%201.0%5D%2C%20%5B51.373656%2C%20-0.1042366%2C%2025.0%5D%2C%20%5B31.89376%2C%20-88.066644%2C%204.0%5D%2C%20%5B12.945245%2C%2077.6269144%2C%204.0%5D%2C%20%5B-6.2659285%2C%20106.7842561%2C%208.0%5D%2C%20%5B12.996845%2C%2077.6130165%2C%206.0%5D%2C%20%5B13.0358698%2C%2077.6323597%2C%208.0%5D%2C%20%5B18.1475%2C%2041.538889%2C%2017.0%5D%2C%20%5B12.9732913%2C%2077.6404672%2C%2023.0%5D%2C%20%5B12.2655944%2C%2076.6465404%2C%2010.0%5D%2C%20%5B27.64392675%2C%2083.05280519687284%2C%206.0%5D%2C%20%5B13.0221416%2C%2077.6403368%2C%209.0%5D%2C%20%5B13.0093455%2C%2077.6377094%2C%206.0%5D%2C%20%5B14.5395813%2C%20121.070371%2C%2010.0%5D%2C%20%5B12.93433385%2C%2077.63040639553275%2C%2019.0%5D%2C%20%5B13.00540865%2C%2074.79460685941484%2C%2021.0%5D%2C%20%5B12.9400321%2C%2077.6203272%2C%2025.0%5D%2C%20%5B13.0078418%2C%2074.7963208%2C%209.0%5D%2C%20%5B12.9417812%2C%2077.6160146%2C%204.0%5D%2C%20%5B17.9895618%2C%2079.5967057%2C%206.0%5D%2C%20%5B13.0027353%2C%2077.5703253%2C%2012.0%5D%2C%20%5B12.9552572%2C%2077.6984163%2C%2012.0%5D%2C%20%5B13.2227%2C%2078.5541977%2C%202.0%5D%2C%20%5B13.0346384%2C%2077.5681733%2C%202.0%5D%2C%20%5B-8.9189606%2C%2033.4588989%2C%204.0%5D%2C%20%5B12.9882338%2C%2077.554883%2C%204.0%5D%2C%20%5B38.7385916%2C%20-77.5275749%2C%2019.0%5D%2C%20%5B50.7721586%2C%200.09772783661369303%2C%2025.0%5D%2C%20%5B12.9242381%2C%2077.6289059%2C%202.0%5D%2C%20%5B13.0646907%2C%2077.49626895712257%2C%206.0%5D%2C%20%5B12.973936%2C%2077.6509982%2C%201.0%5D%2C%20%5B12.9778793%2C%2077.6246697%2C%2018.0%5D%2C%20%5B44.3730577%2C%20-71.6118577%2C%2018.0%5D%5D%2C%0A%20%20%20%20%20%20%20%20%20%20%20%20%20%20%20%20%7B%22blur%22%3A%2015%2C%20%22maxZoom%22%3A%2018%2C%20%22minOpacity%22%3A%200.5%2C%20%22radius%22%3A%2015%2C%20%22zoom%22%3A%2020%7D%0A%20%20%20%20%20%20%20%20%20%20%20%20%29.addTo%28map_7ed7ec28ba174e95b86571b60b9b069b%29%3B%0A%20%20%20%20%20%20%20%20%0A%20%20%20%20%0A%20%20%20%20%20%20%20%20%20%20%20%20var%20heat_map_665ba6939c5f44d6b547052e8a228f41%20%3D%20L.heatLayer%28%0A%20%20%20%20%20%20%20%20%20%20%20%20%20%20%20%20%5B%5B45.95485055%2C%20-112.49659530324134%2C%2053.0%5D%2C%20%5B13.0141618%2C%2077.6518539%2C%2011.0%5D%2C%20%5B12.887979%2C%2077.5970812%2C%2014.0%5D%2C%20%5B12.9417261%2C%2077.5755021%2C%2012.0%5D%2C%20%5B12.93577245%2C%2077.66676103753434%2C%207.0%5D%2C%20%5B12.9089453%2C%2077.6239038%2C%201.0%5D%2C%20%5B40.28745%2C%20-76.964526%2C%205.0%5D%2C%20%5B33.5935063%2C%20-79.0345627%2C%201.0%5D%2C%20%5B51.373656%2C%20-0.1042366%2C%2025.0%5D%2C%20%5B31.89376%2C%20-88.066644%2C%204.0%5D%2C%20%5B12.945245%2C%2077.6269144%2C%204.0%5D%2C%20%5B-6.2659285%2C%20106.7842561%2C%208.0%5D%2C%20%5B12.996845%2C%2077.6130165%2C%206.0%5D%2C%20%5B13.0358698%2C%2077.6323597%2C%208.0%5D%2C%20%5B18.1475%2C%2041.538889%2C%2017.0%5D%2C%20%5B12.9732913%2C%2077.6404672%2C%2023.0%5D%2C%20%5B12.2655944%2C%2076.6465404%2C%2010.0%5D%2C%20%5B27.64392675%2C%2083.05280519687284%2C%206.0%5D%2C%20%5B13.0221416%2C%2077.6403368%2C%209.0%5D%2C%20%5B13.0093455%2C%2077.6377094%2C%206.0%5D%2C%20%5B14.5395813%2C%20121.070371%2C%2010.0%5D%2C%20%5B12.93433385%2C%2077.63040639553275%2C%2019.0%5D%2C%20%5B13.00540865%2C%2074.79460685941484%2C%2021.0%5D%2C%20%5B12.9400321%2C%2077.6203272%2C%2025.0%5D%2C%20%5B13.0078418%2C%2074.7963208%2C%209.0%5D%2C%20%5B12.9417812%2C%2077.6160146%2C%204.0%5D%2C%20%5B17.9895618%2C%2079.5967057%2C%206.0%5D%2C%20%5B13.0027353%2C%2077.5703253%2C%2012.0%5D%2C%20%5B12.9552572%2C%2077.6984163%2C%2012.0%5D%2C%20%5B13.2227%2C%2078.5541977%2C%202.0%5D%2C%20%5B13.0346384%2C%2077.5681733%2C%202.0%5D%2C%20%5B-8.9189606%2C%2033.4588989%2C%204.0%5D%2C%20%5B12.9882338%2C%2077.554883%2C%204.0%5D%2C%20%5B38.7385916%2C%20-77.5275749%2C%2019.0%5D%2C%20%5B50.7721586%2C%200.09772783661369303%2C%2025.0%5D%2C%20%5B12.9242381%2C%2077.6289059%2C%202.0%5D%2C%20%5B13.0646907%2C%2077.49626895712257%2C%206.0%5D%2C%20%5B12.973936%2C%2077.6509982%2C%201.0%5D%2C%20%5B12.9778793%2C%2077.6246697%2C%2018.0%5D%2C%20%5B44.3730577%2C%20-71.6118577%2C%2018.0%5D%5D%2C%0A%20%20%20%20%20%20%20%20%20%20%20%20%20%20%20%20%7B%22blur%22%3A%2015%2C%20%22maxZoom%22%3A%2018%2C%20%22minOpacity%22%3A%200.5%2C%20%22radius%22%3A%2015%2C%20%22zoom%22%3A%2020%7D%0A%20%20%20%20%20%20%20%20%20%20%20%20%29.addTo%28map_7ed7ec28ba174e95b86571b60b9b069b%29%3B%0A%20%20%20%20%20%20%20%20%0A%20%20%20%20%0A%20%20%20%20%20%20%20%20%20%20%20%20var%20heat_map_b734ed19c3e1417bb4f19e09e132e89e%20%3D%20L.heatLayer%28%0A%20%20%20%20%20%20%20%20%20%20%20%20%20%20%20%20%5B%5B45.95485055%2C%20-112.49659530324134%2C%2053.0%5D%2C%20%5B13.0141618%2C%2077.6518539%2C%2011.0%5D%2C%20%5B12.887979%2C%2077.5970812%2C%2014.0%5D%2C%20%5B12.9417261%2C%2077.5755021%2C%2012.0%5D%2C%20%5B12.93577245%2C%2077.66676103753434%2C%207.0%5D%2C%20%5B12.9089453%2C%2077.6239038%2C%201.0%5D%2C%20%5B40.28745%2C%20-76.964526%2C%205.0%5D%2C%20%5B33.5935063%2C%20-79.0345627%2C%201.0%5D%2C%20%5B51.373656%2C%20-0.1042366%2C%2025.0%5D%2C%20%5B31.89376%2C%20-88.066644%2C%204.0%5D%2C%20%5B12.945245%2C%2077.6269144%2C%204.0%5D%2C%20%5B-6.2659285%2C%20106.7842561%2C%208.0%5D%2C%20%5B12.996845%2C%2077.6130165%2C%206.0%5D%2C%20%5B13.0358698%2C%2077.6323597%2C%208.0%5D%2C%20%5B18.1475%2C%2041.538889%2C%2017.0%5D%2C%20%5B12.9732913%2C%2077.6404672%2C%2023.0%5D%2C%20%5B12.2655944%2C%2076.6465404%2C%2010.0%5D%2C%20%5B27.64392675%2C%2083.05280519687284%2C%206.0%5D%2C%20%5B13.0221416%2C%2077.6403368%2C%209.0%5D%2C%20%5B13.0093455%2C%2077.6377094%2C%206.0%5D%2C%20%5B14.5395813%2C%20121.070371%2C%2010.0%5D%2C%20%5B12.93433385%2C%2077.63040639553275%2C%2019.0%5D%2C%20%5B13.00540865%2C%2074.79460685941484%2C%2021.0%5D%2C%20%5B12.9400321%2C%2077.6203272%2C%2025.0%5D%2C%20%5B13.0078418%2C%2074.7963208%2C%209.0%5D%2C%20%5B12.9417812%2C%2077.6160146%2C%204.0%5D%2C%20%5B17.9895618%2C%2079.5967057%2C%206.0%5D%2C%20%5B13.0027353%2C%2077.5703253%2C%2012.0%5D%2C%20%5B12.9552572%2C%2077.6984163%2C%2012.0%5D%2C%20%5B13.2227%2C%2078.5541977%2C%202.0%5D%2C%20%5B13.0346384%2C%2077.5681733%2C%202.0%5D%2C%20%5B-8.9189606%2C%2033.4588989%2C%204.0%5D%2C%20%5B12.9882338%2C%2077.554883%2C%204.0%5D%2C%20%5B38.7385916%2C%20-77.5275749%2C%2019.0%5D%2C%20%5B50.7721586%2C%200.09772783661369303%2C%2025.0%5D%2C%20%5B12.9242381%2C%2077.6289059%2C%202.0%5D%2C%20%5B13.0646907%2C%2077.49626895712257%2C%206.0%5D%2C%20%5B12.973936%2C%2077.6509982%2C%201.0%5D%2C%20%5B12.9778793%2C%2077.6246697%2C%2018.0%5D%2C%20%5B44.3730577%2C%20-71.6118577%2C%2018.0%5D%5D%2C%0A%20%20%20%20%20%20%20%20%20%20%20%20%20%20%20%20%7B%22blur%22%3A%2015%2C%20%22maxZoom%22%3A%2018%2C%20%22minOpacity%22%3A%200.5%2C%20%22radius%22%3A%2015%2C%20%22zoom%22%3A%2020%7D%0A%20%20%20%20%20%20%20%20%20%20%20%20%29.addTo%28map_7ed7ec28ba174e95b86571b60b9b069b%29%3B%0A%20%20%20%20%20%20%20%20%0A%3C/script%3E onload=\"this.contentDocument.open();this.contentDocument.write(    decodeURIComponent(this.getAttribute('data-html')));this.contentDocument.close();\" allowfullscreen webkitallowfullscreen mozallowfullscreen></iframe></div></div>"
            ],
            "text/plain": [
              "<folium.folium.Map at 0x21f80d33948>"
            ]
          },
          "metadata": {
            "tags": []
          },
          "execution_count": 79
        }
      ]
    },
    {
      "cell_type": "code",
      "metadata": {
        "id": "EfEN6tvmok04",
        "outputId": "1e002ed3-e9fc-4ed5-f4f4-bc76dd7f0fde"
      },
      "source": [
        "Heatmap_zone('Momos')"
      ],
      "execution_count": null,
      "outputs": [
        {
          "output_type": "execute_result",
          "data": {
            "text/html": [
              "<div style=\"width:100%;\"><div style=\"position:relative;width:100%;height:0;padding-bottom:60%;\"><span style=\"color:#565656\">Make this Notebook Trusted to load map: File -> Trust Notebook</span><iframe src=\"about:blank\" style=\"position:absolute;width:100%;height:100%;left:0;top:0;border:none !important;\" data-html=%3C%21DOCTYPE%20html%3E%0A%3Chead%3E%20%20%20%20%0A%20%20%20%20%3Cmeta%20http-equiv%3D%22content-type%22%20content%3D%22text/html%3B%20charset%3DUTF-8%22%20/%3E%0A%20%20%20%20%0A%20%20%20%20%20%20%20%20%3Cscript%3E%0A%20%20%20%20%20%20%20%20%20%20%20%20L_NO_TOUCH%20%3D%20false%3B%0A%20%20%20%20%20%20%20%20%20%20%20%20L_DISABLE_3D%20%3D%20false%3B%0A%20%20%20%20%20%20%20%20%3C/script%3E%0A%20%20%20%20%0A%20%20%20%20%3Cstyle%3Ehtml%2C%20body%20%7Bwidth%3A%20100%25%3Bheight%3A%20100%25%3Bmargin%3A%200%3Bpadding%3A%200%3B%7D%3C/style%3E%0A%20%20%20%20%3Cstyle%3E%23map%20%7Bposition%3Aabsolute%3Btop%3A0%3Bbottom%3A0%3Bright%3A0%3Bleft%3A0%3B%7D%3C/style%3E%0A%20%20%20%20%3Cscript%20src%3D%22https%3A//cdn.jsdelivr.net/npm/leaflet%401.6.0/dist/leaflet.js%22%3E%3C/script%3E%0A%20%20%20%20%3Cscript%20src%3D%22https%3A//code.jquery.com/jquery-1.12.4.min.js%22%3E%3C/script%3E%0A%20%20%20%20%3Cscript%20src%3D%22https%3A//maxcdn.bootstrapcdn.com/bootstrap/3.2.0/js/bootstrap.min.js%22%3E%3C/script%3E%0A%20%20%20%20%3Cscript%20src%3D%22https%3A//cdnjs.cloudflare.com/ajax/libs/Leaflet.awesome-markers/2.0.2/leaflet.awesome-markers.js%22%3E%3C/script%3E%0A%20%20%20%20%3Clink%20rel%3D%22stylesheet%22%20href%3D%22https%3A//cdn.jsdelivr.net/npm/leaflet%401.6.0/dist/leaflet.css%22/%3E%0A%20%20%20%20%3Clink%20rel%3D%22stylesheet%22%20href%3D%22https%3A//maxcdn.bootstrapcdn.com/bootstrap/3.2.0/css/bootstrap.min.css%22/%3E%0A%20%20%20%20%3Clink%20rel%3D%22stylesheet%22%20href%3D%22https%3A//maxcdn.bootstrapcdn.com/bootstrap/3.2.0/css/bootstrap-theme.min.css%22/%3E%0A%20%20%20%20%3Clink%20rel%3D%22stylesheet%22%20href%3D%22https%3A//maxcdn.bootstrapcdn.com/font-awesome/4.6.3/css/font-awesome.min.css%22/%3E%0A%20%20%20%20%3Clink%20rel%3D%22stylesheet%22%20href%3D%22https%3A//cdnjs.cloudflare.com/ajax/libs/Leaflet.awesome-markers/2.0.2/leaflet.awesome-markers.css%22/%3E%0A%20%20%20%20%3Clink%20rel%3D%22stylesheet%22%20href%3D%22https%3A//cdn.jsdelivr.net/gh/python-visualization/folium/folium/templates/leaflet.awesome.rotate.min.css%22/%3E%0A%20%20%20%20%0A%20%20%20%20%20%20%20%20%20%20%20%20%3Cmeta%20name%3D%22viewport%22%20content%3D%22width%3Ddevice-width%2C%0A%20%20%20%20%20%20%20%20%20%20%20%20%20%20%20%20initial-scale%3D1.0%2C%20maximum-scale%3D1.0%2C%20user-scalable%3Dno%22%20/%3E%0A%20%20%20%20%20%20%20%20%20%20%20%20%3Cstyle%3E%0A%20%20%20%20%20%20%20%20%20%20%20%20%20%20%20%20%23map_7ed7ec28ba174e95b86571b60b9b069b%20%7B%0A%20%20%20%20%20%20%20%20%20%20%20%20%20%20%20%20%20%20%20%20position%3A%20relative%3B%0A%20%20%20%20%20%20%20%20%20%20%20%20%20%20%20%20%20%20%20%20width%3A%20100.0%25%3B%0A%20%20%20%20%20%20%20%20%20%20%20%20%20%20%20%20%20%20%20%20height%3A%20100.0%25%3B%0A%20%20%20%20%20%20%20%20%20%20%20%20%20%20%20%20%20%20%20%20left%3A%200.0%25%3B%0A%20%20%20%20%20%20%20%20%20%20%20%20%20%20%20%20%20%20%20%20top%3A%200.0%25%3B%0A%20%20%20%20%20%20%20%20%20%20%20%20%20%20%20%20%7D%0A%20%20%20%20%20%20%20%20%20%20%20%20%3C/style%3E%0A%20%20%20%20%20%20%20%20%0A%20%20%20%20%3Cscript%20src%3D%22https%3A//cdn.jsdelivr.net/gh/python-visualization/folium%40master/folium/templates/leaflet_heat.min.js%22%3E%3C/script%3E%0A%20%20%20%20%3Cscript%20src%3D%22https%3A//cdnjs.cloudflare.com/ajax/libs/leaflet.markercluster/1.1.0/leaflet.markercluster.js%22%3E%3C/script%3E%0A%20%20%20%20%3Clink%20rel%3D%22stylesheet%22%20href%3D%22https%3A//cdnjs.cloudflare.com/ajax/libs/leaflet.markercluster/1.1.0/MarkerCluster.css%22/%3E%0A%20%20%20%20%3Clink%20rel%3D%22stylesheet%22%20href%3D%22https%3A//cdnjs.cloudflare.com/ajax/libs/leaflet.markercluster/1.1.0/MarkerCluster.Default.css%22/%3E%0A%3C/head%3E%0A%3Cbody%3E%20%20%20%20%0A%20%20%20%20%0A%20%20%20%20%20%20%20%20%20%20%20%20%3Cdiv%20class%3D%22folium-map%22%20id%3D%22map_7ed7ec28ba174e95b86571b60b9b069b%22%20%3E%3C/div%3E%0A%20%20%20%20%20%20%20%20%0A%3C/body%3E%0A%3Cscript%3E%20%20%20%20%0A%20%20%20%20%0A%20%20%20%20%20%20%20%20%20%20%20%20var%20map_7ed7ec28ba174e95b86571b60b9b069b%20%3D%20L.map%28%0A%20%20%20%20%20%20%20%20%20%20%20%20%20%20%20%20%22map_7ed7ec28ba174e95b86571b60b9b069b%22%2C%0A%20%20%20%20%20%20%20%20%20%20%20%20%20%20%20%20%7B%0A%20%20%20%20%20%20%20%20%20%20%20%20%20%20%20%20%20%20%20%20center%3A%20%5B12.97%2C%2077.59%5D%2C%0A%20%20%20%20%20%20%20%20%20%20%20%20%20%20%20%20%20%20%20%20crs%3A%20L.CRS.EPSG3857%2C%0A%20%20%20%20%20%20%20%20%20%20%20%20%20%20%20%20%20%20%20%20zoom%3A%2012%2C%0A%20%20%20%20%20%20%20%20%20%20%20%20%20%20%20%20%20%20%20%20zoomControl%3A%20true%2C%0A%20%20%20%20%20%20%20%20%20%20%20%20%20%20%20%20%20%20%20%20preferCanvas%3A%20false%2C%0A%20%20%20%20%20%20%20%20%20%20%20%20%20%20%20%20%7D%0A%20%20%20%20%20%20%20%20%20%20%20%20%29%3B%0A%0A%20%20%20%20%20%20%20%20%20%20%20%20%0A%0A%20%20%20%20%20%20%20%20%0A%20%20%20%20%0A%20%20%20%20%20%20%20%20%20%20%20%20var%20tile_layer_847efbd998694336b14d774a66fd7c1e%20%3D%20L.tileLayer%28%0A%20%20%20%20%20%20%20%20%20%20%20%20%20%20%20%20%22https%3A//%7Bs%7D.tile.openstreetmap.org/%7Bz%7D/%7Bx%7D/%7By%7D.png%22%2C%0A%20%20%20%20%20%20%20%20%20%20%20%20%20%20%20%20%7B%22attribution%22%3A%20%22Data%20by%20%5Cu0026copy%3B%20%5Cu003ca%20href%3D%5C%22http%3A//openstreetmap.org%5C%22%5Cu003eOpenStreetMap%5Cu003c/a%5Cu003e%2C%20under%20%5Cu003ca%20href%3D%5C%22http%3A//www.openstreetmap.org/copyright%5C%22%5Cu003eODbL%5Cu003c/a%5Cu003e.%22%2C%20%22detectRetina%22%3A%20false%2C%20%22maxNativeZoom%22%3A%2018%2C%20%22maxZoom%22%3A%2018%2C%20%22minZoom%22%3A%200%2C%20%22noWrap%22%3A%20false%2C%20%22opacity%22%3A%201%2C%20%22subdomains%22%3A%20%22abc%22%2C%20%22tms%22%3A%20false%7D%0A%20%20%20%20%20%20%20%20%20%20%20%20%29.addTo%28map_7ed7ec28ba174e95b86571b60b9b069b%29%3B%0A%20%20%20%20%20%20%20%20%0A%20%20%20%20%0A%20%20%20%20%20%20%20%20%20%20%20%20var%20heat_map_9c265c03e9364ae9b24d3d4138888842%20%3D%20L.heatLayer%28%0A%20%20%20%20%20%20%20%20%20%20%20%20%20%20%20%20%5B%5B45.95485055%2C%20-112.49659530324134%2C%205124.0%5D%2C%20%5B18.1475%2C%2041.538889%2C%202523.0%5D%2C%20%5B13.00540865%2C%2074.79460685941484%2C%202504.0%5D%2C%20%5B12.2655944%2C%2076.6465404%2C%202235.0%5D%2C%20%5B44.3730577%2C%20-71.6118577%2C%202144.0%5D%2C%20%5B12.9732913%2C%2077.6404672%2C%202083.0%5D%2C%20%5B27.64392675%2C%2083.05280519687284%2C%201926.0%5D%2C%20%5B12.9552572%2C%2077.6984163%2C%201846.0%5D%2C%20%5B12.887979%2C%2077.5970812%2C%201630.0%5D%2C%20%5B12.93577245%2C%2077.66676103753434%2C%201286.0%5D%2C%20%5B-6.2659285%2C%20106.7842561%2C%201258.0%5D%2C%20%5B14.5395813%2C%20121.070371%2C%201238.0%5D%2C%20%5B40.28745%2C%20-76.964526%2C%201218.0%5D%2C%20%5B13.0078418%2C%2074.7963208%2C%201181.0%5D%2C%20%5B12.9400321%2C%2077.6203272%2C%201156.0%5D%2C%20%5B12.9242381%2C%2077.6289059%2C%201065.0%5D%2C%20%5B12.9778793%2C%2077.6246697%2C%201023.0%5D%2C%20%5B12.93433385%2C%2077.63040639553275%2C%201017.0%5D%2C%20%5B17.9895618%2C%2079.5967057%2C%20918.0%5D%2C%20%5B15.8876779%2C%2075.7046777%2C%20906.0%5D%2C%20%5B13.0221416%2C%2077.6403368%2C%20853.0%5D%2C%20%5B50.7721586%2C%200.09772783661369303%2C%20812.0%5D%2C%20%5B12.996845%2C%2077.6130165%2C%20727.0%5D%2C%20%5B13.0027353%2C%2077.5703253%2C%20725.0%5D%2C%20%5B12.9417261%2C%2077.5755021%2C%20684.0%5D%2C%20%5B38.7385916%2C%20-77.5275749%2C%20675.0%5D%2C%20%5B13.0141618%2C%2077.6518539%2C%20664.0%5D%2C%20%5B33.5935063%2C%20-79.0345627%2C%20658.0%5D%2C%20%5B13.0346384%2C%2077.5681733%2C%20649.0%5D%2C%20%5B13.0093455%2C%2077.6377094%2C%20648.0%5D%2C%20%5B12.9882338%2C%2077.554883%2C%20591.0%5D%2C%20%5B51.373656%2C%20-0.1042366%2C%20569.0%5D%2C%20%5B40.7652844%2C%20-76.373824%2C%20529.0%5D%2C%20%5B12.9575547%2C%2077.5979099%2C%20511.0%5D%2C%20%5B18.5322493%2C%2073.8499601124847%2C%20499.0%5D%2C%20%5B12.9624669%2C%2077.6381958%2C%20496.0%5D%2C%20%5B31.89376%2C%20-88.066644%2C%20491.0%5D%2C%20%5B-8.9189606%2C%2033.4588989%2C%20446.0%5D%2C%20%5B12.945245%2C%2077.6269144%2C%20439.0%5D%2C%20%5B51.5153824%2C%20-0.0719631%2C%20370.0%5D%2C%20%5B51.5227651%2C%20-0.7354457%2C%20352.0%5D%2C%20%5B12.9417812%2C%2077.6160146%2C%20320.0%5D%2C%20%5B12.988721250000001%2C%2077.58516877601824%2C%20295.0%5D%2C%20%5B12.9678074%2C%2077.6568367%2C%20272.0%5D%2C%20%5B12.9489339%2C%2077.5968273%2C%20246.0%5D%2C%20%5B12.9089453%2C%2077.6239038%2C%20238.0%5D%2C%20%5B12.9271867%2C%2077.6266252%2C%20216.0%5D%2C%20%5B12.9081487%2C%2077.5553179%2C%20195.0%5D%2C%20%5B12.973936%2C%2077.6509982%2C%20194.0%5D%2C%20%5B12.9932739%2C%2077.5388099%2C%20191.0%5D%2C%20%5B13.2227%2C%2078.5541977%2C%20187.0%5D%2C%20%5B12.9931876%2C%2077.5753419%2C%20165.0%5D%2C%20%5B13.0258087%2C%2077.6305067%2C%20161.0%5D%2C%20%5B1.2847055%2C%20103.84320655721689%2C%20155.0%5D%2C%20%5B13.0358698%2C%2077.6323597%2C%20153.0%5D%2C%20%5B34.977289%2C%20-78.974578%2C%20151.0%5D%2C%20%5B22.3146438%2C%2073.1597756%2C%20139.0%5D%2C%20%5B39.76880625%2C%20-86.15345077251979%2C%20126.0%5D%2C%20%5B13.02383%2C%2077.5529215%2C%20119.0%5D%2C%20%5B12.9414662%2C%2077.7470942%2C%20117.0%5D%2C%20%5B12.967576%2C%2077.7150877%2C%20113.0%5D%2C%20%5B13.0646907%2C%2077.49626895712257%2C%20107.0%5D%2C%20%5B12.9243509%2C%2077.6255562%2C%20102.0%5D%2C%20%5B12.773175%2C%2077.7831871%2C%20102.0%5D%2C%20%5B12.9846713%2C%2077.6790908%2C%20101.0%5D%2C%20%5B17.2510682%2C%2080.1651978%2C%2090.0%5D%2C%20%5B22.8359967%2C%2069.3405962%2C%2080.0%5D%2C%20%5B13.0227204%2C%2077.595715%2C%2080.0%5D%2C%20%5B23.1485712%2C%2081.6048241%2C%2076.0%5D%2C%20%5B15.8782951%2C%2074.5084834%2C%2063.0%5D%2C%20%5B13.0621474%2C%2077.58006135480495%2C%2053.0%5D%2C%20%5B13.2923988%2C%2077.7519261%2C%2048.0%5D%2C%20%5B13.0215466%2C%2077.7640586%2C%2044.0%5D%2C%20%5B11.9917786%2C%2076.5066292%2C%2038.0%5D%2C%20%5B12.945048%2C%2077.263004%2C%2034.0%5D%2C%20%5B12.957998%2C%2077.6037312%2C%2027.0%5D%2C%20%5B38.7801076%2C%20-121.5056438%2C%2027.0%5D%2C%20%5B13.194416%2C%2078.7011301%2C%2022.0%5D%2C%20%5B12.3872141%2C%2076.6669626%2C%2022.0%5D%2C%20%5B12.5607431%2C%2077.4258375%2C%2019.0%5D%2C%20%5B13.007516%2C%2077.695935%2C%2018.0%5D%2C%20%5B12.9055682%2C%2077.5455438%2C%2017.0%5D%2C%20%5B13.0217151%2C%2077.7660547%2C%2014.0%5D%2C%20%5B13.0382184%2C%2077.5919%2C%2014.0%5D%2C%20%5B12.9176571%2C%2077.4837568%2C%209.0%5D%2C%20%5B12.9546741%2C%2077.5121724%2C%209.0%5D%2C%20%5B13.0101286%2C%2077.5548006%2C%208.0%5D%2C%20%5B13.1006982%2C%2077.5963454%2C%206.0%5D%2C%20%5B13.0011289%2C%2077.6325617%2C%206.0%5D%2C%20%5B13.0784743%2C%2077.6068938%2C%203.0%5D%2C%20%5B12.9274413%2C%2077.5155224%2C%202.0%5D%2C%20%5B13.0329419%2C%2077.5273253%2C%201.0%5D%5D%2C%0A%20%20%20%20%20%20%20%20%20%20%20%20%20%20%20%20%7B%22blur%22%3A%2015%2C%20%22maxZoom%22%3A%2018%2C%20%22minOpacity%22%3A%200.5%2C%20%22radius%22%3A%2025%2C%20%22zoom%22%3A%2020%7D%0A%20%20%20%20%20%20%20%20%20%20%20%20%29.addTo%28map_7ed7ec28ba174e95b86571b60b9b069b%29%3B%0A%20%20%20%20%20%20%20%20%0A%20%20%20%20%0A%20%20%20%20%20%20%20%20%20%20%20%20var%20fast_marker_cluster_67abcde485964085baf009d143c3d9de%20%3D%20%28function%28%29%7B%0A%20%20%20%20%20%20%20%20%20%20%20%20%20%20%20%20%0A%20%20%20%20%20%20%20%20%20%20%20%20%20%20%20%20var%20callback%20%3D%20function%20%28row%29%20%7B%0A%20%20%20%20%20%20%20%20%20%20%20%20%20%20%20%20%20%20%20%20var%20icon%20%3D%20L.AwesomeMarkers.icon%28%29%3B%0A%20%20%20%20%20%20%20%20%20%20%20%20%20%20%20%20%20%20%20%20var%20marker%20%3D%20L.marker%28new%20L.LatLng%28row%5B0%5D%2C%20row%5B1%5D%29%29%3B%0A%20%20%20%20%20%20%20%20%20%20%20%20%20%20%20%20%20%20%20%20marker.setIcon%28icon%29%3B%0A%20%20%20%20%20%20%20%20%20%20%20%20%20%20%20%20%20%20%20%20return%20marker%3B%0A%20%20%20%20%20%20%20%20%20%20%20%20%20%20%20%20%7D%3B%0A%0A%20%20%20%20%20%20%20%20%20%20%20%20%20%20%20%20var%20data%20%3D%20%5B%5B45.95485055%2C%20-112.49659530324134%2C%205124.0%5D%2C%20%5B18.1475%2C%2041.538889%2C%202523.0%5D%2C%20%5B13.00540865%2C%2074.79460685941484%2C%202504.0%5D%2C%20%5B12.2655944%2C%2076.6465404%2C%202235.0%5D%2C%20%5B44.3730577%2C%20-71.6118577%2C%202144.0%5D%2C%20%5B12.9732913%2C%2077.6404672%2C%202083.0%5D%2C%20%5B27.64392675%2C%2083.05280519687284%2C%201926.0%5D%2C%20%5B12.9552572%2C%2077.6984163%2C%201846.0%5D%2C%20%5B12.887979%2C%2077.5970812%2C%201630.0%5D%2C%20%5B12.93577245%2C%2077.66676103753434%2C%201286.0%5D%2C%20%5B-6.2659285%2C%20106.7842561%2C%201258.0%5D%2C%20%5B14.5395813%2C%20121.070371%2C%201238.0%5D%2C%20%5B40.28745%2C%20-76.964526%2C%201218.0%5D%2C%20%5B13.0078418%2C%2074.7963208%2C%201181.0%5D%2C%20%5B12.9400321%2C%2077.6203272%2C%201156.0%5D%2C%20%5B12.9242381%2C%2077.6289059%2C%201065.0%5D%2C%20%5B12.9778793%2C%2077.6246697%2C%201023.0%5D%2C%20%5B12.93433385%2C%2077.63040639553275%2C%201017.0%5D%2C%20%5B17.9895618%2C%2079.5967057%2C%20918.0%5D%2C%20%5B15.8876779%2C%2075.7046777%2C%20906.0%5D%2C%20%5B13.0221416%2C%2077.6403368%2C%20853.0%5D%2C%20%5B50.7721586%2C%200.09772783661369303%2C%20812.0%5D%2C%20%5B12.996845%2C%2077.6130165%2C%20727.0%5D%2C%20%5B13.0027353%2C%2077.5703253%2C%20725.0%5D%2C%20%5B12.9417261%2C%2077.5755021%2C%20684.0%5D%2C%20%5B38.7385916%2C%20-77.5275749%2C%20675.0%5D%2C%20%5B13.0141618%2C%2077.6518539%2C%20664.0%5D%2C%20%5B33.5935063%2C%20-79.0345627%2C%20658.0%5D%2C%20%5B13.0346384%2C%2077.5681733%2C%20649.0%5D%2C%20%5B13.0093455%2C%2077.6377094%2C%20648.0%5D%2C%20%5B12.9882338%2C%2077.554883%2C%20591.0%5D%2C%20%5B51.373656%2C%20-0.1042366%2C%20569.0%5D%2C%20%5B40.7652844%2C%20-76.373824%2C%20529.0%5D%2C%20%5B12.9575547%2C%2077.5979099%2C%20511.0%5D%2C%20%5B18.5322493%2C%2073.8499601124847%2C%20499.0%5D%2C%20%5B12.9624669%2C%2077.6381958%2C%20496.0%5D%2C%20%5B31.89376%2C%20-88.066644%2C%20491.0%5D%2C%20%5B-8.9189606%2C%2033.4588989%2C%20446.0%5D%2C%20%5B12.945245%2C%2077.6269144%2C%20439.0%5D%2C%20%5B51.5153824%2C%20-0.0719631%2C%20370.0%5D%2C%20%5B51.5227651%2C%20-0.7354457%2C%20352.0%5D%2C%20%5B12.9417812%2C%2077.6160146%2C%20320.0%5D%2C%20%5B12.988721250000001%2C%2077.58516877601824%2C%20295.0%5D%2C%20%5B12.9678074%2C%2077.6568367%2C%20272.0%5D%2C%20%5B12.9489339%2C%2077.5968273%2C%20246.0%5D%2C%20%5B12.9089453%2C%2077.6239038%2C%20238.0%5D%2C%20%5B12.9271867%2C%2077.6266252%2C%20216.0%5D%2C%20%5B12.9081487%2C%2077.5553179%2C%20195.0%5D%2C%20%5B12.973936%2C%2077.6509982%2C%20194.0%5D%2C%20%5B12.9932739%2C%2077.5388099%2C%20191.0%5D%2C%20%5B13.2227%2C%2078.5541977%2C%20187.0%5D%2C%20%5B12.9931876%2C%2077.5753419%2C%20165.0%5D%2C%20%5B13.0258087%2C%2077.6305067%2C%20161.0%5D%2C%20%5B1.2847055%2C%20103.84320655721689%2C%20155.0%5D%2C%20%5B13.0358698%2C%2077.6323597%2C%20153.0%5D%2C%20%5B34.977289%2C%20-78.974578%2C%20151.0%5D%2C%20%5B22.3146438%2C%2073.1597756%2C%20139.0%5D%2C%20%5B39.76880625%2C%20-86.15345077251979%2C%20126.0%5D%2C%20%5B13.02383%2C%2077.5529215%2C%20119.0%5D%2C%20%5B12.9414662%2C%2077.7470942%2C%20117.0%5D%2C%20%5B12.967576%2C%2077.7150877%2C%20113.0%5D%2C%20%5B13.0646907%2C%2077.49626895712257%2C%20107.0%5D%2C%20%5B12.9243509%2C%2077.6255562%2C%20102.0%5D%2C%20%5B12.773175%2C%2077.7831871%2C%20102.0%5D%2C%20%5B12.9846713%2C%2077.6790908%2C%20101.0%5D%2C%20%5B17.2510682%2C%2080.1651978%2C%2090.0%5D%2C%20%5B22.8359967%2C%2069.3405962%2C%2080.0%5D%2C%20%5B13.0227204%2C%2077.595715%2C%2080.0%5D%2C%20%5B23.1485712%2C%2081.6048241%2C%2076.0%5D%2C%20%5B15.8782951%2C%2074.5084834%2C%2063.0%5D%2C%20%5B13.0621474%2C%2077.58006135480495%2C%2053.0%5D%2C%20%5B13.2923988%2C%2077.7519261%2C%2048.0%5D%2C%20%5B13.0215466%2C%2077.7640586%2C%2044.0%5D%2C%20%5B11.9917786%2C%2076.5066292%2C%2038.0%5D%2C%20%5B12.945048%2C%2077.263004%2C%2034.0%5D%2C%20%5B12.957998%2C%2077.6037312%2C%2027.0%5D%2C%20%5B38.7801076%2C%20-121.5056438%2C%2027.0%5D%2C%20%5B13.194416%2C%2078.7011301%2C%2022.0%5D%2C%20%5B12.3872141%2C%2076.6669626%2C%2022.0%5D%2C%20%5B12.5607431%2C%2077.4258375%2C%2019.0%5D%2C%20%5B13.007516%2C%2077.695935%2C%2018.0%5D%2C%20%5B12.9055682%2C%2077.5455438%2C%2017.0%5D%2C%20%5B13.0217151%2C%2077.7660547%2C%2014.0%5D%2C%20%5B13.0382184%2C%2077.5919%2C%2014.0%5D%2C%20%5B12.9176571%2C%2077.4837568%2C%209.0%5D%2C%20%5B12.9546741%2C%2077.5121724%2C%209.0%5D%2C%20%5B13.0101286%2C%2077.5548006%2C%208.0%5D%2C%20%5B13.1006982%2C%2077.5963454%2C%206.0%5D%2C%20%5B13.0011289%2C%2077.6325617%2C%206.0%5D%2C%20%5B13.0784743%2C%2077.6068938%2C%203.0%5D%2C%20%5B12.9274413%2C%2077.5155224%2C%202.0%5D%2C%20%5B13.0329419%2C%2077.5273253%2C%201.0%5D%5D%3B%0A%20%20%20%20%20%20%20%20%20%20%20%20%20%20%20%20var%20cluster%20%3D%20L.markerClusterGroup%28%7B%22zoom%22%3A%2020%7D%29%3B%0A%0A%20%20%20%20%20%20%20%20%20%20%20%20%20%20%20%20for%20%28var%20i%20%3D%200%3B%20i%20%3C%20data.length%3B%20i%2B%2B%29%20%7B%0A%20%20%20%20%20%20%20%20%20%20%20%20%20%20%20%20%20%20%20%20var%20row%20%3D%20data%5Bi%5D%3B%0A%20%20%20%20%20%20%20%20%20%20%20%20%20%20%20%20%20%20%20%20var%20marker%20%3D%20callback%28row%29%3B%0A%20%20%20%20%20%20%20%20%20%20%20%20%20%20%20%20%20%20%20%20marker.addTo%28cluster%29%3B%0A%20%20%20%20%20%20%20%20%20%20%20%20%20%20%20%20%7D%0A%0A%20%20%20%20%20%20%20%20%20%20%20%20%20%20%20%20cluster.addTo%28map_7ed7ec28ba174e95b86571b60b9b069b%29%3B%0A%20%20%20%20%20%20%20%20%20%20%20%20%20%20%20%20return%20cluster%3B%0A%20%20%20%20%20%20%20%20%20%20%20%20%7D%29%28%29%3B%0A%20%20%20%20%20%20%20%20%0A%20%20%20%20%0A%20%20%20%20%20%20%20%20%20%20%20%20var%20fast_marker_cluster_866a2a169704471caed40aae192a79af%20%3D%20%28function%28%29%7B%0A%20%20%20%20%20%20%20%20%20%20%20%20%20%20%20%20%0A%20%20%20%20%20%20%20%20%20%20%20%20%20%20%20%20var%20callback%20%3D%20function%20%28row%29%20%7B%0A%20%20%20%20%20%20%20%20%20%20%20%20%20%20%20%20%20%20%20%20var%20icon%20%3D%20L.AwesomeMarkers.icon%28%29%3B%0A%20%20%20%20%20%20%20%20%20%20%20%20%20%20%20%20%20%20%20%20var%20marker%20%3D%20L.marker%28new%20L.LatLng%28row%5B0%5D%2C%20row%5B1%5D%29%29%3B%0A%20%20%20%20%20%20%20%20%20%20%20%20%20%20%20%20%20%20%20%20marker.setIcon%28icon%29%3B%0A%20%20%20%20%20%20%20%20%20%20%20%20%20%20%20%20%20%20%20%20return%20marker%3B%0A%20%20%20%20%20%20%20%20%20%20%20%20%20%20%20%20%7D%3B%0A%0A%20%20%20%20%20%20%20%20%20%20%20%20%20%20%20%20var%20data%20%3D%20%5B%5B45.95485055%2C%20-112.49659530324134%2C%205124.0%5D%2C%20%5B18.1475%2C%2041.538889%2C%202523.0%5D%2C%20%5B13.00540865%2C%2074.79460685941484%2C%202504.0%5D%2C%20%5B12.2655944%2C%2076.6465404%2C%202235.0%5D%2C%20%5B44.3730577%2C%20-71.6118577%2C%202144.0%5D%2C%20%5B12.9732913%2C%2077.6404672%2C%202083.0%5D%2C%20%5B27.64392675%2C%2083.05280519687284%2C%201926.0%5D%2C%20%5B12.9552572%2C%2077.6984163%2C%201846.0%5D%2C%20%5B12.887979%2C%2077.5970812%2C%201630.0%5D%2C%20%5B12.93577245%2C%2077.66676103753434%2C%201286.0%5D%2C%20%5B-6.2659285%2C%20106.7842561%2C%201258.0%5D%2C%20%5B14.5395813%2C%20121.070371%2C%201238.0%5D%2C%20%5B40.28745%2C%20-76.964526%2C%201218.0%5D%2C%20%5B13.0078418%2C%2074.7963208%2C%201181.0%5D%2C%20%5B12.9400321%2C%2077.6203272%2C%201156.0%5D%2C%20%5B12.9242381%2C%2077.6289059%2C%201065.0%5D%2C%20%5B12.9778793%2C%2077.6246697%2C%201023.0%5D%2C%20%5B12.93433385%2C%2077.63040639553275%2C%201017.0%5D%2C%20%5B17.9895618%2C%2079.5967057%2C%20918.0%5D%2C%20%5B15.8876779%2C%2075.7046777%2C%20906.0%5D%2C%20%5B13.0221416%2C%2077.6403368%2C%20853.0%5D%2C%20%5B50.7721586%2C%200.09772783661369303%2C%20812.0%5D%2C%20%5B12.996845%2C%2077.6130165%2C%20727.0%5D%2C%20%5B13.0027353%2C%2077.5703253%2C%20725.0%5D%2C%20%5B12.9417261%2C%2077.5755021%2C%20684.0%5D%2C%20%5B38.7385916%2C%20-77.5275749%2C%20675.0%5D%2C%20%5B13.0141618%2C%2077.6518539%2C%20664.0%5D%2C%20%5B33.5935063%2C%20-79.0345627%2C%20658.0%5D%2C%20%5B13.0346384%2C%2077.5681733%2C%20649.0%5D%2C%20%5B13.0093455%2C%2077.6377094%2C%20648.0%5D%2C%20%5B12.9882338%2C%2077.554883%2C%20591.0%5D%2C%20%5B51.373656%2C%20-0.1042366%2C%20569.0%5D%2C%20%5B40.7652844%2C%20-76.373824%2C%20529.0%5D%2C%20%5B12.9575547%2C%2077.5979099%2C%20511.0%5D%2C%20%5B18.5322493%2C%2073.8499601124847%2C%20499.0%5D%2C%20%5B12.9624669%2C%2077.6381958%2C%20496.0%5D%2C%20%5B31.89376%2C%20-88.066644%2C%20491.0%5D%2C%20%5B-8.9189606%2C%2033.4588989%2C%20446.0%5D%2C%20%5B12.945245%2C%2077.6269144%2C%20439.0%5D%2C%20%5B51.5153824%2C%20-0.0719631%2C%20370.0%5D%2C%20%5B51.5227651%2C%20-0.7354457%2C%20352.0%5D%2C%20%5B12.9417812%2C%2077.6160146%2C%20320.0%5D%2C%20%5B12.988721250000001%2C%2077.58516877601824%2C%20295.0%5D%2C%20%5B12.9678074%2C%2077.6568367%2C%20272.0%5D%2C%20%5B12.9489339%2C%2077.5968273%2C%20246.0%5D%2C%20%5B12.9089453%2C%2077.6239038%2C%20238.0%5D%2C%20%5B12.9271867%2C%2077.6266252%2C%20216.0%5D%2C%20%5B12.9081487%2C%2077.5553179%2C%20195.0%5D%2C%20%5B12.973936%2C%2077.6509982%2C%20194.0%5D%2C%20%5B12.9932739%2C%2077.5388099%2C%20191.0%5D%2C%20%5B13.2227%2C%2078.5541977%2C%20187.0%5D%2C%20%5B12.9931876%2C%2077.5753419%2C%20165.0%5D%2C%20%5B13.0258087%2C%2077.6305067%2C%20161.0%5D%2C%20%5B1.2847055%2C%20103.84320655721689%2C%20155.0%5D%2C%20%5B13.0358698%2C%2077.6323597%2C%20153.0%5D%2C%20%5B34.977289%2C%20-78.974578%2C%20151.0%5D%2C%20%5B22.3146438%2C%2073.1597756%2C%20139.0%5D%2C%20%5B39.76880625%2C%20-86.15345077251979%2C%20126.0%5D%2C%20%5B13.02383%2C%2077.5529215%2C%20119.0%5D%2C%20%5B12.9414662%2C%2077.7470942%2C%20117.0%5D%2C%20%5B12.967576%2C%2077.7150877%2C%20113.0%5D%2C%20%5B13.0646907%2C%2077.49626895712257%2C%20107.0%5D%2C%20%5B12.9243509%2C%2077.6255562%2C%20102.0%5D%2C%20%5B12.773175%2C%2077.7831871%2C%20102.0%5D%2C%20%5B12.9846713%2C%2077.6790908%2C%20101.0%5D%2C%20%5B17.2510682%2C%2080.1651978%2C%2090.0%5D%2C%20%5B22.8359967%2C%2069.3405962%2C%2080.0%5D%2C%20%5B13.0227204%2C%2077.595715%2C%2080.0%5D%2C%20%5B23.1485712%2C%2081.6048241%2C%2076.0%5D%2C%20%5B15.8782951%2C%2074.5084834%2C%2063.0%5D%2C%20%5B13.0621474%2C%2077.58006135480495%2C%2053.0%5D%2C%20%5B13.2923988%2C%2077.7519261%2C%2048.0%5D%2C%20%5B13.0215466%2C%2077.7640586%2C%2044.0%5D%2C%20%5B11.9917786%2C%2076.5066292%2C%2038.0%5D%2C%20%5B12.945048%2C%2077.263004%2C%2034.0%5D%2C%20%5B12.957998%2C%2077.6037312%2C%2027.0%5D%2C%20%5B38.7801076%2C%20-121.5056438%2C%2027.0%5D%2C%20%5B13.194416%2C%2078.7011301%2C%2022.0%5D%2C%20%5B12.3872141%2C%2076.6669626%2C%2022.0%5D%2C%20%5B12.5607431%2C%2077.4258375%2C%2019.0%5D%2C%20%5B13.007516%2C%2077.695935%2C%2018.0%5D%2C%20%5B12.9055682%2C%2077.5455438%2C%2017.0%5D%2C%20%5B13.0217151%2C%2077.7660547%2C%2014.0%5D%2C%20%5B13.0382184%2C%2077.5919%2C%2014.0%5D%2C%20%5B12.9176571%2C%2077.4837568%2C%209.0%5D%2C%20%5B12.9546741%2C%2077.5121724%2C%209.0%5D%2C%20%5B13.0101286%2C%2077.5548006%2C%208.0%5D%2C%20%5B13.1006982%2C%2077.5963454%2C%206.0%5D%2C%20%5B13.0011289%2C%2077.6325617%2C%206.0%5D%2C%20%5B13.0784743%2C%2077.6068938%2C%203.0%5D%2C%20%5B12.9274413%2C%2077.5155224%2C%202.0%5D%2C%20%5B13.0329419%2C%2077.5273253%2C%201.0%5D%5D%3B%0A%20%20%20%20%20%20%20%20%20%20%20%20%20%20%20%20var%20cluster%20%3D%20L.markerClusterGroup%28%7B%22zoom%22%3A%2020%7D%29%3B%0A%0A%20%20%20%20%20%20%20%20%20%20%20%20%20%20%20%20for%20%28var%20i%20%3D%200%3B%20i%20%3C%20data.length%3B%20i%2B%2B%29%20%7B%0A%20%20%20%20%20%20%20%20%20%20%20%20%20%20%20%20%20%20%20%20var%20row%20%3D%20data%5Bi%5D%3B%0A%20%20%20%20%20%20%20%20%20%20%20%20%20%20%20%20%20%20%20%20var%20marker%20%3D%20callback%28row%29%3B%0A%20%20%20%20%20%20%20%20%20%20%20%20%20%20%20%20%20%20%20%20marker.addTo%28cluster%29%3B%0A%20%20%20%20%20%20%20%20%20%20%20%20%20%20%20%20%7D%0A%0A%20%20%20%20%20%20%20%20%20%20%20%20%20%20%20%20cluster.addTo%28map_7ed7ec28ba174e95b86571b60b9b069b%29%3B%0A%20%20%20%20%20%20%20%20%20%20%20%20%20%20%20%20return%20cluster%3B%0A%20%20%20%20%20%20%20%20%20%20%20%20%7D%29%28%29%3B%0A%20%20%20%20%20%20%20%20%0A%20%20%20%20%0A%20%20%20%20%20%20%20%20%20%20%20%20var%20heat_map_c8e7a9f3ca834602896be0a096235e1b%20%3D%20L.heatLayer%28%0A%20%20%20%20%20%20%20%20%20%20%20%20%20%20%20%20%5B%5B40.7652844%2C%20-76.373824%2C%204.04288577154309%5D%2C%20%5B51.5227651%2C%20-0.7354457%2C%204.0172011661807625%5D%2C%20%5B12.9271867%2C%2077.6266252%2C%203.9787564766839405%5D%2C%20%5B38.7801076%2C%20-121.5056438%2C%203.9653846153846155%5D%2C%20%5B51.373656%2C%20-0.1042366%2C%203.9630909090909086%5D%2C%20%5B13.00540865%2C%2074.79460685941484%2C%203.901511969760601%5D%2C%20%5B31.89376%2C%20-88.066644%2C%203.901052631578944%5D%2C%20%5B12.9274413%2C%2077.5155224%2C%203.85%5D%2C%20%5B38.7385916%2C%20-77.5275749%2C%203.8445723684210518%5D%2C%20%5B15.8782951%2C%2074.5084834%2C%203.839655172413795%5D%2C%20%5B12.93433385%2C%2077.63040639553275%2C%203.8143518518518587%5D%2C%20%5B12.957998%2C%2077.6037312%2C%203.8074074074074087%5D%2C%20%5B34.977289%2C%20-78.974578%2C%203.796428571428575%5D%2C%20%5B13.0078418%2C%2074.7963208%2C%203.7478420569329716%5D%2C%20%5B17.9895618%2C%2079.5967057%2C%203.740550239234445%5D%2C%20%5B22.3146438%2C%2073.1597756%2C%203.7270072992700722%5D%2C%20%5B12.9176571%2C%2077.4837568%2C%203.7222222222222223%5D%2C%20%5B12.9931876%2C%2077.5753419%2C%203.7049295774647875%5D%2C%20%5B50.7721586%2C%200.09772783661369303%2C%203.6880126182965247%5D%2C%20%5B12.773175%2C%2077.7831871%2C%203.687837837837837%5D%2C%20%5B13.0027353%2C%2077.5703253%2C%203.6682370820668657%5D%2C%20%5B12.9400321%2C%2077.6203272%2C%203.662466246624663%5D%2C%20%5B12.9732913%2C%2077.6404672%2C%203.6521694214876%5D%2C%20%5B13.1006982%2C%2077.5963454%2C%203.6399999999999997%5D%2C%20%5B13.0101286%2C%2077.5548006%2C%203.6250000000000004%5D%2C%20%5B27.64392675%2C%2083.05280519687284%2C%203.615250291036089%5D%2C%20%5B12.9417812%2C%2077.6160146%2C%203.607499999999995%5D%2C%20%5B13.2923988%2C%2077.7519261%2C%203.6064516129032267%5D%2C%20%5B40.28745%2C%20-76.964526%2C%203.5958487084870887%5D%2C%20%5B13.0346384%2C%2077.5681733%2C%203.583173996175911%5D%2C%20%5B12.988721250000001%2C%2077.58516877601824%2C%203.5809523809523807%5D%2C%20%5B12.996845%2C%2077.6130165%2C%203.564878892733561%5D%2C%20%5B12.9243509%2C%2077.6255562%2C%203.545652173913042%5D%2C%20%5B12.9778793%2C%2077.6246697%2C%203.541398446170927%5D%2C%20%5B13.0221416%2C%2077.6403368%2C%203.5291443850267377%5D%2C%20%5B12.9055682%2C%2077.5455438%2C%203.511111111111111%5D%2C%20%5B13.02383%2C%2077.5529215%2C%203.5026785714285693%5D%2C%20%5B13.0093455%2C%2077.6377094%2C%203.499809523809525%5D%2C%20%5B18.5322493%2C%2073.8499601124847%2C%203.498916967509032%5D%2C%20%5B11.9917786%2C%2076.5066292%2C%203.4869565217391307%5D%2C%20%5B18.1475%2C%2041.538889%2C%203.484069548872181%5D%2C%20%5B12.5607431%2C%2077.4258375%2C%203.478947368421052%5D%2C%20%5B13.0621474%2C%2077.58006135480495%2C%203.478723404255319%5D%2C%20%5B12.9417261%2C%2077.5755021%2C%203.478184713375793%5D%2C%20%5B12.9846713%2C%2077.6790908%2C%203.4736263736263737%5D%2C%20%5B12.9242381%2C%2077.6289059%2C%203.4735582154515736%5D%2C%20%5B12.3872141%2C%2076.6669626%2C%203.4555555555555566%5D%2C%20%5B39.76880625%2C%20-86.15345077251979%2C%203.4461538461538463%5D%2C%20%5B12.9932739%2C%2077.5388099%2C%203.445517241379311%5D%2C%20%5B12.945048%2C%2077.263004%2C%203.4375000000000004%5D%2C%20%5B12.9678074%2C%2077.6568367%2C%203.4297709923664126%5D%2C%20%5B12.9882338%2C%2077.554883%2C%203.422381930184803%5D%2C%20%5B13.0646907%2C%2077.49626895712257%2C%203.419780219780221%5D%2C%20%5B12.2655944%2C%2076.6465404%2C%203.412925905895076%5D%2C%20%5B12.9552572%2C%2077.6984163%2C%203.400532268795743%5D%2C%20%5B12.9546741%2C%2077.5121724%2C%203.4%5D%2C%20%5B-8.9189606%2C%2033.4588989%2C%203.3891191709844577%5D%2C%20%5B12.9624669%2C%2077.6381958%2C%203.385547785547788%5D%2C%20%5B44.3730577%2C%20-71.6118577%2C%203.3841701122268155%5D%2C%20%5B33.5935063%2C%20-79.0345627%2C%203.374698795180724%5D%2C%20%5B15.8876779%2C%2075.7046777%2C%203.373291925465841%5D%2C%20%5B13.0141618%2C%2077.6518539%2C%203.3629258517034093%5D%2C%20%5B23.1485712%2C%2081.6048241%2C%203.3600000000000008%5D%2C%20%5B13.2227%2C%2078.5541977%2C%203.3333333333333335%5D%2C%20%5B12.9575547%2C%2077.5979099%2C%203.323589743589747%5D%2C%20%5B12.967576%2C%2077.7150877%2C%203.3202380952380954%5D%2C%20%5B12.9081487%2C%2077.5553179%2C%203.3202380952380954%5D%2C%20%5B12.93577245%2C%2077.66676103753434%2C%203.309833024118736%5D%2C%20%5B12.9414662%2C%2077.7470942%2C%203.2989247311827947%5D%2C%20%5B45.95485055%2C%20-112.49659530324134%2C%203.296127669561143%5D%2C%20%5B1.2847055%2C%20103.84320655721689%2C%203.294067796610167%5D%2C%20%5B13.0358698%2C%2077.6323597%2C%203.279279279279278%5D%2C%20%5B13.0227204%2C%2077.595715%2C%203.278124999999999%5D%2C%20%5B12.887979%2C%2077.5970812%2C%203.2716767371601234%5D%2C%20%5B14.5395813%2C%20121.070371%2C%203.263937823834194%5D%2C%20%5B12.9489339%2C%2077.5968273%2C%203.2576354679802924%5D%2C%20%5B22.8359967%2C%2069.3405962%2C%203.2492957746478885%5D%2C%20%5B13.0215466%2C%2077.7640586%2C%203.2433333333333327%5D%2C%20%5B13.007516%2C%2077.695935%2C%203.2181818181818183%5D%2C%20%5B17.2510682%2C%2080.1651978%2C%203.215151515151515%5D%2C%20%5B13.0329419%2C%2077.5273253%2C%203.2%5D%2C%20%5B13.194416%2C%2078.7011301%2C%203.1818181818181825%5D%2C%20%5B51.5182611%2C%20-0.0742531%2C%203.109708737864077%5D%2C%20%5B12.973936%2C%2077.6509982%2C%203.0953947368421058%5D%2C%20%5B13.0258087%2C%2077.6305067%2C%203.0938931297709917%5D%2C%20%5B12.945245%2C%2077.6269144%2C%203.05472972972973%5D%2C%20%5B-6.2659285%2C%20106.7842561%2C%203.0419087136929477%5D%2C%20%5B12.9089453%2C%2077.6239038%2C%202.92675159235669%5D%2C%20%5B13.0382184%2C%2077.5919%2C%202.88%5D%2C%20%5B13.0217151%2C%2077.7660547%2C%202.385714285714286%5D%2C%20%5B13.0011289%2C%2077.6325617%2C%202.02%5D%5D%2C%0A%20%20%20%20%20%20%20%20%20%20%20%20%20%20%20%20%7B%22blur%22%3A%2015%2C%20%22maxZoom%22%3A%2018%2C%20%22minOpacity%22%3A%200.5%2C%20%22radius%22%3A%2025%7D%0A%20%20%20%20%20%20%20%20%20%20%20%20%29.addTo%28map_7ed7ec28ba174e95b86571b60b9b069b%29%3B%0A%20%20%20%20%20%20%20%20%0A%20%20%20%20%0A%20%20%20%20%20%20%20%20%20%20%20%20var%20heat_map_9522419ca3414b1db59a0df481e7bdec%20%3D%20L.heatLayer%28%0A%20%20%20%20%20%20%20%20%20%20%20%20%20%20%20%20%5B%5B45.95485055%2C%20-112.49659530324134%2C%20274.0%5D%2C%20%5B15.8876779%2C%2075.7046777%2C%2035.0%5D%2C%20%5B13.0141618%2C%2077.6518539%2C%209.0%5D%2C%20%5B12.887979%2C%2077.5970812%2C%2060.0%5D%2C%20%5B12.9417261%2C%2077.5755021%2C%2017.0%5D%2C%20%5B12.9932739%2C%2077.5388099%2C%201.0%5D%2C%20%5B12.93577245%2C%2077.66676103753434%2C%20131.0%5D%2C%20%5B12.9089453%2C%2077.6239038%2C%206.0%5D%2C%20%5B40.28745%2C%20-76.964526%2C%2039.0%5D%2C%20%5B33.5935063%2C%20-79.0345627%2C%2042.0%5D%2C%20%5B17.2510682%2C%2080.1651978%2C%209.0%5D%2C%20%5B51.373656%2C%20-0.1042366%2C%2029.0%5D%2C%20%5B51.5153824%2C%20-0.0719631%2C%2011.0%5D%2C%20%5B12.9624669%2C%2077.6381958%2C%2029.0%5D%2C%20%5B13.0215466%2C%2077.7640586%2C%202.0%5D%2C%20%5B12.945245%2C%2077.6269144%2C%2036.0%5D%2C%20%5B-6.2659285%2C%20106.7842561%2C%2046.0%5D%2C%20%5B12.996845%2C%2077.6130165%2C%2027.0%5D%2C%20%5B13.0358698%2C%2077.6323597%2C%204.0%5D%2C%20%5B18.1475%2C%2041.538889%2C%20131.0%5D%2C%20%5B13.0258087%2C%2077.6305067%2C%202.0%5D%2C%20%5B12.773175%2C%2077.7831871%2C%208.0%5D%2C%20%5B12.967576%2C%2077.7150877%2C%208.0%5D%2C%20%5B12.9732913%2C%2077.6404672%2C%2085.0%5D%2C%20%5B12.2655944%2C%2076.6465404%2C%20135.0%5D%2C%20%5B27.64392675%2C%2083.05280519687284%2C%2025.0%5D%2C%20%5B12.9678074%2C%2077.6568367%2C%2022.0%5D%2C%20%5B12.9846713%2C%2077.6790908%2C%205.0%5D%2C%20%5B13.0221416%2C%2077.6403368%2C%2030.0%5D%2C%20%5B13.0093455%2C%2077.6377094%2C%206.0%5D%2C%20%5B14.5395813%2C%20121.070371%2C%20106.0%5D%2C%20%5B12.9271867%2C%2077.6266252%2C%206.0%5D%2C%20%5B12.93433385%2C%2077.63040639553275%2C%2054.0%5D%2C%20%5B13.00540865%2C%2074.79460685941484%2C%2038.0%5D%2C%20%5B12.9400321%2C%2077.6203272%2C%2045.0%5D%2C%20%5B13.0078418%2C%2074.7963208%2C%2098.0%5D%2C%20%5B12.9417812%2C%2077.6160146%2C%2010.0%5D%2C%20%5B12.9081487%2C%2077.5553179%2C%2021.0%5D%2C%20%5B17.9895618%2C%2079.5967057%2C%2022.0%5D%2C%20%5B1.2847055%2C%20103.84320655721689%2C%204.0%5D%2C%20%5B13.0027353%2C%2077.5703253%2C%2016.0%5D%2C%20%5B12.9552572%2C%2077.6984163%2C%20109.0%5D%2C%20%5B13.2227%2C%2078.5541977%2C%207.0%5D%2C%20%5B13.0346384%2C%2077.5681733%2C%2023.0%5D%2C%20%5B13.0217151%2C%2077.7660547%2C%201.0%5D%2C%20%5B-8.9189606%2C%2033.4588989%2C%2015.0%5D%2C%20%5B13.0227204%2C%2077.595715%2C%202.0%5D%2C%20%5B12.9882338%2C%2077.554883%2C%2012.0%5D%2C%20%5B38.7385916%2C%20-77.5275749%2C%2019.0%5D%2C%20%5B50.7721586%2C%200.09772783661369303%2C%2036.0%5D%2C%20%5B15.8782951%2C%2074.5084834%2C%205.0%5D%2C%20%5B23.1485712%2C%2081.6048241%2C%203.0%5D%2C%20%5B38.7801076%2C%20-121.5056438%2C%203.0%5D%2C%20%5B12.9242381%2C%2077.6289059%2C%2050.0%5D%2C%20%5B12.9931876%2C%2077.5753419%2C%206.0%5D%2C%20%5B12.9575547%2C%2077.5979099%2C%2034.0%5D%2C%20%5B18.5322493%2C%2073.8499601124847%2C%2012.0%5D%2C%20%5B12.973936%2C%2077.6509982%2C%2013.0%5D%2C%20%5B12.9778793%2C%2077.6246697%2C%2057.0%5D%2C%20%5B12.9414662%2C%2077.7470942%2C%203.0%5D%2C%20%5B12.988721250000001%2C%2077.58516877601824%2C%2012.0%5D%2C%20%5B44.3730577%2C%20-71.6118577%2C%20148.0%5D%2C%20%5B12.9489339%2C%2077.5968273%2C%2037.0%5D%2C%20%5B13.02383%2C%2077.5529215%2C%203.0%5D%5D%2C%0A%20%20%20%20%20%20%20%20%20%20%20%20%20%20%20%20%7B%22blur%22%3A%2015%2C%20%22maxZoom%22%3A%2018%2C%20%22minOpacity%22%3A%200.5%2C%20%22radius%22%3A%2015%2C%20%22zoom%22%3A%2020%7D%0A%20%20%20%20%20%20%20%20%20%20%20%20%29.addTo%28map_7ed7ec28ba174e95b86571b60b9b069b%29%3B%0A%20%20%20%20%20%20%20%20%0A%20%20%20%20%0A%20%20%20%20%20%20%20%20%20%20%20%20var%20heat_map_b78b660ebd1a48979b438ac977e41f3d%20%3D%20L.heatLayer%28%0A%20%20%20%20%20%20%20%20%20%20%20%20%20%20%20%20%5B%5B45.95485055%2C%20-112.49659530324134%2C%2053.0%5D%2C%20%5B13.0141618%2C%2077.6518539%2C%2011.0%5D%2C%20%5B12.887979%2C%2077.5970812%2C%2014.0%5D%2C%20%5B12.9417261%2C%2077.5755021%2C%2012.0%5D%2C%20%5B12.93577245%2C%2077.66676103753434%2C%207.0%5D%2C%20%5B12.9089453%2C%2077.6239038%2C%201.0%5D%2C%20%5B40.28745%2C%20-76.964526%2C%205.0%5D%2C%20%5B33.5935063%2C%20-79.0345627%2C%201.0%5D%2C%20%5B51.373656%2C%20-0.1042366%2C%2025.0%5D%2C%20%5B31.89376%2C%20-88.066644%2C%204.0%5D%2C%20%5B12.945245%2C%2077.6269144%2C%204.0%5D%2C%20%5B-6.2659285%2C%20106.7842561%2C%208.0%5D%2C%20%5B12.996845%2C%2077.6130165%2C%206.0%5D%2C%20%5B13.0358698%2C%2077.6323597%2C%208.0%5D%2C%20%5B18.1475%2C%2041.538889%2C%2017.0%5D%2C%20%5B12.9732913%2C%2077.6404672%2C%2023.0%5D%2C%20%5B12.2655944%2C%2076.6465404%2C%2010.0%5D%2C%20%5B27.64392675%2C%2083.05280519687284%2C%206.0%5D%2C%20%5B13.0221416%2C%2077.6403368%2C%209.0%5D%2C%20%5B13.0093455%2C%2077.6377094%2C%206.0%5D%2C%20%5B14.5395813%2C%20121.070371%2C%2010.0%5D%2C%20%5B12.93433385%2C%2077.63040639553275%2C%2019.0%5D%2C%20%5B13.00540865%2C%2074.79460685941484%2C%2021.0%5D%2C%20%5B12.9400321%2C%2077.6203272%2C%2025.0%5D%2C%20%5B13.0078418%2C%2074.7963208%2C%209.0%5D%2C%20%5B12.9417812%2C%2077.6160146%2C%204.0%5D%2C%20%5B17.9895618%2C%2079.5967057%2C%206.0%5D%2C%20%5B13.0027353%2C%2077.5703253%2C%2012.0%5D%2C%20%5B12.9552572%2C%2077.6984163%2C%2012.0%5D%2C%20%5B13.2227%2C%2078.5541977%2C%202.0%5D%2C%20%5B13.0346384%2C%2077.5681733%2C%202.0%5D%2C%20%5B-8.9189606%2C%2033.4588989%2C%204.0%5D%2C%20%5B12.9882338%2C%2077.554883%2C%204.0%5D%2C%20%5B38.7385916%2C%20-77.5275749%2C%2019.0%5D%2C%20%5B50.7721586%2C%200.09772783661369303%2C%2025.0%5D%2C%20%5B12.9242381%2C%2077.6289059%2C%202.0%5D%2C%20%5B13.0646907%2C%2077.49626895712257%2C%206.0%5D%2C%20%5B12.973936%2C%2077.6509982%2C%201.0%5D%2C%20%5B12.9778793%2C%2077.6246697%2C%2018.0%5D%2C%20%5B44.3730577%2C%20-71.6118577%2C%2018.0%5D%5D%2C%0A%20%20%20%20%20%20%20%20%20%20%20%20%20%20%20%20%7B%22blur%22%3A%2015%2C%20%22maxZoom%22%3A%2018%2C%20%22minOpacity%22%3A%200.5%2C%20%22radius%22%3A%2015%2C%20%22zoom%22%3A%2020%7D%0A%20%20%20%20%20%20%20%20%20%20%20%20%29.addTo%28map_7ed7ec28ba174e95b86571b60b9b069b%29%3B%0A%20%20%20%20%20%20%20%20%0A%20%20%20%20%0A%20%20%20%20%20%20%20%20%20%20%20%20var%20heat_map_665ba6939c5f44d6b547052e8a228f41%20%3D%20L.heatLayer%28%0A%20%20%20%20%20%20%20%20%20%20%20%20%20%20%20%20%5B%5B45.95485055%2C%20-112.49659530324134%2C%2053.0%5D%2C%20%5B13.0141618%2C%2077.6518539%2C%2011.0%5D%2C%20%5B12.887979%2C%2077.5970812%2C%2014.0%5D%2C%20%5B12.9417261%2C%2077.5755021%2C%2012.0%5D%2C%20%5B12.93577245%2C%2077.66676103753434%2C%207.0%5D%2C%20%5B12.9089453%2C%2077.6239038%2C%201.0%5D%2C%20%5B40.28745%2C%20-76.964526%2C%205.0%5D%2C%20%5B33.5935063%2C%20-79.0345627%2C%201.0%5D%2C%20%5B51.373656%2C%20-0.1042366%2C%2025.0%5D%2C%20%5B31.89376%2C%20-88.066644%2C%204.0%5D%2C%20%5B12.945245%2C%2077.6269144%2C%204.0%5D%2C%20%5B-6.2659285%2C%20106.7842561%2C%208.0%5D%2C%20%5B12.996845%2C%2077.6130165%2C%206.0%5D%2C%20%5B13.0358698%2C%2077.6323597%2C%208.0%5D%2C%20%5B18.1475%2C%2041.538889%2C%2017.0%5D%2C%20%5B12.9732913%2C%2077.6404672%2C%2023.0%5D%2C%20%5B12.2655944%2C%2076.6465404%2C%2010.0%5D%2C%20%5B27.64392675%2C%2083.05280519687284%2C%206.0%5D%2C%20%5B13.0221416%2C%2077.6403368%2C%209.0%5D%2C%20%5B13.0093455%2C%2077.6377094%2C%206.0%5D%2C%20%5B14.5395813%2C%20121.070371%2C%2010.0%5D%2C%20%5B12.93433385%2C%2077.63040639553275%2C%2019.0%5D%2C%20%5B13.00540865%2C%2074.79460685941484%2C%2021.0%5D%2C%20%5B12.9400321%2C%2077.6203272%2C%2025.0%5D%2C%20%5B13.0078418%2C%2074.7963208%2C%209.0%5D%2C%20%5B12.9417812%2C%2077.6160146%2C%204.0%5D%2C%20%5B17.9895618%2C%2079.5967057%2C%206.0%5D%2C%20%5B13.0027353%2C%2077.5703253%2C%2012.0%5D%2C%20%5B12.9552572%2C%2077.6984163%2C%2012.0%5D%2C%20%5B13.2227%2C%2078.5541977%2C%202.0%5D%2C%20%5B13.0346384%2C%2077.5681733%2C%202.0%5D%2C%20%5B-8.9189606%2C%2033.4588989%2C%204.0%5D%2C%20%5B12.9882338%2C%2077.554883%2C%204.0%5D%2C%20%5B38.7385916%2C%20-77.5275749%2C%2019.0%5D%2C%20%5B50.7721586%2C%200.09772783661369303%2C%2025.0%5D%2C%20%5B12.9242381%2C%2077.6289059%2C%202.0%5D%2C%20%5B13.0646907%2C%2077.49626895712257%2C%206.0%5D%2C%20%5B12.973936%2C%2077.6509982%2C%201.0%5D%2C%20%5B12.9778793%2C%2077.6246697%2C%2018.0%5D%2C%20%5B44.3730577%2C%20-71.6118577%2C%2018.0%5D%5D%2C%0A%20%20%20%20%20%20%20%20%20%20%20%20%20%20%20%20%7B%22blur%22%3A%2015%2C%20%22maxZoom%22%3A%2018%2C%20%22minOpacity%22%3A%200.5%2C%20%22radius%22%3A%2015%2C%20%22zoom%22%3A%2020%7D%0A%20%20%20%20%20%20%20%20%20%20%20%20%29.addTo%28map_7ed7ec28ba174e95b86571b60b9b069b%29%3B%0A%20%20%20%20%20%20%20%20%0A%20%20%20%20%0A%20%20%20%20%20%20%20%20%20%20%20%20var%20heat_map_b734ed19c3e1417bb4f19e09e132e89e%20%3D%20L.heatLayer%28%0A%20%20%20%20%20%20%20%20%20%20%20%20%20%20%20%20%5B%5B45.95485055%2C%20-112.49659530324134%2C%2053.0%5D%2C%20%5B13.0141618%2C%2077.6518539%2C%2011.0%5D%2C%20%5B12.887979%2C%2077.5970812%2C%2014.0%5D%2C%20%5B12.9417261%2C%2077.5755021%2C%2012.0%5D%2C%20%5B12.93577245%2C%2077.66676103753434%2C%207.0%5D%2C%20%5B12.9089453%2C%2077.6239038%2C%201.0%5D%2C%20%5B40.28745%2C%20-76.964526%2C%205.0%5D%2C%20%5B33.5935063%2C%20-79.0345627%2C%201.0%5D%2C%20%5B51.373656%2C%20-0.1042366%2C%2025.0%5D%2C%20%5B31.89376%2C%20-88.066644%2C%204.0%5D%2C%20%5B12.945245%2C%2077.6269144%2C%204.0%5D%2C%20%5B-6.2659285%2C%20106.7842561%2C%208.0%5D%2C%20%5B12.996845%2C%2077.6130165%2C%206.0%5D%2C%20%5B13.0358698%2C%2077.6323597%2C%208.0%5D%2C%20%5B18.1475%2C%2041.538889%2C%2017.0%5D%2C%20%5B12.9732913%2C%2077.6404672%2C%2023.0%5D%2C%20%5B12.2655944%2C%2076.6465404%2C%2010.0%5D%2C%20%5B27.64392675%2C%2083.05280519687284%2C%206.0%5D%2C%20%5B13.0221416%2C%2077.6403368%2C%209.0%5D%2C%20%5B13.0093455%2C%2077.6377094%2C%206.0%5D%2C%20%5B14.5395813%2C%20121.070371%2C%2010.0%5D%2C%20%5B12.93433385%2C%2077.63040639553275%2C%2019.0%5D%2C%20%5B13.00540865%2C%2074.79460685941484%2C%2021.0%5D%2C%20%5B12.9400321%2C%2077.6203272%2C%2025.0%5D%2C%20%5B13.0078418%2C%2074.7963208%2C%209.0%5D%2C%20%5B12.9417812%2C%2077.6160146%2C%204.0%5D%2C%20%5B17.9895618%2C%2079.5967057%2C%206.0%5D%2C%20%5B13.0027353%2C%2077.5703253%2C%2012.0%5D%2C%20%5B12.9552572%2C%2077.6984163%2C%2012.0%5D%2C%20%5B13.2227%2C%2078.5541977%2C%202.0%5D%2C%20%5B13.0346384%2C%2077.5681733%2C%202.0%5D%2C%20%5B-8.9189606%2C%2033.4588989%2C%204.0%5D%2C%20%5B12.9882338%2C%2077.554883%2C%204.0%5D%2C%20%5B38.7385916%2C%20-77.5275749%2C%2019.0%5D%2C%20%5B50.7721586%2C%200.09772783661369303%2C%2025.0%5D%2C%20%5B12.9242381%2C%2077.6289059%2C%202.0%5D%2C%20%5B13.0646907%2C%2077.49626895712257%2C%206.0%5D%2C%20%5B12.973936%2C%2077.6509982%2C%201.0%5D%2C%20%5B12.9778793%2C%2077.6246697%2C%2018.0%5D%2C%20%5B44.3730577%2C%20-71.6118577%2C%2018.0%5D%5D%2C%0A%20%20%20%20%20%20%20%20%20%20%20%20%20%20%20%20%7B%22blur%22%3A%2015%2C%20%22maxZoom%22%3A%2018%2C%20%22minOpacity%22%3A%200.5%2C%20%22radius%22%3A%2015%2C%20%22zoom%22%3A%2020%7D%0A%20%20%20%20%20%20%20%20%20%20%20%20%29.addTo%28map_7ed7ec28ba174e95b86571b60b9b069b%29%3B%0A%20%20%20%20%20%20%20%20%0A%20%20%20%20%0A%20%20%20%20%20%20%20%20%20%20%20%20var%20heat_map_1e312297e27f42448a7009d95aba70ff%20%3D%20L.heatLayer%28%0A%20%20%20%20%20%20%20%20%20%20%20%20%20%20%20%20%5B%5D%2C%0A%20%20%20%20%20%20%20%20%20%20%20%20%20%20%20%20%7B%22blur%22%3A%2015%2C%20%22maxZoom%22%3A%2018%2C%20%22minOpacity%22%3A%200.5%2C%20%22radius%22%3A%2015%2C%20%22zoom%22%3A%2020%7D%0A%20%20%20%20%20%20%20%20%20%20%20%20%29.addTo%28map_7ed7ec28ba174e95b86571b60b9b069b%29%3B%0A%20%20%20%20%20%20%20%20%0A%3C/script%3E onload=\"this.contentDocument.open();this.contentDocument.write(    decodeURIComponent(this.getAttribute('data-html')));this.contentDocument.close();\" allowfullscreen webkitallowfullscreen mozallowfullscreen></iframe></div></div>"
            ],
            "text/plain": [
              "<folium.folium.Map at 0x21f80d33948>"
            ]
          },
          "metadata": {
            "tags": []
          },
          "execution_count": 80
        }
      ]
    },
    {
      "cell_type": "code",
      "metadata": {
        "id": "_09uCwAmok04"
      },
      "source": [
        ""
      ],
      "execution_count": null,
      "outputs": []
    }
  ]
}